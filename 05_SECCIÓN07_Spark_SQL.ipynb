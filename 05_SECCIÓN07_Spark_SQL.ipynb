{
  "nbformat": 4,
  "nbformat_minor": 0,
  "metadata": {
    "colab": {
      "provenance": [],
      "authorship_tag": "ABX9TyMzCoP9QKdlVcowD/cqSnE8",
      "include_colab_link": true
    },
    "kernelspec": {
      "name": "python3",
      "display_name": "Python 3"
    },
    "language_info": {
      "name": "python"
    }
  },
  "cells": [
    {
      "cell_type": "markdown",
      "metadata": {
        "id": "view-in-github",
        "colab_type": "text"
      },
      "source": [
        "<a href=\"https://colab.research.google.com/github/paul3183/Pyspark_BigData_Udemy/blob/main/05_SECCI%C3%93N07_Spark_SQL.ipynb\" target=\"_parent\"><img src=\"https://colab.research.google.com/assets/colab-badge.svg\" alt=\"Open In Colab\"/></a>"
      ]
    },
    {
      "cell_type": "markdown",
      "source": [
        "#SPARK SQL"
      ],
      "metadata": {
        "id": "cbjix1Fv_iC6"
      }
    },
    {
      "cell_type": "code",
      "execution_count": 1,
      "metadata": {
        "colab": {
          "base_uri": "https://localhost:8080/",
          "height": 271
        },
        "id": "nHwU-6QvL5FF",
        "outputId": "95b17154-6aaf-4f1e-d20c-78097c60f9a1"
      },
      "outputs": [
        {
          "output_type": "stream",
          "name": "stdout",
          "text": [
            "\u001b[2K     \u001b[90m━━━━━━━━━━━━━━━━━━━━━━━━━━━━━━━━━━━━━━━━\u001b[0m \u001b[32m317.0/317.0 MB\u001b[0m \u001b[31m4.0 MB/s\u001b[0m eta \u001b[36m0:00:00\u001b[0m\n",
            "\u001b[?25h  Preparing metadata (setup.py) ... \u001b[?25l\u001b[?25hdone\n",
            "  Building wheel for pyspark (setup.py) ... \u001b[?25l\u001b[?25hdone\n"
          ]
        },
        {
          "output_type": "execute_result",
          "data": {
            "text/plain": [
              "<pyspark.sql.session.SparkSession at 0x7d9272737280>"
            ],
            "text/html": [
              "\n",
              "            <div>\n",
              "                <p><b>SparkSession - in-memory</b></p>\n",
              "                \n",
              "        <div>\n",
              "            <p><b>SparkContext</b></p>\n",
              "\n",
              "            <p><a href=\"http://8a5af5912490:4040\">Spark UI</a></p>\n",
              "\n",
              "            <dl>\n",
              "              <dt>Version</dt>\n",
              "                <dd><code>v3.4.3</code></dd>\n",
              "              <dt>Master</dt>\n",
              "                <dd><code>local[*]</code></dd>\n",
              "              <dt>AppName</dt>\n",
              "                <dd><code>pyspark-shell</code></dd>\n",
              "            </dl>\n",
              "        </div>\n",
              "        \n",
              "            </div>\n",
              "        "
            ]
          },
          "metadata": {},
          "execution_count": 1
        }
      ],
      "source": [
        "# Instalar SDK Java 8\n",
        "\n",
        "!apt-get install openjdk-8-jdk-headless -qq > /dev/null\n",
        "\n",
        "# Descargar Spark 3.4.3\n",
        "\n",
        "!wget -q https://archive.apache.org/dist/spark/spark-3.4.3/spark-3.4.3-bin-hadoop3.tgz\n",
        "\n",
        "# Descomprimir el archivo descargado de Spark\n",
        "\n",
        "!tar xf spark-3.4.3-bin-hadoop3.tgz\n",
        "\n",
        "# Establecer las variables de entorno\n",
        "\n",
        "import os\n",
        "\n",
        "os.environ[\"JAVA_HOME\"] = \"/usr/lib/jvm/java-8-openjdk-amd64\"\n",
        "os.environ[\"SPARK_HOME\"] = \"/content/spark-3.4.3-bin-hadoop3\"\n",
        "\n",
        "# Instalar la librería findspark\n",
        "\n",
        "!pip install -q findspark\n",
        "\n",
        "# Instalar pyspark\n",
        "\n",
        "!pip install -q pyspark\n",
        "\n",
        "# verificar la instalación ###\n",
        "\n",
        "import findspark\n",
        "\n",
        "findspark.init()\n",
        "\n",
        "from pyspark.sql import SparkSession\n",
        "\n",
        "spark = SparkSession.builder.master(\"local[*]\").getOrCreate()\n",
        "\n",
        "spark"
      ]
    },
    {
      "cell_type": "code",
      "source": [
        "sc = spark.sparkContext\n",
        "#Crear un dataframe a partir de un RDD"
      ],
      "metadata": {
        "id": "G9k5JXNl_rBe"
      },
      "execution_count": 2,
      "outputs": []
    },
    {
      "cell_type": "code",
      "source": [
        "rdd = sc.parallelize(item for item in range(10)).map(lambda x: (x, x**2))"
      ],
      "metadata": {
        "id": "ZZp-upQGBt5n"
      },
      "execution_count": 3,
      "outputs": []
    },
    {
      "cell_type": "code",
      "source": [
        "rdd.collect()"
      ],
      "metadata": {
        "colab": {
          "base_uri": "https://localhost:8080/"
        },
        "id": "UlzzNULsCGY5",
        "outputId": "e287a57b-fd07-4d39-9a62-8f25136952fd"
      },
      "execution_count": 4,
      "outputs": [
        {
          "output_type": "execute_result",
          "data": {
            "text/plain": [
              "[(0, 0),\n",
              " (1, 1),\n",
              " (2, 4),\n",
              " (3, 9),\n",
              " (4, 16),\n",
              " (5, 25),\n",
              " (6, 36),\n",
              " (7, 49),\n",
              " (8, 64),\n",
              " (9, 81)]"
            ]
          },
          "metadata": {},
          "execution_count": 4
        }
      ]
    },
    {
      "cell_type": "code",
      "source": [
        "df = rdd.toDF(['número', 'cuadrado'])"
      ],
      "metadata": {
        "id": "l6UVsUPlCIde"
      },
      "execution_count": 5,
      "outputs": []
    },
    {
      "cell_type": "code",
      "source": [
        "df.printSchema()"
      ],
      "metadata": {
        "colab": {
          "base_uri": "https://localhost:8080/"
        },
        "id": "s87aTUMyCTbn",
        "outputId": "55feb496-b916-4bd5-bec3-d60fa03ab212"
      },
      "execution_count": 6,
      "outputs": [
        {
          "output_type": "stream",
          "name": "stdout",
          "text": [
            "root\n",
            " |-- número: long (nullable = true)\n",
            " |-- cuadrado: long (nullable = true)\n",
            "\n"
          ]
        }
      ]
    },
    {
      "cell_type": "code",
      "source": [
        "df.show()"
      ],
      "metadata": {
        "colab": {
          "base_uri": "https://localhost:8080/"
        },
        "id": "nteYN5j2CWbD",
        "outputId": "ee4f0e1c-9f86-427c-f9e0-bfe7bbac1327"
      },
      "execution_count": 7,
      "outputs": [
        {
          "output_type": "stream",
          "name": "stdout",
          "text": [
            "+------+--------+\n",
            "|número|cuadrado|\n",
            "+------+--------+\n",
            "|     0|       0|\n",
            "|     1|       1|\n",
            "|     2|       4|\n",
            "|     3|       9|\n",
            "|     4|      16|\n",
            "|     5|      25|\n",
            "|     6|      36|\n",
            "|     7|      49|\n",
            "|     8|      64|\n",
            "|     9|      81|\n",
            "+------+--------+\n",
            "\n"
          ]
        }
      ]
    },
    {
      "cell_type": "code",
      "source": [
        "#CREAR un dataframe a partir de un rdd con schema\n",
        "rdd1 = sc.parallelize([(1, 'Jose', 35.5), (2, 'Teresa', 54.3), (3,'Katia', 12.7)])"
      ],
      "metadata": {
        "id": "dHcVpiytCfqA"
      },
      "execution_count": 8,
      "outputs": []
    },
    {
      "cell_type": "code",
      "source": [
        "from pyspark.sql.types import StructType, StructField, IntegerType, StringType, DoubleType"
      ],
      "metadata": {
        "id": "D1pWVxjDDBAf"
      },
      "execution_count": 9,
      "outputs": []
    },
    {
      "cell_type": "code",
      "source": [
        "#primera via o forma:\n",
        "esquema01 = StructType(\n",
        "    [\n",
        "        StructField('id', IntegerType(), True),\n",
        "        StructField('nombre', StringType(), True),\n",
        "        StructField('saldo', DoubleType(), True)\n",
        "    ]\n",
        ")"
      ],
      "metadata": {
        "id": "duiIGAUiDX-h"
      },
      "execution_count": 13,
      "outputs": []
    },
    {
      "cell_type": "code",
      "source": [
        "#segunda via o forma:\n",
        "esquema02 = \"`id` INT, `nombre` STRING, `saldo` DOUBLE\""
      ],
      "metadata": {
        "id": "kfy3ES9EEN79"
      },
      "execution_count": 14,
      "outputs": []
    },
    {
      "cell_type": "code",
      "source": [
        "df1 = spark.createDataFrame(rdd1, schema=esquema01)"
      ],
      "metadata": {
        "id": "SJ_sQl9kEexr"
      },
      "execution_count": 15,
      "outputs": []
    },
    {
      "cell_type": "code",
      "source": [
        "df1.printSchema()"
      ],
      "metadata": {
        "colab": {
          "base_uri": "https://localhost:8080/"
        },
        "id": "gw4qcHbFEo2m",
        "outputId": "ef83666e-ec56-426e-c469-5f21612f954d"
      },
      "execution_count": 16,
      "outputs": [
        {
          "output_type": "stream",
          "name": "stdout",
          "text": [
            "root\n",
            " |-- id: integer (nullable = true)\n",
            " |-- nombre: string (nullable = true)\n",
            " |-- saldo: double (nullable = true)\n",
            "\n"
          ]
        }
      ]
    },
    {
      "cell_type": "code",
      "source": [
        "df1.show()"
      ],
      "metadata": {
        "colab": {
          "base_uri": "https://localhost:8080/"
        },
        "id": "Zq8wO1gmE51o",
        "outputId": "ac16477a-85ed-47cd-bcb0-b4e814802031"
      },
      "execution_count": 17,
      "outputs": [
        {
          "output_type": "stream",
          "name": "stdout",
          "text": [
            "+---+------+-----+\n",
            "| id|nombre|saldo|\n",
            "+---+------+-----+\n",
            "|  1|  Jose| 35.5|\n",
            "|  2|Teresa| 54.3|\n",
            "|  3| Katia| 12.7|\n",
            "+---+------+-----+\n",
            "\n"
          ]
        }
      ]
    },
    {
      "cell_type": "code",
      "source": [
        "df2 = spark.createDataFrame(rdd1, schema = esquema02)"
      ],
      "metadata": {
        "id": "hkhmhsW9E93q"
      },
      "execution_count": 18,
      "outputs": []
    },
    {
      "cell_type": "code",
      "source": [
        "df2.printSchema()"
      ],
      "metadata": {
        "colab": {
          "base_uri": "https://localhost:8080/"
        },
        "id": "pZDx38SoFKLM",
        "outputId": "78bd444a-6d15-45c4-c880-25695f77ff66"
      },
      "execution_count": 19,
      "outputs": [
        {
          "output_type": "stream",
          "name": "stdout",
          "text": [
            "root\n",
            " |-- id: integer (nullable = true)\n",
            " |-- nombre: string (nullable = true)\n",
            " |-- saldo: double (nullable = true)\n",
            "\n"
          ]
        }
      ]
    },
    {
      "cell_type": "code",
      "source": [
        "df2.show()"
      ],
      "metadata": {
        "colab": {
          "base_uri": "https://localhost:8080/"
        },
        "id": "VUu1gAKxFhHo",
        "outputId": "af6f2b75-24cf-4018-ac78-90d8597eb822"
      },
      "execution_count": 20,
      "outputs": [
        {
          "output_type": "stream",
          "name": "stdout",
          "text": [
            "+---+------+-----+\n",
            "| id|nombre|saldo|\n",
            "+---+------+-----+\n",
            "|  1|  Jose| 35.5|\n",
            "|  2|Teresa| 54.3|\n",
            "|  3| Katia| 12.7|\n",
            "+---+------+-----+\n",
            "\n"
          ]
        }
      ]
    },
    {
      "cell_type": "code",
      "source": [
        "#CREAR DATAFRAMES A PARTIR DE FUENTES DE DATOS:\n",
        "#mediante la lectura de un archivo de texto:\n",
        "df = spark.read.text('./data/dataTXT.txt')"
      ],
      "metadata": {
        "id": "Nzj5lXClFkzs"
      },
      "execution_count": 22,
      "outputs": []
    },
    {
      "cell_type": "code",
      "source": [
        "df.show()"
      ],
      "metadata": {
        "colab": {
          "base_uri": "https://localhost:8080/"
        },
        "id": "A2FV0RejKBDa",
        "outputId": "4838c7e4-5278-4740-f02a-80f68ebba768"
      },
      "execution_count": null,
      "outputs": [
        {
          "output_type": "stream",
          "name": "stdout",
          "text": [
            "+--------------------+\n",
            "|               value|\n",
            "+--------------------+\n",
            "|Estamos en el cur...|\n",
            "|En este capítulo ...|\n",
            "|En esta sección e...|\n",
            "|y en este ejemplo...|\n",
            "+--------------------+\n",
            "\n"
          ]
        }
      ]
    },
    {
      "cell_type": "code",
      "source": [
        "df.show(truncate=False)"
      ],
      "metadata": {
        "colab": {
          "base_uri": "https://localhost:8080/"
        },
        "id": "To-T-RNEKD2Y",
        "outputId": "e26b5cb5-7884-41dc-c8fd-ef27adecafc1"
      },
      "execution_count": 23,
      "outputs": [
        {
          "output_type": "stream",
          "name": "stdout",
          "text": [
            "+-----------------------------------------------------------------------+\n",
            "|value                                                                  |\n",
            "+-----------------------------------------------------------------------+\n",
            "|Estamos en el curso de pyspark                                         |\n",
            "|En este capítulo estamos estudiando el API SQL de Saprk                |\n",
            "|En esta sección estamos creado dataframes a partir de fuentes de datos,|\n",
            "|y en este ejemplo creamos un dataframe a partir de un texto plano      |\n",
            "+-----------------------------------------------------------------------+\n",
            "\n"
          ]
        }
      ]
    },
    {
      "cell_type": "code",
      "source": [
        "#crear un dataframe mediante la lectura de un csv:\n",
        "df1 = spark.read.csv('/content/data/dataCSV.csv')"
      ],
      "metadata": {
        "id": "5WchgUhoKTXo"
      },
      "execution_count": 25,
      "outputs": []
    },
    {
      "cell_type": "code",
      "source": [
        "df1.show()"
      ],
      "metadata": {
        "colab": {
          "base_uri": "https://localhost:8080/"
        },
        "id": "lK7QWHl1KtK6",
        "outputId": "51d059f1-9e5e-45cd-d259-39137ecc7ad9"
      },
      "execution_count": null,
      "outputs": [
        {
          "output_type": "stream",
          "name": "stdout",
          "text": [
            "+-----------+-------------+--------------------+--------------------+-----------+--------------------+--------------------+-------+------+--------+-------------+--------------------+-----------------+----------------+--------------------+--------------------+\n",
            "|        _c0|          _c1|                 _c2|                 _c3|        _c4|                 _c5|                 _c6|    _c7|   _c8|     _c9|         _c10|                _c11|             _c12|            _c13|                _c14|                _c15|\n",
            "+-----------+-------------+--------------------+--------------------+-----------+--------------------+--------------------+-------+------+--------+-------------+--------------------+-----------------+----------------+--------------------+--------------------+\n",
            "|   video_id|trending_date|               title|       channel_title|category_id|        publish_time|                tags|  views| likes|dislikes|comment_count|      thumbnail_link|comments_disabled|ratings_disabled|video_error_or_re...|         description|\n",
            "|2kyS6SvSYSE|     17.14.11|WE WANT TO TALK A...|        CaseyNeistat|         22|2017-11-13T17:13:...|     SHANtell martin| 748374| 57527|    2966|        15954|https://i.ytimg.c...|            False|           False|               False|SHANTELL'S CHANNE...|\n",
            "|1ZAPwfrtAFY|     17.14.11|The Trump Preside...|     LastWeekTonight|         24|2017-11-13T07:30:...|\"last week tonigh...|2418783| 97185|    6146|        12703|https://i.ytimg.c...|            False|           False|               False|One year after th...|\n",
            "|5qpjK5DgCt4|     17.14.11|Racist Superman |...|        Rudy Mancuso|         23|2017-11-12T19:05:...|\"racist superman\"...|3191434|146033|    5339|         8181|https://i.ytimg.c...|            False|           False|               False|WATCH MY PREVIOUS...|\n",
            "|puqaWrEC7tY|     17.14.11|Nickelback Lyrics...|Good Mythical Mor...|         24|2017-11-13T11:00:...|\"rhett and link\"|...| 343168| 10172|     666|         2146|https://i.ytimg.c...|            False|           False|               False|Today we find out...|\n",
            "|d380meD0W0M|     17.14.11|I Dare You: GOING...|            nigahiga|         24|2017-11-12T18:01:...|\"ryan\"|\"higa\"|\"hi...|2095731|132235|    1989|        17518|https://i.ytimg.c...|            False|           False|               False|I know it's been ...|\n",
            "|gHZ1Qz0KiKM|     17.14.11|2 Weeks with iPho...|            iJustine|         28|2017-11-13T19:07:...|\"ijustine\"|\"week ...| 119180|  9763|     511|         1434|https://i.ytimg.c...|            False|           False|               False|Using the iPhone ...|\n",
            "|39idVpFF7NQ|     17.14.11|Roy Moore & Jeff ...| Saturday Night Live|         24|2017-11-12T05:37:...|\"SNL\"|\"Saturday N...|2103417| 15993|    2445|         1970|https://i.ytimg.c...|            False|           False|               False|Embattled Alabama...|\n",
            "|nc99ccSXST0|     17.14.11|5 Ice Cream Gadge...|  CrazyRussianHacker|         28|2017-11-12T21:50:...|\"5 Ice Cream Gadg...| 817732| 23663|     778|         3432|https://i.ytimg.c...|            False|           False|               False|Ice Cream Pint Co...|\n",
            "|jr9QtXwC9vc|     17.14.11|The Greatest Show...|    20th Century Fox|          1|2017-11-13T14:00:...|\"Trailer\"|\"Hugh J...| 826059|  3543|     119|          340|https://i.ytimg.c...|            False|           False|               False|Inspired by the i...|\n",
            "|TUmyygCMMGA|     17.14.11|Why the rise of t...|                 Vox|         25|2017-11-13T13:45:...|\"vox.com\"|\"vox\"|\"...| 256426| 12654|    1363|         2368|https://i.ytimg.c...|            False|           False|               False|For now, at least...|\n",
            "|9wRQljFNDW8|     17.14.11|Dion Lewis' 103-Y...|                 NFL|         17|2017-11-13T02:05:...|\"NFL\"|\"Football\"|...|  81377|   655|      25|          177|https://i.ytimg.c...|            False|           False|               False|New England Patri...|\n",
            "|VifQlJit6A0|     17.14.11|(SPOILERS) 'Shiva...|                 amc|         24|2017-11-13T03:00:...|\"The Walking Dead...| 104578|  1576|     303|         1279|https://i.ytimg.c...|            False|           False|               False|Shiva arrives jus...|\n",
            "|5E4ZBSInqUU|     17.14.11|Marshmello - Bloc...|          marshmello|         10|2017-11-13T17:00:...|\"marshmello\"|\"blo...| 687582|114188|    1333|         8371|https://i.ytimg.c...|            False|           False|               False|WATCH SILENCE MUS...|\n",
            "|GgVmn66oK_A|     17.14.11|Which Countries A...|       NowThis World|         25|2017-11-12T14:00:...|\"nowthis\"|\"nowthi...| 544770|  7848|    1171|         3981|https://i.ytimg.c...|            False|           False|               False|The world at larg...|\n",
            "|TaTleo4cOs8|     17.14.11|SHOPPING FOR NEW ...|     The king of DIY|         15|2017-11-12T18:30:...|\"shopping for new...| 207532|  7473|     246|         2120|https://i.ytimg.c...|            False|           False|               False|Today we go shopp...|\n",
            "|kgaO45SyaO4|     17.14.11|    The New SpotMini|      BostonDynamics|         28|2017-11-13T20:09:...|\"Robots\"|\"Boston ...|  75752|  9419|      52|         1230|https://i.ytimg.c...|            False|           False|               False|For more informat...|\n",
            "|ZAQs-ctOqXQ|     17.14.11|One Change That W...|             Cracked|         23|2017-11-12T17:00:...|\"pacific rim\"|\"pa...| 295639|  8011|     638|         1256|https://i.ytimg.c...|            False|           False|               False|Pacific Rim was s...|\n",
            "|YVfyYrEmzgM|     17.14.11|How does your bod...|              TED-Ed|         27|2017-11-13T16:00:...|\"TED\"|\"TED-Ed\"|\"T...|  78044|  5398|      53|          385|https://i.ytimg.c...|            False|           False|               False|Check out our Pat...|\n",
            "|eNSN6qet1kE|     17.14.11|HomeMade Electric...|         PeterSripol|         28|2017-11-13T15:30:...|\"ultralight\"|\"air...|  97007| 11963|      36|         2211|https://i.ytimg.c...|            False|           False|               False|aaaannnd now to f...|\n",
            "+-----------+-------------+--------------------+--------------------+-----------+--------------------+--------------------+-------+------+--------+-------------+--------------------+-----------------+----------------+--------------------+--------------------+\n",
            "only showing top 20 rows\n",
            "\n"
          ]
        }
      ]
    },
    {
      "cell_type": "code",
      "source": [
        "df1 = spark.read.option('header', 'true').csv('/content/data/dataCSV.csv')"
      ],
      "metadata": {
        "id": "9CahHcb_Ku9I"
      },
      "execution_count": 26,
      "outputs": []
    },
    {
      "cell_type": "code",
      "source": [
        "df1.show()"
      ],
      "metadata": {
        "colab": {
          "base_uri": "https://localhost:8080/"
        },
        "id": "_4iYai7OUf3b",
        "outputId": "ea603826-c8a5-47d1-d028-098af21fee47"
      },
      "execution_count": 27,
      "outputs": [
        {
          "output_type": "stream",
          "name": "stdout",
          "text": [
            "+-----------+-------------+--------------------+--------------------+-----------+--------------------+--------------------+-------+------+--------+-------------+--------------------+-----------------+----------------+----------------------+--------------------+\n",
            "|   video_id|trending_date|               title|       channel_title|category_id|        publish_time|                tags|  views| likes|dislikes|comment_count|      thumbnail_link|comments_disabled|ratings_disabled|video_error_or_removed|         description|\n",
            "+-----------+-------------+--------------------+--------------------+-----------+--------------------+--------------------+-------+------+--------+-------------+--------------------+-----------------+----------------+----------------------+--------------------+\n",
            "|2kyS6SvSYSE|     17.14.11|WE WANT TO TALK A...|        CaseyNeistat|         22|2017-11-13T17:13:...|     SHANtell martin| 748374| 57527|    2966|        15954|https://i.ytimg.c...|            False|           False|                 False|SHANTELL'S CHANNE...|\n",
            "|1ZAPwfrtAFY|     17.14.11|The Trump Preside...|     LastWeekTonight|         24|2017-11-13T07:30:...|\"last week tonigh...|2418783| 97185|    6146|        12703|https://i.ytimg.c...|            False|           False|                 False|One year after th...|\n",
            "|5qpjK5DgCt4|     17.14.11|Racist Superman |...|        Rudy Mancuso|         23|2017-11-12T19:05:...|\"racist superman\"...|3191434|146033|    5339|         8181|https://i.ytimg.c...|            False|           False|                 False|WATCH MY PREVIOUS...|\n",
            "|puqaWrEC7tY|     17.14.11|Nickelback Lyrics...|Good Mythical Mor...|         24|2017-11-13T11:00:...|\"rhett and link\"|...| 343168| 10172|     666|         2146|https://i.ytimg.c...|            False|           False|                 False|Today we find out...|\n",
            "|d380meD0W0M|     17.14.11|I Dare You: GOING...|            nigahiga|         24|2017-11-12T18:01:...|\"ryan\"|\"higa\"|\"hi...|2095731|132235|    1989|        17518|https://i.ytimg.c...|            False|           False|                 False|I know it's been ...|\n",
            "|gHZ1Qz0KiKM|     17.14.11|2 Weeks with iPho...|            iJustine|         28|2017-11-13T19:07:...|\"ijustine\"|\"week ...| 119180|  9763|     511|         1434|https://i.ytimg.c...|            False|           False|                 False|Using the iPhone ...|\n",
            "|39idVpFF7NQ|     17.14.11|Roy Moore & Jeff ...| Saturday Night Live|         24|2017-11-12T05:37:...|\"SNL\"|\"Saturday N...|2103417| 15993|    2445|         1970|https://i.ytimg.c...|            False|           False|                 False|Embattled Alabama...|\n",
            "|nc99ccSXST0|     17.14.11|5 Ice Cream Gadge...|  CrazyRussianHacker|         28|2017-11-12T21:50:...|\"5 Ice Cream Gadg...| 817732| 23663|     778|         3432|https://i.ytimg.c...|            False|           False|                 False|Ice Cream Pint Co...|\n",
            "|jr9QtXwC9vc|     17.14.11|The Greatest Show...|    20th Century Fox|          1|2017-11-13T14:00:...|\"Trailer\"|\"Hugh J...| 826059|  3543|     119|          340|https://i.ytimg.c...|            False|           False|                 False|Inspired by the i...|\n",
            "|TUmyygCMMGA|     17.14.11|Why the rise of t...|                 Vox|         25|2017-11-13T13:45:...|\"vox.com\"|\"vox\"|\"...| 256426| 12654|    1363|         2368|https://i.ytimg.c...|            False|           False|                 False|For now, at least...|\n",
            "|9wRQljFNDW8|     17.14.11|Dion Lewis' 103-Y...|                 NFL|         17|2017-11-13T02:05:...|\"NFL\"|\"Football\"|...|  81377|   655|      25|          177|https://i.ytimg.c...|            False|           False|                 False|New England Patri...|\n",
            "|VifQlJit6A0|     17.14.11|(SPOILERS) 'Shiva...|                 amc|         24|2017-11-13T03:00:...|\"The Walking Dead...| 104578|  1576|     303|         1279|https://i.ytimg.c...|            False|           False|                 False|Shiva arrives jus...|\n",
            "|5E4ZBSInqUU|     17.14.11|Marshmello - Bloc...|          marshmello|         10|2017-11-13T17:00:...|\"marshmello\"|\"blo...| 687582|114188|    1333|         8371|https://i.ytimg.c...|            False|           False|                 False|WATCH SILENCE MUS...|\n",
            "|GgVmn66oK_A|     17.14.11|Which Countries A...|       NowThis World|         25|2017-11-12T14:00:...|\"nowthis\"|\"nowthi...| 544770|  7848|    1171|         3981|https://i.ytimg.c...|            False|           False|                 False|The world at larg...|\n",
            "|TaTleo4cOs8|     17.14.11|SHOPPING FOR NEW ...|     The king of DIY|         15|2017-11-12T18:30:...|\"shopping for new...| 207532|  7473|     246|         2120|https://i.ytimg.c...|            False|           False|                 False|Today we go shopp...|\n",
            "|kgaO45SyaO4|     17.14.11|    The New SpotMini|      BostonDynamics|         28|2017-11-13T20:09:...|\"Robots\"|\"Boston ...|  75752|  9419|      52|         1230|https://i.ytimg.c...|            False|           False|                 False|For more informat...|\n",
            "|ZAQs-ctOqXQ|     17.14.11|One Change That W...|             Cracked|         23|2017-11-12T17:00:...|\"pacific rim\"|\"pa...| 295639|  8011|     638|         1256|https://i.ytimg.c...|            False|           False|                 False|Pacific Rim was s...|\n",
            "|YVfyYrEmzgM|     17.14.11|How does your bod...|              TED-Ed|         27|2017-11-13T16:00:...|\"TED\"|\"TED-Ed\"|\"T...|  78044|  5398|      53|          385|https://i.ytimg.c...|            False|           False|                 False|Check out our Pat...|\n",
            "|eNSN6qet1kE|     17.14.11|HomeMade Electric...|         PeterSripol|         28|2017-11-13T15:30:...|\"ultralight\"|\"air...|  97007| 11963|      36|         2211|https://i.ytimg.c...|            False|           False|                 False|aaaannnd now to f...|\n",
            "|B5HORANmzHw|     17.14.11|Founding An Inbre...|             SciShow|         27|2017-11-12T22:00:...|\"SciShow\"|\"scienc...| 223871|  8421|     191|         1214|https://i.ytimg.c...|            False|           False|                 False|Thanks to 23AndMe...|\n",
            "+-----------+-------------+--------------------+--------------------+-----------+--------------------+--------------------+-------+------+--------+-------------+--------------------+-----------------+----------------+----------------------+--------------------+\n",
            "only showing top 20 rows\n",
            "\n"
          ]
        }
      ]
    },
    {
      "cell_type": "code",
      "source": [
        "#leer archivo de texto con un delimitador diferente:\n",
        "df2 = spark.read.option('header', 'true').option('delimiter', '|').csv('/content/data/dataTab.txt')"
      ],
      "metadata": {
        "id": "gIL5MYyKUiSa"
      },
      "execution_count": 29,
      "outputs": []
    },
    {
      "cell_type": "code",
      "source": [
        "df2.show()"
      ],
      "metadata": {
        "colab": {
          "base_uri": "https://localhost:8080/"
        },
        "id": "k2HcZavkV68-",
        "outputId": "483fd601-bc38-424e-eae7-38617c20a0af"
      },
      "execution_count": null,
      "outputs": [
        {
          "output_type": "stream",
          "name": "stdout",
          "text": [
            "+----+----+----------+-----+\n",
            "|pais|edad|     fecha|color|\n",
            "+----+----+----------+-----+\n",
            "|  MX|  23|2021-02-21| rojo|\n",
            "|  CA|  56|2021-06-10| azul|\n",
            "|  US|  32|2020-06-02|verde|\n",
            "+----+----+----------+-----+\n",
            "\n"
          ]
        }
      ]
    },
    {
      "cell_type": "code",
      "source": [
        "#crear un dataframe a partir de un json proporcionando un schema:\n",
        "from pyspark.sql.types import StructType, StructField, StringType, IntegerType, DateType\n",
        "\n",
        "json_schema = StructType(\n",
        "    [\n",
        "     StructField('color', StringType(), True),\n",
        "     StructField('edad', IntegerType(), True),\n",
        "     StructField('fecha', DateType(), True),\n",
        "     StructField('pais', StringType(), True)\n",
        "     ]\n",
        ")"
      ],
      "metadata": {
        "id": "pAFHx9gxV9FW"
      },
      "execution_count": 30,
      "outputs": []
    },
    {
      "cell_type": "code",
      "source": [
        "df4 = spark.read.schema(json_schema).json('/content/data/dataJSON.json')"
      ],
      "metadata": {
        "id": "I9rPBvMXXWHi"
      },
      "execution_count": 32,
      "outputs": []
    },
    {
      "cell_type": "code",
      "source": [
        "df4.show()"
      ],
      "metadata": {
        "colab": {
          "base_uri": "https://localhost:8080/"
        },
        "id": "CpI0_6tdXjw0",
        "outputId": "7c7755e9-9c9c-4094-fb36-35ff7a5dd003"
      },
      "execution_count": null,
      "outputs": [
        {
          "output_type": "stream",
          "name": "stdout",
          "text": [
            "+-----+----+----------+----+\n",
            "|color|edad|     fecha|pais|\n",
            "+-----+----+----------+----+\n",
            "| rojo|null|2021-02-21|  MX|\n",
            "| azul|null|2021-06-10|  CA|\n",
            "|verde|null|2020-06-02|  US|\n",
            "+-----+----+----------+----+\n",
            "\n"
          ]
        }
      ]
    },
    {
      "cell_type": "code",
      "source": [
        "df4.printSchema()"
      ],
      "metadata": {
        "colab": {
          "base_uri": "https://localhost:8080/"
        },
        "id": "xJsV1WRcXlXW",
        "outputId": "a5af7fc9-dee8-409c-9f42-f98cc5af9471"
      },
      "execution_count": 33,
      "outputs": [
        {
          "output_type": "stream",
          "name": "stdout",
          "text": [
            "root\n",
            " |-- color: string (nullable = true)\n",
            " |-- edad: integer (nullable = true)\n",
            " |-- fecha: date (nullable = true)\n",
            " |-- pais: string (nullable = true)\n",
            "\n"
          ]
        }
      ]
    },
    {
      "cell_type": "code",
      "source": [
        "#crear un dataframe a partir de un archivo parquet:\n",
        "df5 = spark.read.parquet('/content/data/dataPARQUET.parquet')"
      ],
      "metadata": {
        "id": "9H-HHa2HXvZo"
      },
      "execution_count": 40,
      "outputs": []
    },
    {
      "cell_type": "code",
      "source": [
        "df5.show()"
      ],
      "metadata": {
        "colab": {
          "base_uri": "https://localhost:8080/"
        },
        "id": "5g-L9SjCX4-d",
        "outputId": "582b31ff-9388-49c9-fea6-04a8df2f0aca"
      },
      "execution_count": 42,
      "outputs": [
        {
          "output_type": "stream",
          "name": "stdout",
          "text": [
            "+-----------+-------------+--------------------+--------------------+-----------+--------------------+--------------------+-------+------+--------+-------------+--------------------+-----------------+----------------+----------------------+--------------------+\n",
            "|   video_id|trending_date|               title|       channel_title|category_id|        publish_time|                tags|  views| likes|dislikes|comment_count|      thumbnail_link|comments_disabled|ratings_disabled|video_error_or_removed|         description|\n",
            "+-----------+-------------+--------------------+--------------------+-----------+--------------------+--------------------+-------+------+--------+-------------+--------------------+-----------------+----------------+----------------------+--------------------+\n",
            "|2kyS6SvSYSE|     17.14.11|WE WANT TO TALK A...|        CaseyNeistat|         22|2017-11-13T17:13:...|     SHANtell martin| 748374| 57527|    2966|        15954|https://i.ytimg.c...|            False|           False|                 False|SHANTELL'S CHANNE...|\n",
            "|1ZAPwfrtAFY|     17.14.11|The Trump Preside...|     LastWeekTonight|         24|2017-11-13T07:30:...|\"last week tonigh...|2418783| 97185|    6146|        12703|https://i.ytimg.c...|            False|           False|                 False|One year after th...|\n",
            "|5qpjK5DgCt4|     17.14.11|Racist Superman |...|        Rudy Mancuso|         23|2017-11-12T19:05:...|\"racist superman\"...|3191434|146033|    5339|         8181|https://i.ytimg.c...|            False|           False|                 False|WATCH MY PREVIOUS...|\n",
            "|puqaWrEC7tY|     17.14.11|Nickelback Lyrics...|Good Mythical Mor...|         24|2017-11-13T11:00:...|\"rhett and link\"|...| 343168| 10172|     666|         2146|https://i.ytimg.c...|            False|           False|                 False|Today we find out...|\n",
            "|d380meD0W0M|     17.14.11|I Dare You: GOING...|            nigahiga|         24|2017-11-12T18:01:...|\"ryan\"|\"higa\"|\"hi...|2095731|132235|    1989|        17518|https://i.ytimg.c...|            False|           False|                 False|I know it's been ...|\n",
            "|gHZ1Qz0KiKM|     17.14.11|2 Weeks with iPho...|            iJustine|         28|2017-11-13T19:07:...|\"ijustine\"|\"week ...| 119180|  9763|     511|         1434|https://i.ytimg.c...|            False|           False|                 False|Using the iPhone ...|\n",
            "|39idVpFF7NQ|     17.14.11|Roy Moore & Jeff ...| Saturday Night Live|         24|2017-11-12T05:37:...|\"SNL\"|\"Saturday N...|2103417| 15993|    2445|         1970|https://i.ytimg.c...|            False|           False|                 False|Embattled Alabama...|\n",
            "|nc99ccSXST0|     17.14.11|5 Ice Cream Gadge...|  CrazyRussianHacker|         28|2017-11-12T21:50:...|\"5 Ice Cream Gadg...| 817732| 23663|     778|         3432|https://i.ytimg.c...|            False|           False|                 False|Ice Cream Pint Co...|\n",
            "|jr9QtXwC9vc|     17.14.11|The Greatest Show...|    20th Century Fox|          1|2017-11-13T14:00:...|\"Trailer\"|\"Hugh J...| 826059|  3543|     119|          340|https://i.ytimg.c...|            False|           False|                 False|Inspired by the i...|\n",
            "|TUmyygCMMGA|     17.14.11|Why the rise of t...|                 Vox|         25|2017-11-13T13:45:...|\"vox.com\"|\"vox\"|\"...| 256426| 12654|    1363|         2368|https://i.ytimg.c...|            False|           False|                 False|For now, at least...|\n",
            "|9wRQljFNDW8|     17.14.11|Dion Lewis' 103-Y...|                 NFL|         17|2017-11-13T02:05:...|\"NFL\"|\"Football\"|...|  81377|   655|      25|          177|https://i.ytimg.c...|            False|           False|                 False|New England Patri...|\n",
            "|VifQlJit6A0|     17.14.11|(SPOILERS) 'Shiva...|                 amc|         24|2017-11-13T03:00:...|\"The Walking Dead...| 104578|  1576|     303|         1279|https://i.ytimg.c...|            False|           False|                 False|Shiva arrives jus...|\n",
            "|5E4ZBSInqUU|     17.14.11|Marshmello - Bloc...|          marshmello|         10|2017-11-13T17:00:...|\"marshmello\"|\"blo...| 687582|114188|    1333|         8371|https://i.ytimg.c...|            False|           False|                 False|WATCH SILENCE MUS...|\n",
            "|GgVmn66oK_A|     17.14.11|Which Countries A...|       NowThis World|         25|2017-11-12T14:00:...|\"nowthis\"|\"nowthi...| 544770|  7848|    1171|         3981|https://i.ytimg.c...|            False|           False|                 False|The world at larg...|\n",
            "|TaTleo4cOs8|     17.14.11|SHOPPING FOR NEW ...|     The king of DIY|         15|2017-11-12T18:30:...|\"shopping for new...| 207532|  7473|     246|         2120|https://i.ytimg.c...|            False|           False|                 False|Today we go shopp...|\n",
            "|kgaO45SyaO4|     17.14.11|    The New SpotMini|      BostonDynamics|         28|2017-11-13T20:09:...|\"Robots\"|\"Boston ...|  75752|  9419|      52|         1230|https://i.ytimg.c...|            False|           False|                 False|For more informat...|\n",
            "|ZAQs-ctOqXQ|     17.14.11|One Change That W...|             Cracked|         23|2017-11-12T17:00:...|\"pacific rim\"|\"pa...| 295639|  8011|     638|         1256|https://i.ytimg.c...|            False|           False|                 False|Pacific Rim was s...|\n",
            "|YVfyYrEmzgM|     17.14.11|How does your bod...|              TED-Ed|         27|2017-11-13T16:00:...|\"TED\"|\"TED-Ed\"|\"T...|  78044|  5398|      53|          385|https://i.ytimg.c...|            False|           False|                 False|Check out our Pat...|\n",
            "|eNSN6qet1kE|     17.14.11|HomeMade Electric...|         PeterSripol|         28|2017-11-13T15:30:...|\"ultralight\"|\"air...|  97007| 11963|      36|         2211|https://i.ytimg.c...|            False|           False|                 False|aaaannnd now to f...|\n",
            "|B5HORANmzHw|     17.14.11|Founding An Inbre...|             SciShow|         27|2017-11-12T22:00:...|\"SciShow\"|\"scienc...| 223871|  8421|     191|         1214|https://i.ytimg.c...|            False|           False|                 False|Thanks to 23AndMe...|\n",
            "+-----------+-------------+--------------------+--------------------+-----------+--------------------+--------------------+-------+------+--------+-------------+--------------------+-----------------+----------------+----------------------+--------------------+\n",
            "only showing top 20 rows\n",
            "\n"
          ]
        }
      ]
    },
    {
      "cell_type": "code",
      "source": [
        "df6 = spark.read.format('parquet').load('/content/data/dataPARQUET.parquet')"
      ],
      "metadata": {
        "id": "gh66_I0EX-Gb"
      },
      "execution_count": 41,
      "outputs": []
    },
    {
      "cell_type": "code",
      "source": [
        "df6.printSchema()"
      ],
      "metadata": {
        "colab": {
          "base_uri": "https://localhost:8080/"
        },
        "id": "vm5rMQDCYT4c",
        "outputId": "719a9adc-83a9-46ff-ccaf-8950e48e84f5"
      },
      "execution_count": 43,
      "outputs": [
        {
          "output_type": "stream",
          "name": "stdout",
          "text": [
            "root\n",
            " |-- video_id: string (nullable = true)\n",
            " |-- trending_date: string (nullable = true)\n",
            " |-- title: string (nullable = true)\n",
            " |-- channel_title: string (nullable = true)\n",
            " |-- category_id: string (nullable = true)\n",
            " |-- publish_time: string (nullable = true)\n",
            " |-- tags: string (nullable = true)\n",
            " |-- views: string (nullable = true)\n",
            " |-- likes: string (nullable = true)\n",
            " |-- dislikes: string (nullable = true)\n",
            " |-- comment_count: string (nullable = true)\n",
            " |-- thumbnail_link: string (nullable = true)\n",
            " |-- comments_disabled: string (nullable = true)\n",
            " |-- ratings_disabled: string (nullable = true)\n",
            " |-- video_error_or_removed: string (nullable = true)\n",
            " |-- description: string (nullable = true)\n",
            "\n"
          ]
        }
      ]
    },
    {
      "cell_type": "code",
      "source": [
        "df6.show()"
      ],
      "metadata": {
        "colab": {
          "base_uri": "https://localhost:8080/"
        },
        "id": "XsvfAYI0YXkd",
        "outputId": "9b2ce9b2-0540-48ff-b00e-6d832e0b4808"
      },
      "execution_count": 44,
      "outputs": [
        {
          "output_type": "stream",
          "name": "stdout",
          "text": [
            "+-----------+-------------+--------------------+--------------------+-----------+--------------------+--------------------+-------+------+--------+-------------+--------------------+-----------------+----------------+----------------------+--------------------+\n",
            "|   video_id|trending_date|               title|       channel_title|category_id|        publish_time|                tags|  views| likes|dislikes|comment_count|      thumbnail_link|comments_disabled|ratings_disabled|video_error_or_removed|         description|\n",
            "+-----------+-------------+--------------------+--------------------+-----------+--------------------+--------------------+-------+------+--------+-------------+--------------------+-----------------+----------------+----------------------+--------------------+\n",
            "|2kyS6SvSYSE|     17.14.11|WE WANT TO TALK A...|        CaseyNeistat|         22|2017-11-13T17:13:...|     SHANtell martin| 748374| 57527|    2966|        15954|https://i.ytimg.c...|            False|           False|                 False|SHANTELL'S CHANNE...|\n",
            "|1ZAPwfrtAFY|     17.14.11|The Trump Preside...|     LastWeekTonight|         24|2017-11-13T07:30:...|\"last week tonigh...|2418783| 97185|    6146|        12703|https://i.ytimg.c...|            False|           False|                 False|One year after th...|\n",
            "|5qpjK5DgCt4|     17.14.11|Racist Superman |...|        Rudy Mancuso|         23|2017-11-12T19:05:...|\"racist superman\"...|3191434|146033|    5339|         8181|https://i.ytimg.c...|            False|           False|                 False|WATCH MY PREVIOUS...|\n",
            "|puqaWrEC7tY|     17.14.11|Nickelback Lyrics...|Good Mythical Mor...|         24|2017-11-13T11:00:...|\"rhett and link\"|...| 343168| 10172|     666|         2146|https://i.ytimg.c...|            False|           False|                 False|Today we find out...|\n",
            "|d380meD0W0M|     17.14.11|I Dare You: GOING...|            nigahiga|         24|2017-11-12T18:01:...|\"ryan\"|\"higa\"|\"hi...|2095731|132235|    1989|        17518|https://i.ytimg.c...|            False|           False|                 False|I know it's been ...|\n",
            "|gHZ1Qz0KiKM|     17.14.11|2 Weeks with iPho...|            iJustine|         28|2017-11-13T19:07:...|\"ijustine\"|\"week ...| 119180|  9763|     511|         1434|https://i.ytimg.c...|            False|           False|                 False|Using the iPhone ...|\n",
            "|39idVpFF7NQ|     17.14.11|Roy Moore & Jeff ...| Saturday Night Live|         24|2017-11-12T05:37:...|\"SNL\"|\"Saturday N...|2103417| 15993|    2445|         1970|https://i.ytimg.c...|            False|           False|                 False|Embattled Alabama...|\n",
            "|nc99ccSXST0|     17.14.11|5 Ice Cream Gadge...|  CrazyRussianHacker|         28|2017-11-12T21:50:...|\"5 Ice Cream Gadg...| 817732| 23663|     778|         3432|https://i.ytimg.c...|            False|           False|                 False|Ice Cream Pint Co...|\n",
            "|jr9QtXwC9vc|     17.14.11|The Greatest Show...|    20th Century Fox|          1|2017-11-13T14:00:...|\"Trailer\"|\"Hugh J...| 826059|  3543|     119|          340|https://i.ytimg.c...|            False|           False|                 False|Inspired by the i...|\n",
            "|TUmyygCMMGA|     17.14.11|Why the rise of t...|                 Vox|         25|2017-11-13T13:45:...|\"vox.com\"|\"vox\"|\"...| 256426| 12654|    1363|         2368|https://i.ytimg.c...|            False|           False|                 False|For now, at least...|\n",
            "|9wRQljFNDW8|     17.14.11|Dion Lewis' 103-Y...|                 NFL|         17|2017-11-13T02:05:...|\"NFL\"|\"Football\"|...|  81377|   655|      25|          177|https://i.ytimg.c...|            False|           False|                 False|New England Patri...|\n",
            "|VifQlJit6A0|     17.14.11|(SPOILERS) 'Shiva...|                 amc|         24|2017-11-13T03:00:...|\"The Walking Dead...| 104578|  1576|     303|         1279|https://i.ytimg.c...|            False|           False|                 False|Shiva arrives jus...|\n",
            "|5E4ZBSInqUU|     17.14.11|Marshmello - Bloc...|          marshmello|         10|2017-11-13T17:00:...|\"marshmello\"|\"blo...| 687582|114188|    1333|         8371|https://i.ytimg.c...|            False|           False|                 False|WATCH SILENCE MUS...|\n",
            "|GgVmn66oK_A|     17.14.11|Which Countries A...|       NowThis World|         25|2017-11-12T14:00:...|\"nowthis\"|\"nowthi...| 544770|  7848|    1171|         3981|https://i.ytimg.c...|            False|           False|                 False|The world at larg...|\n",
            "|TaTleo4cOs8|     17.14.11|SHOPPING FOR NEW ...|     The king of DIY|         15|2017-11-12T18:30:...|\"shopping for new...| 207532|  7473|     246|         2120|https://i.ytimg.c...|            False|           False|                 False|Today we go shopp...|\n",
            "|kgaO45SyaO4|     17.14.11|    The New SpotMini|      BostonDynamics|         28|2017-11-13T20:09:...|\"Robots\"|\"Boston ...|  75752|  9419|      52|         1230|https://i.ytimg.c...|            False|           False|                 False|For more informat...|\n",
            "|ZAQs-ctOqXQ|     17.14.11|One Change That W...|             Cracked|         23|2017-11-12T17:00:...|\"pacific rim\"|\"pa...| 295639|  8011|     638|         1256|https://i.ytimg.c...|            False|           False|                 False|Pacific Rim was s...|\n",
            "|YVfyYrEmzgM|     17.14.11|How does your bod...|              TED-Ed|         27|2017-11-13T16:00:...|\"TED\"|\"TED-Ed\"|\"T...|  78044|  5398|      53|          385|https://i.ytimg.c...|            False|           False|                 False|Check out our Pat...|\n",
            "|eNSN6qet1kE|     17.14.11|HomeMade Electric...|         PeterSripol|         28|2017-11-13T15:30:...|\"ultralight\"|\"air...|  97007| 11963|      36|         2211|https://i.ytimg.c...|            False|           False|                 False|aaaannnd now to f...|\n",
            "|B5HORANmzHw|     17.14.11|Founding An Inbre...|             SciShow|         27|2017-11-12T22:00:...|\"SciShow\"|\"scienc...| 223871|  8421|     191|         1214|https://i.ytimg.c...|            False|           False|                 False|Thanks to 23AndMe...|\n",
            "+-----------+-------------+--------------------+--------------------+-----------+--------------------+--------------------+-------+------+--------+-------------+--------------------+-----------------+----------------+----------------------+--------------------+\n",
            "only showing top 20 rows\n",
            "\n"
          ]
        }
      ]
    },
    {
      "cell_type": "markdown",
      "source": [
        "#Trabajo con Columnas en SPARK:"
      ],
      "metadata": {
        "id": "3wqpAT3pYscw"
      }
    },
    {
      "cell_type": "code",
      "source": [
        "df = spark.read.parquet('/content/data/dataPARQUET.parquet')"
      ],
      "metadata": {
        "id": "M-vEfulWYwGS"
      },
      "execution_count": 45,
      "outputs": []
    },
    {
      "cell_type": "code",
      "source": [
        "df.printSchema()"
      ],
      "metadata": {
        "colab": {
          "base_uri": "https://localhost:8080/"
        },
        "id": "-yNR_u6zZxnG",
        "outputId": "51c0ca43-c809-45e1-dd93-1d9a61c8e0d1"
      },
      "execution_count": 46,
      "outputs": [
        {
          "output_type": "stream",
          "name": "stdout",
          "text": [
            "root\n",
            " |-- video_id: string (nullable = true)\n",
            " |-- trending_date: string (nullable = true)\n",
            " |-- title: string (nullable = true)\n",
            " |-- channel_title: string (nullable = true)\n",
            " |-- category_id: string (nullable = true)\n",
            " |-- publish_time: string (nullable = true)\n",
            " |-- tags: string (nullable = true)\n",
            " |-- views: string (nullable = true)\n",
            " |-- likes: string (nullable = true)\n",
            " |-- dislikes: string (nullable = true)\n",
            " |-- comment_count: string (nullable = true)\n",
            " |-- thumbnail_link: string (nullable = true)\n",
            " |-- comments_disabled: string (nullable = true)\n",
            " |-- ratings_disabled: string (nullable = true)\n",
            " |-- video_error_or_removed: string (nullable = true)\n",
            " |-- description: string (nullable = true)\n",
            "\n"
          ]
        }
      ]
    },
    {
      "cell_type": "code",
      "source": [
        "#01 primera alternativa para referirnos a las columnas:\n",
        "df.select('title').show()"
      ],
      "metadata": {
        "colab": {
          "base_uri": "https://localhost:8080/"
        },
        "id": "WJ8UxNlFZ1b5",
        "outputId": "52aa15bd-078f-42e5-e288-c15ec87b34b2"
      },
      "execution_count": 47,
      "outputs": [
        {
          "output_type": "stream",
          "name": "stdout",
          "text": [
            "+--------------------+\n",
            "|               title|\n",
            "+--------------------+\n",
            "|WE WANT TO TALK A...|\n",
            "|The Trump Preside...|\n",
            "|Racist Superman |...|\n",
            "|Nickelback Lyrics...|\n",
            "|I Dare You: GOING...|\n",
            "|2 Weeks with iPho...|\n",
            "|Roy Moore & Jeff ...|\n",
            "|5 Ice Cream Gadge...|\n",
            "|The Greatest Show...|\n",
            "|Why the rise of t...|\n",
            "|Dion Lewis' 103-Y...|\n",
            "|(SPOILERS) 'Shiva...|\n",
            "|Marshmello - Bloc...|\n",
            "|Which Countries A...|\n",
            "|SHOPPING FOR NEW ...|\n",
            "|    The New SpotMini|\n",
            "|One Change That W...|\n",
            "|How does your bod...|\n",
            "|HomeMade Electric...|\n",
            "|Founding An Inbre...|\n",
            "+--------------------+\n",
            "only showing top 20 rows\n",
            "\n"
          ]
        }
      ]
    },
    {
      "cell_type": "code",
      "source": [
        "#02 segunda alternativa:\n",
        "from pyspark.sql.functions import col\n",
        "df.select(col('title')).show()"
      ],
      "metadata": {
        "colab": {
          "base_uri": "https://localhost:8080/"
        },
        "id": "GZSWU9KwZ-Ly",
        "outputId": "d75beaf3-2b88-486e-9061-fd36de73d165"
      },
      "execution_count": 48,
      "outputs": [
        {
          "output_type": "stream",
          "name": "stdout",
          "text": [
            "+--------------------+\n",
            "|               title|\n",
            "+--------------------+\n",
            "|WE WANT TO TALK A...|\n",
            "|The Trump Preside...|\n",
            "|Racist Superman |...|\n",
            "|Nickelback Lyrics...|\n",
            "|I Dare You: GOING...|\n",
            "|2 Weeks with iPho...|\n",
            "|Roy Moore & Jeff ...|\n",
            "|5 Ice Cream Gadge...|\n",
            "|The Greatest Show...|\n",
            "|Why the rise of t...|\n",
            "|Dion Lewis' 103-Y...|\n",
            "|(SPOILERS) 'Shiva...|\n",
            "|Marshmello - Bloc...|\n",
            "|Which Countries A...|\n",
            "|SHOPPING FOR NEW ...|\n",
            "|    The New SpotMini|\n",
            "|One Change That W...|\n",
            "|How does your bod...|\n",
            "|HomeMade Electric...|\n",
            "|Founding An Inbre...|\n",
            "+--------------------+\n",
            "only showing top 20 rows\n",
            "\n"
          ]
        }
      ]
    },
    {
      "cell_type": "markdown",
      "source": [
        "#TRANSFORMACIONES- FUNCIONES SELECT Y SELECTEXPR (select expression)"
      ],
      "metadata": {
        "id": "pBK7SZxkae_P"
      }
    },
    {
      "cell_type": "code",
      "source": [
        "#select\n",
        "df = spark.read.parquet('/content/data02/datos.parquet')"
      ],
      "metadata": {
        "id": "vhWNzVtDaZw7"
      },
      "execution_count": 50,
      "outputs": []
    },
    {
      "cell_type": "code",
      "source": [
        "df.printSchema()"
      ],
      "metadata": {
        "colab": {
          "base_uri": "https://localhost:8080/"
        },
        "id": "fPm_SDnzbTdO",
        "outputId": "9f2c7fec-ae59-4563-a55a-8908ac770f00"
      },
      "execution_count": null,
      "outputs": [
        {
          "output_type": "stream",
          "name": "stdout",
          "text": [
            "root\n",
            " |-- video_id: string (nullable = true)\n",
            " |-- trending_date: string (nullable = true)\n",
            " |-- title: string (nullable = true)\n",
            " |-- channel_title: string (nullable = true)\n",
            " |-- category_id: string (nullable = true)\n",
            " |-- publish_time: timestamp (nullable = true)\n",
            " |-- tags: string (nullable = true)\n",
            " |-- views: integer (nullable = true)\n",
            " |-- likes: integer (nullable = true)\n",
            " |-- dislikes: integer (nullable = true)\n",
            " |-- comment_count: integer (nullable = true)\n",
            " |-- thumbnail_link: string (nullable = true)\n",
            " |-- comments_disabled: string (nullable = true)\n",
            " |-- ratings_disabled: string (nullable = true)\n",
            " |-- video_error_or_removed: string (nullable = true)\n",
            " |-- description: string (nullable = true)\n",
            "\n"
          ]
        }
      ]
    },
    {
      "cell_type": "code",
      "source": [
        "df.show()"
      ],
      "metadata": {
        "colab": {
          "base_uri": "https://localhost:8080/"
        },
        "id": "-oixBt69bNXE",
        "outputId": "dcb1e383-ca90-476f-e343-41136023218f"
      },
      "execution_count": 51,
      "outputs": [
        {
          "output_type": "stream",
          "name": "stdout",
          "text": [
            "+-----------+-------------+--------------------+--------------------+-----------+-------------------+--------------------+-------+------+--------+-------------+--------------------+-----------------+----------------+----------------------+--------------------+\n",
            "|   video_id|trending_date|               title|       channel_title|category_id|       publish_time|                tags|  views| likes|dislikes|comment_count|      thumbnail_link|comments_disabled|ratings_disabled|video_error_or_removed|         description|\n",
            "+-----------+-------------+--------------------+--------------------+-----------+-------------------+--------------------+-------+------+--------+-------------+--------------------+-----------------+----------------+----------------------+--------------------+\n",
            "|2kyS6SvSYSE|     17.14.11|WE WANT TO TALK A...|        CaseyNeistat|         22|2017-11-13 17:13:01|     SHANtell martin| 748374| 57527|    2966|        15954|https://i.ytimg.c...|            False|           False|                 False|SHANTELL'S CHANNE...|\n",
            "|1ZAPwfrtAFY|     17.14.11|The Trump Preside...|     LastWeekTonight|         24|2017-11-13 07:30:00|\"last week tonigh...|2418783| 97185|    6146|        12703|https://i.ytimg.c...|            False|           False|                 False|One year after th...|\n",
            "|5qpjK5DgCt4|     17.14.11|Racist Superman |...|        Rudy Mancuso|         23|2017-11-12 19:05:24|\"racist superman\"...|3191434|146033|    5339|         8181|https://i.ytimg.c...|            False|           False|                 False|WATCH MY PREVIOUS...|\n",
            "|puqaWrEC7tY|     17.14.11|Nickelback Lyrics...|Good Mythical Mor...|         24|2017-11-13 11:00:04|\"rhett and link\"|...| 343168| 10172|     666|         2146|https://i.ytimg.c...|            False|           False|                 False|Today we find out...|\n",
            "|d380meD0W0M|     17.14.11|I Dare You: GOING...|            nigahiga|         24|2017-11-12 18:01:41|\"ryan\"|\"higa\"|\"hi...|2095731|132235|    1989|        17518|https://i.ytimg.c...|            False|           False|                 False|I know it's been ...|\n",
            "|gHZ1Qz0KiKM|     17.14.11|2 Weeks with iPho...|            iJustine|         28|2017-11-13 19:07:23|\"ijustine\"|\"week ...| 119180|  9763|     511|         1434|https://i.ytimg.c...|            False|           False|                 False|Using the iPhone ...|\n",
            "|39idVpFF7NQ|     17.14.11|Roy Moore & Jeff ...| Saturday Night Live|         24|2017-11-12 05:37:17|\"SNL\"|\"Saturday N...|2103417| 15993|    2445|         1970|https://i.ytimg.c...|            False|           False|                 False|Embattled Alabama...|\n",
            "|nc99ccSXST0|     17.14.11|5 Ice Cream Gadge...|  CrazyRussianHacker|         28|2017-11-12 21:50:37|\"5 Ice Cream Gadg...| 817732| 23663|     778|         3432|https://i.ytimg.c...|            False|           False|                 False|Ice Cream Pint Co...|\n",
            "|jr9QtXwC9vc|     17.14.11|The Greatest Show...|    20th Century Fox|          1|2017-11-13 14:00:23|\"Trailer\"|\"Hugh J...| 826059|  3543|     119|          340|https://i.ytimg.c...|            False|           False|                 False|Inspired by the i...|\n",
            "|TUmyygCMMGA|     17.14.11|Why the rise of t...|                 Vox|         25|2017-11-13 13:45:16|\"vox.com\"|\"vox\"|\"...| 256426| 12654|    1363|         2368|https://i.ytimg.c...|            False|           False|                 False|For now, at least...|\n",
            "|9wRQljFNDW8|     17.14.11|Dion Lewis' 103-Y...|                 NFL|         17|2017-11-13 02:05:26|\"NFL\"|\"Football\"|...|  81377|   655|      25|          177|https://i.ytimg.c...|            False|           False|                 False|New England Patri...|\n",
            "|VifQlJit6A0|     17.14.11|(SPOILERS) 'Shiva...|                 amc|         24|2017-11-13 03:00:00|\"The Walking Dead...| 104578|  1576|     303|         1279|https://i.ytimg.c...|            False|           False|                 False|Shiva arrives jus...|\n",
            "|5E4ZBSInqUU|     17.14.11|Marshmello - Bloc...|          marshmello|         10|2017-11-13 17:00:00|\"marshmello\"|\"blo...| 687582|114188|    1333|         8371|https://i.ytimg.c...|            False|           False|                 False|WATCH SILENCE MUS...|\n",
            "|GgVmn66oK_A|     17.14.11|Which Countries A...|       NowThis World|         25|2017-11-12 14:00:00|\"nowthis\"|\"nowthi...| 544770|  7848|    1171|         3981|https://i.ytimg.c...|            False|           False|                 False|The world at larg...|\n",
            "|TaTleo4cOs8|     17.14.11|SHOPPING FOR NEW ...|     The king of DIY|         15|2017-11-12 18:30:01|\"shopping for new...| 207532|  7473|     246|         2120|https://i.ytimg.c...|            False|           False|                 False|Today we go shopp...|\n",
            "|kgaO45SyaO4|     17.14.11|    The New SpotMini|      BostonDynamics|         28|2017-11-13 20:09:58|\"Robots\"|\"Boston ...|  75752|  9419|      52|         1230|https://i.ytimg.c...|            False|           False|                 False|For more informat...|\n",
            "|ZAQs-ctOqXQ|     17.14.11|One Change That W...|             Cracked|         23|2017-11-12 17:00:05|\"pacific rim\"|\"pa...| 295639|  8011|     638|         1256|https://i.ytimg.c...|            False|           False|                 False|Pacific Rim was s...|\n",
            "|YVfyYrEmzgM|     17.14.11|How does your bod...|              TED-Ed|         27|2017-11-13 16:00:07|\"TED\"|\"TED-Ed\"|\"T...|  78044|  5398|      53|          385|https://i.ytimg.c...|            False|           False|                 False|Check out our Pat...|\n",
            "|eNSN6qet1kE|     17.14.11|HomeMade Electric...|         PeterSripol|         28|2017-11-13 15:30:17|\"ultralight\"|\"air...|  97007| 11963|      36|         2211|https://i.ytimg.c...|            False|           False|                 False|aaaannnd now to f...|\n",
            "|B5HORANmzHw|     17.14.11|Founding An Inbre...|             SciShow|         27|2017-11-12 22:00:01|\"SciShow\"|\"scienc...| 223871|  8421|     191|         1214|https://i.ytimg.c...|            False|           False|                 False|Thanks to 23AndMe...|\n",
            "+-----------+-------------+--------------------+--------------------+-----------+-------------------+--------------------+-------+------+--------+-------------+--------------------+-----------------+----------------+----------------------+--------------------+\n",
            "only showing top 20 rows\n",
            "\n"
          ]
        }
      ]
    },
    {
      "cell_type": "code",
      "source": [
        "from pyspark.sql.functions import col\n",
        "df.select(col('video_id')).show()"
      ],
      "metadata": {
        "colab": {
          "base_uri": "https://localhost:8080/"
        },
        "id": "jei6YOvYbbus",
        "outputId": "5518f1d3-f19c-413a-eec4-f90384d65fc8"
      },
      "execution_count": 52,
      "outputs": [
        {
          "output_type": "stream",
          "name": "stdout",
          "text": [
            "+-----------+\n",
            "|   video_id|\n",
            "+-----------+\n",
            "|2kyS6SvSYSE|\n",
            "|1ZAPwfrtAFY|\n",
            "|5qpjK5DgCt4|\n",
            "|puqaWrEC7tY|\n",
            "|d380meD0W0M|\n",
            "|gHZ1Qz0KiKM|\n",
            "|39idVpFF7NQ|\n",
            "|nc99ccSXST0|\n",
            "|jr9QtXwC9vc|\n",
            "|TUmyygCMMGA|\n",
            "|9wRQljFNDW8|\n",
            "|VifQlJit6A0|\n",
            "|5E4ZBSInqUU|\n",
            "|GgVmn66oK_A|\n",
            "|TaTleo4cOs8|\n",
            "|kgaO45SyaO4|\n",
            "|ZAQs-ctOqXQ|\n",
            "|YVfyYrEmzgM|\n",
            "|eNSN6qet1kE|\n",
            "|B5HORANmzHw|\n",
            "+-----------+\n",
            "only showing top 20 rows\n",
            "\n"
          ]
        }
      ]
    },
    {
      "cell_type": "code",
      "source": [
        "df.select('video_id', 'trending_date').show()"
      ],
      "metadata": {
        "colab": {
          "base_uri": "https://localhost:8080/"
        },
        "id": "fK1OErxrbsP6",
        "outputId": "70b41fe7-fed2-40c8-ab2f-c0e82a6098cd"
      },
      "execution_count": 53,
      "outputs": [
        {
          "output_type": "stream",
          "name": "stdout",
          "text": [
            "+-----------+-------------+\n",
            "|   video_id|trending_date|\n",
            "+-----------+-------------+\n",
            "|2kyS6SvSYSE|     17.14.11|\n",
            "|1ZAPwfrtAFY|     17.14.11|\n",
            "|5qpjK5DgCt4|     17.14.11|\n",
            "|puqaWrEC7tY|     17.14.11|\n",
            "|d380meD0W0M|     17.14.11|\n",
            "|gHZ1Qz0KiKM|     17.14.11|\n",
            "|39idVpFF7NQ|     17.14.11|\n",
            "|nc99ccSXST0|     17.14.11|\n",
            "|jr9QtXwC9vc|     17.14.11|\n",
            "|TUmyygCMMGA|     17.14.11|\n",
            "|9wRQljFNDW8|     17.14.11|\n",
            "|VifQlJit6A0|     17.14.11|\n",
            "|5E4ZBSInqUU|     17.14.11|\n",
            "|GgVmn66oK_A|     17.14.11|\n",
            "|TaTleo4cOs8|     17.14.11|\n",
            "|kgaO45SyaO4|     17.14.11|\n",
            "|ZAQs-ctOqXQ|     17.14.11|\n",
            "|YVfyYrEmzgM|     17.14.11|\n",
            "|eNSN6qet1kE|     17.14.11|\n",
            "|B5HORANmzHw|     17.14.11|\n",
            "+-----------+-------------+\n",
            "only showing top 20 rows\n",
            "\n"
          ]
        }
      ]
    },
    {
      "cell_type": "code",
      "source": [
        "#No se puede visualizar, debido a que los strings no soportan este tipo de operación.\n",
        "df.select(\n",
        "    'likes',\n",
        "    'dislikes',\n",
        "    ('likes'- 'dislikes')\n",
        ").show()"
      ],
      "metadata": {
        "colab": {
          "base_uri": "https://localhost:8080/",
          "height": 193
        },
        "id": "J8HQRPwVcUvR",
        "outputId": "7ffdc652-b4b8-46e8-8b12-1ca979e8e670"
      },
      "execution_count": 56,
      "outputs": [
        {
          "output_type": "error",
          "ename": "TypeError",
          "evalue": "unsupported operand type(s) for -: 'str' and 'str'",
          "traceback": [
            "\u001b[0;31m---------------------------------------------------------------------------\u001b[0m",
            "\u001b[0;31mTypeError\u001b[0m                                 Traceback (most recent call last)",
            "\u001b[0;32m<ipython-input-56-0822c5a02d73>\u001b[0m in \u001b[0;36m<cell line: 1>\u001b[0;34m()\u001b[0m\n\u001b[1;32m      2\u001b[0m     \u001b[0;34m'likes'\u001b[0m\u001b[0;34m,\u001b[0m\u001b[0;34m\u001b[0m\u001b[0;34m\u001b[0m\u001b[0m\n\u001b[1;32m      3\u001b[0m     \u001b[0;34m'dislikes'\u001b[0m\u001b[0;34m,\u001b[0m\u001b[0;34m\u001b[0m\u001b[0;34m\u001b[0m\u001b[0m\n\u001b[0;32m----> 4\u001b[0;31m     \u001b[0;34m(\u001b[0m\u001b[0;34m'likes'\u001b[0m\u001b[0;34m-\u001b[0m \u001b[0;34m'dislikes'\u001b[0m\u001b[0;34m)\u001b[0m\u001b[0;34m\u001b[0m\u001b[0;34m\u001b[0m\u001b[0m\n\u001b[0m\u001b[1;32m      5\u001b[0m ).show()\n",
            "\u001b[0;31mTypeError\u001b[0m: unsupported operand type(s) for -: 'str' and 'str'"
          ]
        }
      ]
    },
    {
      "cell_type": "code",
      "source": [
        "df.select(\n",
        "    col('likes'),\n",
        "    col('dislikes'),\n",
        "    (col('likes')- col('dislikes')).alias('aceptación')\n",
        ").show()"
      ],
      "metadata": {
        "colab": {
          "base_uri": "https://localhost:8080/"
        },
        "id": "gQHh8LE4cpLR",
        "outputId": "6ed45691-97a9-4990-ca78-fcd980c7fccc"
      },
      "execution_count": 57,
      "outputs": [
        {
          "output_type": "stream",
          "name": "stdout",
          "text": [
            "+------+--------+----------+\n",
            "| likes|dislikes|aceptación|\n",
            "+------+--------+----------+\n",
            "| 57527|    2966|     54561|\n",
            "| 97185|    6146|     91039|\n",
            "|146033|    5339|    140694|\n",
            "| 10172|     666|      9506|\n",
            "|132235|    1989|    130246|\n",
            "|  9763|     511|      9252|\n",
            "| 15993|    2445|     13548|\n",
            "| 23663|     778|     22885|\n",
            "|  3543|     119|      3424|\n",
            "| 12654|    1363|     11291|\n",
            "|   655|      25|       630|\n",
            "|  1576|     303|      1273|\n",
            "|114188|    1333|    112855|\n",
            "|  7848|    1171|      6677|\n",
            "|  7473|     246|      7227|\n",
            "|  9419|      52|      9367|\n",
            "|  8011|     638|      7373|\n",
            "|  5398|      53|      5345|\n",
            "| 11963|      36|     11927|\n",
            "|  8421|     191|      8230|\n",
            "+------+--------+----------+\n",
            "only showing top 20 rows\n",
            "\n"
          ]
        }
      ]
    },
    {
      "cell_type": "code",
      "source": [
        "#selctExpr:\n",
        "df.selectExpr('likes', 'dislikes', '(likes - dislikes) as aceptacion').show()"
      ],
      "metadata": {
        "colab": {
          "base_uri": "https://localhost:8080/"
        },
        "id": "b9_U_V3Gc91_",
        "outputId": "39ef38e1-ae94-4118-8e32-6d2aeab588ed"
      },
      "execution_count": 58,
      "outputs": [
        {
          "output_type": "stream",
          "name": "stdout",
          "text": [
            "+------+--------+----------+\n",
            "| likes|dislikes|aceptacion|\n",
            "+------+--------+----------+\n",
            "| 57527|    2966|     54561|\n",
            "| 97185|    6146|     91039|\n",
            "|146033|    5339|    140694|\n",
            "| 10172|     666|      9506|\n",
            "|132235|    1989|    130246|\n",
            "|  9763|     511|      9252|\n",
            "| 15993|    2445|     13548|\n",
            "| 23663|     778|     22885|\n",
            "|  3543|     119|      3424|\n",
            "| 12654|    1363|     11291|\n",
            "|   655|      25|       630|\n",
            "|  1576|     303|      1273|\n",
            "|114188|    1333|    112855|\n",
            "|  7848|    1171|      6677|\n",
            "|  7473|     246|      7227|\n",
            "|  9419|      52|      9367|\n",
            "|  8011|     638|      7373|\n",
            "|  5398|      53|      5345|\n",
            "| 11963|      36|     11927|\n",
            "|  8421|     191|      8230|\n",
            "+------+--------+----------+\n",
            "only showing top 20 rows\n",
            "\n"
          ]
        }
      ]
    },
    {
      "cell_type": "code",
      "source": [
        "df.selectExpr('count(distinct(video_id)) as numero_videos').show()"
      ],
      "metadata": {
        "colab": {
          "base_uri": "https://localhost:8080/"
        },
        "id": "UaKIqmOHdfRk",
        "outputId": "11395a10-1d64-49d1-8eaf-c457c7e9a236"
      },
      "execution_count": 59,
      "outputs": [
        {
          "output_type": "stream",
          "name": "stdout",
          "text": [
            "+-------------+\n",
            "|numero_videos|\n",
            "+-------------+\n",
            "|         6837|\n",
            "+-------------+\n",
            "\n"
          ]
        }
      ]
    },
    {
      "cell_type": "markdown",
      "source": [
        "#FUNCIONES FILTER Y WHERE:"
      ],
      "metadata": {
        "id": "OMjhmhm8gkDZ"
      }
    },
    {
      "cell_type": "code",
      "source": [
        "df = spark.read.parquet('/content/data02/datos.parquet')"
      ],
      "metadata": {
        "id": "mg8nF8ongnSz"
      },
      "execution_count": 64,
      "outputs": []
    },
    {
      "cell_type": "code",
      "source": [
        "#filter:\n",
        "from pyspark.sql.functions import col"
      ],
      "metadata": {
        "id": "iwFXjj99gwdX"
      },
      "execution_count": 65,
      "outputs": []
    },
    {
      "cell_type": "code",
      "source": [
        "df.show()"
      ],
      "metadata": {
        "colab": {
          "base_uri": "https://localhost:8080/"
        },
        "id": "PqH4TorVhB8B",
        "outputId": "fdf917fe-3cbd-4b00-c4e3-00190e091eb4"
      },
      "execution_count": 66,
      "outputs": [
        {
          "output_type": "stream",
          "name": "stdout",
          "text": [
            "+-----------+-------------+--------------------+--------------------+-----------+-------------------+--------------------+-------+------+--------+-------------+--------------------+-----------------+----------------+----------------------+--------------------+\n",
            "|   video_id|trending_date|               title|       channel_title|category_id|       publish_time|                tags|  views| likes|dislikes|comment_count|      thumbnail_link|comments_disabled|ratings_disabled|video_error_or_removed|         description|\n",
            "+-----------+-------------+--------------------+--------------------+-----------+-------------------+--------------------+-------+------+--------+-------------+--------------------+-----------------+----------------+----------------------+--------------------+\n",
            "|2kyS6SvSYSE|     17.14.11|WE WANT TO TALK A...|        CaseyNeistat|         22|2017-11-13 17:13:01|     SHANtell martin| 748374| 57527|    2966|        15954|https://i.ytimg.c...|            False|           False|                 False|SHANTELL'S CHANNE...|\n",
            "|1ZAPwfrtAFY|     17.14.11|The Trump Preside...|     LastWeekTonight|         24|2017-11-13 07:30:00|\"last week tonigh...|2418783| 97185|    6146|        12703|https://i.ytimg.c...|            False|           False|                 False|One year after th...|\n",
            "|5qpjK5DgCt4|     17.14.11|Racist Superman |...|        Rudy Mancuso|         23|2017-11-12 19:05:24|\"racist superman\"...|3191434|146033|    5339|         8181|https://i.ytimg.c...|            False|           False|                 False|WATCH MY PREVIOUS...|\n",
            "|puqaWrEC7tY|     17.14.11|Nickelback Lyrics...|Good Mythical Mor...|         24|2017-11-13 11:00:04|\"rhett and link\"|...| 343168| 10172|     666|         2146|https://i.ytimg.c...|            False|           False|                 False|Today we find out...|\n",
            "|d380meD0W0M|     17.14.11|I Dare You: GOING...|            nigahiga|         24|2017-11-12 18:01:41|\"ryan\"|\"higa\"|\"hi...|2095731|132235|    1989|        17518|https://i.ytimg.c...|            False|           False|                 False|I know it's been ...|\n",
            "|gHZ1Qz0KiKM|     17.14.11|2 Weeks with iPho...|            iJustine|         28|2017-11-13 19:07:23|\"ijustine\"|\"week ...| 119180|  9763|     511|         1434|https://i.ytimg.c...|            False|           False|                 False|Using the iPhone ...|\n",
            "|39idVpFF7NQ|     17.14.11|Roy Moore & Jeff ...| Saturday Night Live|         24|2017-11-12 05:37:17|\"SNL\"|\"Saturday N...|2103417| 15993|    2445|         1970|https://i.ytimg.c...|            False|           False|                 False|Embattled Alabama...|\n",
            "|nc99ccSXST0|     17.14.11|5 Ice Cream Gadge...|  CrazyRussianHacker|         28|2017-11-12 21:50:37|\"5 Ice Cream Gadg...| 817732| 23663|     778|         3432|https://i.ytimg.c...|            False|           False|                 False|Ice Cream Pint Co...|\n",
            "|jr9QtXwC9vc|     17.14.11|The Greatest Show...|    20th Century Fox|          1|2017-11-13 14:00:23|\"Trailer\"|\"Hugh J...| 826059|  3543|     119|          340|https://i.ytimg.c...|            False|           False|                 False|Inspired by the i...|\n",
            "|TUmyygCMMGA|     17.14.11|Why the rise of t...|                 Vox|         25|2017-11-13 13:45:16|\"vox.com\"|\"vox\"|\"...| 256426| 12654|    1363|         2368|https://i.ytimg.c...|            False|           False|                 False|For now, at least...|\n",
            "|9wRQljFNDW8|     17.14.11|Dion Lewis' 103-Y...|                 NFL|         17|2017-11-13 02:05:26|\"NFL\"|\"Football\"|...|  81377|   655|      25|          177|https://i.ytimg.c...|            False|           False|                 False|New England Patri...|\n",
            "|VifQlJit6A0|     17.14.11|(SPOILERS) 'Shiva...|                 amc|         24|2017-11-13 03:00:00|\"The Walking Dead...| 104578|  1576|     303|         1279|https://i.ytimg.c...|            False|           False|                 False|Shiva arrives jus...|\n",
            "|5E4ZBSInqUU|     17.14.11|Marshmello - Bloc...|          marshmello|         10|2017-11-13 17:00:00|\"marshmello\"|\"blo...| 687582|114188|    1333|         8371|https://i.ytimg.c...|            False|           False|                 False|WATCH SILENCE MUS...|\n",
            "|GgVmn66oK_A|     17.14.11|Which Countries A...|       NowThis World|         25|2017-11-12 14:00:00|\"nowthis\"|\"nowthi...| 544770|  7848|    1171|         3981|https://i.ytimg.c...|            False|           False|                 False|The world at larg...|\n",
            "|TaTleo4cOs8|     17.14.11|SHOPPING FOR NEW ...|     The king of DIY|         15|2017-11-12 18:30:01|\"shopping for new...| 207532|  7473|     246|         2120|https://i.ytimg.c...|            False|           False|                 False|Today we go shopp...|\n",
            "|kgaO45SyaO4|     17.14.11|    The New SpotMini|      BostonDynamics|         28|2017-11-13 20:09:58|\"Robots\"|\"Boston ...|  75752|  9419|      52|         1230|https://i.ytimg.c...|            False|           False|                 False|For more informat...|\n",
            "|ZAQs-ctOqXQ|     17.14.11|One Change That W...|             Cracked|         23|2017-11-12 17:00:05|\"pacific rim\"|\"pa...| 295639|  8011|     638|         1256|https://i.ytimg.c...|            False|           False|                 False|Pacific Rim was s...|\n",
            "|YVfyYrEmzgM|     17.14.11|How does your bod...|              TED-Ed|         27|2017-11-13 16:00:07|\"TED\"|\"TED-Ed\"|\"T...|  78044|  5398|      53|          385|https://i.ytimg.c...|            False|           False|                 False|Check out our Pat...|\n",
            "|eNSN6qet1kE|     17.14.11|HomeMade Electric...|         PeterSripol|         28|2017-11-13 15:30:17|\"ultralight\"|\"air...|  97007| 11963|      36|         2211|https://i.ytimg.c...|            False|           False|                 False|aaaannnd now to f...|\n",
            "|B5HORANmzHw|     17.14.11|Founding An Inbre...|             SciShow|         27|2017-11-12 22:00:01|\"SciShow\"|\"scienc...| 223871|  8421|     191|         1214|https://i.ytimg.c...|            False|           False|                 False|Thanks to 23AndMe...|\n",
            "+-----------+-------------+--------------------+--------------------+-----------+-------------------+--------------------+-------+------+--------+-------------+--------------------+-----------------+----------------+----------------------+--------------------+\n",
            "only showing top 20 rows\n",
            "\n"
          ]
        }
      ]
    },
    {
      "cell_type": "code",
      "source": [
        "df.filter(col('video_id') == '2kyS6SvSYSE').show()"
      ],
      "metadata": {
        "colab": {
          "base_uri": "https://localhost:8080/"
        },
        "id": "0Hmpb1x-hGkz",
        "outputId": "6dcfad23-c5f1-441c-9920-3f78af8c418a"
      },
      "execution_count": 67,
      "outputs": [
        {
          "output_type": "stream",
          "name": "stdout",
          "text": [
            "+-----------+-------------+--------------------+-------------+-----------+-------------------+---------------+-------+-----+--------+-------------+--------------------+-----------------+----------------+----------------------+--------------------+\n",
            "|   video_id|trending_date|               title|channel_title|category_id|       publish_time|           tags|  views|likes|dislikes|comment_count|      thumbnail_link|comments_disabled|ratings_disabled|video_error_or_removed|         description|\n",
            "+-----------+-------------+--------------------+-------------+-----------+-------------------+---------------+-------+-----+--------+-------------+--------------------+-----------------+----------------+----------------------+--------------------+\n",
            "|2kyS6SvSYSE|     17.14.11|WE WANT TO TALK A...| CaseyNeistat|         22|2017-11-13 17:13:01|SHANtell martin| 748374|57527|    2966|        15954|https://i.ytimg.c...|            False|           False|                 False|SHANTELL'S CHANNE...|\n",
            "|2kyS6SvSYSE|     17.15.11|WE WANT TO TALK A...| CaseyNeistat|         22|2017-11-13 17:13:01|SHANtell martin|2188590|88099|    7150|        24225|https://i.ytimg.c...|            False|           False|                 False|SHANTELL'S CHANNE...|\n",
            "|2kyS6SvSYSE|     17.16.11|WE WANT TO TALK A...| CaseyNeistat|         22|2017-11-13 17:13:01|SHANtell martin|2325233|91111|    7543|        21450|https://i.ytimg.c...|            False|           False|                 False|SHANTELL'S CHANNE...|\n",
            "|2kyS6SvSYSE|     17.17.11|WE WANT TO TALK A...| CaseyNeistat|         22|2017-11-13 17:13:01|SHANtell martin|2400741|92831|    7687|        21714|https://i.ytimg.c...|            False|           False|                 False|SHANTELL'S CHANNE...|\n",
            "|2kyS6SvSYSE|     17.18.11|WE WANT TO TALK A...| CaseyNeistat|         22|2017-11-13 17:13:01|SHANtell martin|2468267|94303|    7802|        21866|https://i.ytimg.c...|            False|           False|                 False|SHANTELL'S CHANNE...|\n",
            "|2kyS6SvSYSE|     17.19.11|WE WANT TO TALK A...| CaseyNeistat|         22|2017-11-13 17:13:01|SHANtell martin|2524854|95587|    7892|        22038|https://i.ytimg.c...|            False|           False|                 False|SHANTELL'S CHANNE...|\n",
            "|2kyS6SvSYSE|     17.20.11|WE WANT TO TALK A...| CaseyNeistat|         22|2017-11-13 17:13:01|SHANtell martin|2564903|96321|    7972|        22149|https://i.ytimg.c...|            False|           False|                 False|SHANTELL'S CHANNE...|\n",
            "+-----------+-------------+--------------------+-------------+-----------+-------------------+---------------+-------+-----+--------+-------------+--------------------+-----------------+----------------+----------------------+--------------------+\n",
            "\n"
          ]
        }
      ]
    },
    {
      "cell_type": "code",
      "source": [
        "#where:\n",
        "df1 = spark.read.parquet('/content/data02/datos.parquet').where(col('trending_date') != '17.14.11')"
      ],
      "metadata": {
        "id": "mGQyS5NchTMO"
      },
      "execution_count": 68,
      "outputs": []
    },
    {
      "cell_type": "code",
      "source": [
        "df1.show()"
      ],
      "metadata": {
        "colab": {
          "base_uri": "https://localhost:8080/"
        },
        "id": "WOEYRsAYhx1j",
        "outputId": "561f169a-02eb-4e9e-d8cb-5dba89d93ea6"
      },
      "execution_count": 69,
      "outputs": [
        {
          "output_type": "stream",
          "name": "stdout",
          "text": [
            "+--------------------+--------------------+--------------------+--------------------+--------------------+-------------------+--------------------+-------+------+--------+-------------+--------------------+-----------------+----------------+----------------------+--------------------+\n",
            "|            video_id|       trending_date|               title|       channel_title|         category_id|       publish_time|                tags|  views| likes|dislikes|comment_count|      thumbnail_link|comments_disabled|ratings_disabled|video_error_or_removed|         description|\n",
            "+--------------------+--------------------+--------------------+--------------------+--------------------+-------------------+--------------------+-------+------+--------+-------------+--------------------+-----------------+----------------+----------------------+--------------------+\n",
            "|\\nCook with confi...|             recipes|              videos| and restaurant g...| dining destinations|               null|                null|   null|  null|    null|         null|                null|             null|            null|                  null|                null|\n",
            "|\\nVogue is the au...|      culture trends|     beauty coverage|              videos|     celebrity style|               null|                null|   null|  null|    null|         null|                null|             null|            null|                  null|                null|\n",
            "|\\nWIRED is where ...| WIRED explores t...|          innovation| and culture.\\n\\n...|                null|               null|                null|   null|  null|    null|         null|                null|             null|            null|                  null|                null|\n",
            "|         YvfYK0EEhK4|            17.15.11|Brent Pella - Why...|         Brent Pella|                  23|2017-11-14 15:32:51|\"spirit airlines\"...| 462490| 14132|     795|          666|https://i.ytimg.c...|            False|           False|                 False|Traveling for the...|\n",
            "|         cxMvzK2OQTw|            17.15.11|Cards Against Hum...|Cards Against Hum...|                  23|2017-11-14 16:43:11|              [none]| 295217|  4854|    1439|         1267|https://i.ytimg.c...|            False|           False|                 False|Narrated by Peter...|\n",
            "|         bAkEd8r7Nnw|            17.15.11|Slow Mo Katana Sw...|    The Slow Mo Guys|                  24|2017-11-14 18:31:20|\"slomo\"|\"slow\"|\"m...|1525400| 63995|     896|         4697|https://i.ytimg.c...|            False|           False|                 False|Has Dan ever used...|\n",
            "|         ItYOdWRo0JY|            17.15.11|Selling My iPhone...|          TechSmartt|                  28|2017-11-14 00:45:15|\"iphone x\"|\"iphon...|1836419| 28647|   17815|         7860|https://i.ytimg.c...|            False|           False|                 False|I saw the EcoATM ...|\n",
            "|         5530I_pYjbo|            17.15.11|How I Trained My ...|         JunsKitchen|                  26|2017-11-14 12:06:56|\"how\"|\"trained\"|\"...| 977285| 87615|     391|         5575|https://i.ytimg.c...|            False|           False|                 False|►EQUIPMENT I use ...|\n",
            "|         dUMH6DVYskc|            17.15.11|Ten-Year-Old's Fa...|     Attaullah Malik|                  28|2017-11-14 12:02:49|\"iPhone X\"|\"Face ...| 390964|  3687|    1273|         1224|https://i.ytimg.c...|            False|           False|                 False|We are seeing a f...|\n",
            "|         gjXrm2Q-te4|            17.15.11|Jimmy Fallon Pays...|The Tonight Show ...|                  23|2017-11-14 04:55:24|\"Jimmy Fallon\"|\"T...|1611093| 58474|     837|         3294|https://i.ytimg.c...|            False|           False|                 False|Jimmy celebrates ...|\n",
            "|         9SK1I0V6U5c|            17.15.11|Lie Detector | An...|        Anwar Jibawi|                  23|2017-11-14 18:01:03|\"lie detector\"|\"a...| 983365| 60983|     578|         3837|https://i.ytimg.c...|            False|           False|                 False|SUBSCRIBE ► https...|\n",
            "|         VsYmwBOYfW8|            17.15.11|Mean Tweets – Jim...|   Jimmy Kimmel Live|                  23|2017-11-14 08:30:01|\"jimmy\"|\"jimmy ki...|2765121| 35529|    1705|         2388|https://i.ytimg.c...|            False|           False|                 False|In honor of Jimmy...|\n",
            "|         kgaO45SyaO4|            17.15.11|    The New SpotMini|      BostonDynamics|                  28|2017-11-13 20:09:58|\"Robots\"|\"Boston ...|3701763| 56561|    2495|        11608|https://i.ytimg.c...|            False|           False|                 False|For more informat...|\n",
            "|         CtBca6H6Teg|            17.15.11|Honest Trailers -...|      Screen Junkies|                   1|2017-11-14 18:00:01|\"batman\"|\"screenj...| 829132| 25109|     316|         3428|https://i.ytimg.c...|            False|           False|                 False|Before Justice Le...|\n",
            "|         pcWKpGzhgq4|            17.15.11|Jason Momoa Shows...|The Graham Norton...|                  24|2017-11-14 12:13:35|\"Graham Norton\"|\"...| 391049|  5939|     106|          385|https://i.ytimg.c...|            False|           False|                 False|It's not a triden...|\n",
            "|         L3br0klRqF4|            17.15.11|Watch live: Sessi...|     Washington Post|                  25|2017-11-14 21:51:20|\"breaking news vi...| 137003|   580|     262|          343|https://i.ytimg.c...|            False|           False|                 False|Attorney General ...|\n",
            "|         9kF9xY74h-E|            17.15.11|Spilling Tea Abou...|         Dolan Twins|                  23|2017-11-14 21:00:47|\"Dolan Twins\"|\"Sp...| 891912|122347|     455|         7459|https://i.ytimg.c...|            False|           False|                 False|We spill TEA abou...|\n",
            "|         p2EY93WfBQk|            17.15.11|Is the Morphe 350...|         Jackie Aina|                  26|2017-11-14 21:03:47|\"morphe\"|\"morphe ...| 175539| 17130|     264|         1747|https://i.ytimg.c...|            False|           False|                 False|hi babes! the lat...|\n",
            "|         xL_qpDkF5A8|            17.15.11|American Crime St...|           TV Promos|                  24|2017-11-15 01:25:18|\"Donatella Versac...|  14565|   478|      13|           67|https://i.ytimg.c...|            False|           False|                 False|The Assassination...|\n",
            "|         eQVhAN7-IAw|            17.15.11|The Making of a S...|        Taylor Swift|                  10|2017-11-15 03:43:47|\"DIRECTV\"|\"DIRECT...| 125645| 16754|      65|         1373|https://i.ytimg.c...|            False|           False|                 False|A glimpse into Ta...|\n",
            "+--------------------+--------------------+--------------------+--------------------+--------------------+-------------------+--------------------+-------+------+--------+-------------+--------------------+-----------------+----------------+----------------------+--------------------+\n",
            "only showing top 20 rows\n",
            "\n"
          ]
        }
      ]
    },
    {
      "cell_type": "code",
      "source": [
        "df2 = spark.read.parquet('/content/data02/datos.parquet').where(col('likes') > 5000)"
      ],
      "metadata": {
        "id": "YvsmPh5FhzbM"
      },
      "execution_count": 70,
      "outputs": []
    },
    {
      "cell_type": "code",
      "source": [
        "df2.show()"
      ],
      "metadata": {
        "colab": {
          "base_uri": "https://localhost:8080/"
        },
        "id": "5moCrXRfiFlm",
        "outputId": "39f24230-8644-43dd-eecd-b351eb687d45"
      },
      "execution_count": 71,
      "outputs": [
        {
          "output_type": "stream",
          "name": "stdout",
          "text": [
            "+-----------+-------------+--------------------+--------------------+-----------+-------------------+--------------------+-------+------+--------+-------------+--------------------+-----------------+----------------+----------------------+--------------------+\n",
            "|   video_id|trending_date|               title|       channel_title|category_id|       publish_time|                tags|  views| likes|dislikes|comment_count|      thumbnail_link|comments_disabled|ratings_disabled|video_error_or_removed|         description|\n",
            "+-----------+-------------+--------------------+--------------------+-----------+-------------------+--------------------+-------+------+--------+-------------+--------------------+-----------------+----------------+----------------------+--------------------+\n",
            "|2kyS6SvSYSE|     17.14.11|WE WANT TO TALK A...|        CaseyNeistat|         22|2017-11-13 17:13:01|     SHANtell martin| 748374| 57527|    2966|        15954|https://i.ytimg.c...|            False|           False|                 False|SHANTELL'S CHANNE...|\n",
            "|1ZAPwfrtAFY|     17.14.11|The Trump Preside...|     LastWeekTonight|         24|2017-11-13 07:30:00|\"last week tonigh...|2418783| 97185|    6146|        12703|https://i.ytimg.c...|            False|           False|                 False|One year after th...|\n",
            "|5qpjK5DgCt4|     17.14.11|Racist Superman |...|        Rudy Mancuso|         23|2017-11-12 19:05:24|\"racist superman\"...|3191434|146033|    5339|         8181|https://i.ytimg.c...|            False|           False|                 False|WATCH MY PREVIOUS...|\n",
            "|puqaWrEC7tY|     17.14.11|Nickelback Lyrics...|Good Mythical Mor...|         24|2017-11-13 11:00:04|\"rhett and link\"|...| 343168| 10172|     666|         2146|https://i.ytimg.c...|            False|           False|                 False|Today we find out...|\n",
            "|d380meD0W0M|     17.14.11|I Dare You: GOING...|            nigahiga|         24|2017-11-12 18:01:41|\"ryan\"|\"higa\"|\"hi...|2095731|132235|    1989|        17518|https://i.ytimg.c...|            False|           False|                 False|I know it's been ...|\n",
            "|gHZ1Qz0KiKM|     17.14.11|2 Weeks with iPho...|            iJustine|         28|2017-11-13 19:07:23|\"ijustine\"|\"week ...| 119180|  9763|     511|         1434|https://i.ytimg.c...|            False|           False|                 False|Using the iPhone ...|\n",
            "|39idVpFF7NQ|     17.14.11|Roy Moore & Jeff ...| Saturday Night Live|         24|2017-11-12 05:37:17|\"SNL\"|\"Saturday N...|2103417| 15993|    2445|         1970|https://i.ytimg.c...|            False|           False|                 False|Embattled Alabama...|\n",
            "|nc99ccSXST0|     17.14.11|5 Ice Cream Gadge...|  CrazyRussianHacker|         28|2017-11-12 21:50:37|\"5 Ice Cream Gadg...| 817732| 23663|     778|         3432|https://i.ytimg.c...|            False|           False|                 False|Ice Cream Pint Co...|\n",
            "|TUmyygCMMGA|     17.14.11|Why the rise of t...|                 Vox|         25|2017-11-13 13:45:16|\"vox.com\"|\"vox\"|\"...| 256426| 12654|    1363|         2368|https://i.ytimg.c...|            False|           False|                 False|For now, at least...|\n",
            "|5E4ZBSInqUU|     17.14.11|Marshmello - Bloc...|          marshmello|         10|2017-11-13 17:00:00|\"marshmello\"|\"blo...| 687582|114188|    1333|         8371|https://i.ytimg.c...|            False|           False|                 False|WATCH SILENCE MUS...|\n",
            "|GgVmn66oK_A|     17.14.11|Which Countries A...|       NowThis World|         25|2017-11-12 14:00:00|\"nowthis\"|\"nowthi...| 544770|  7848|    1171|         3981|https://i.ytimg.c...|            False|           False|                 False|The world at larg...|\n",
            "|TaTleo4cOs8|     17.14.11|SHOPPING FOR NEW ...|     The king of DIY|         15|2017-11-12 18:30:01|\"shopping for new...| 207532|  7473|     246|         2120|https://i.ytimg.c...|            False|           False|                 False|Today we go shopp...|\n",
            "|kgaO45SyaO4|     17.14.11|    The New SpotMini|      BostonDynamics|         28|2017-11-13 20:09:58|\"Robots\"|\"Boston ...|  75752|  9419|      52|         1230|https://i.ytimg.c...|            False|           False|                 False|For more informat...|\n",
            "|ZAQs-ctOqXQ|     17.14.11|One Change That W...|             Cracked|         23|2017-11-12 17:00:05|\"pacific rim\"|\"pa...| 295639|  8011|     638|         1256|https://i.ytimg.c...|            False|           False|                 False|Pacific Rim was s...|\n",
            "|YVfyYrEmzgM|     17.14.11|How does your bod...|              TED-Ed|         27|2017-11-13 16:00:07|\"TED\"|\"TED-Ed\"|\"T...|  78044|  5398|      53|          385|https://i.ytimg.c...|            False|           False|                 False|Check out our Pat...|\n",
            "|eNSN6qet1kE|     17.14.11|HomeMade Electric...|         PeterSripol|         28|2017-11-13 15:30:17|\"ultralight\"|\"air...|  97007| 11963|      36|         2211|https://i.ytimg.c...|            False|           False|                 False|aaaannnd now to f...|\n",
            "|B5HORANmzHw|     17.14.11|Founding An Inbre...|             SciShow|         27|2017-11-12 22:00:01|\"SciShow\"|\"scienc...| 223871|  8421|     191|         1214|https://i.ytimg.c...|            False|           False|                 False|Thanks to 23AndMe...|\n",
            "|vU14JY3x81A|     17.14.11|How Can You Contr...|         Life Noggin|         27|2017-11-13 14:00:03|\"life noggin\"|\"li...| 115791|  9586|      75|         2800|https://i.ytimg.c...|            False|           False|                 False|What if there was...|\n",
            "|_-aDHxoblr4|     17.14.11|Is It Dangerous T...|           Tom Scott|         27|2017-11-13 16:00:03|\"tom scott\"|\"toms...| 144418| 11758|      89|         1014|https://i.ytimg.c...|            False|           False|                 False|I'm visiting the ...|\n",
            "|dRpNZV18N_g|     17.14.11|SPAGHETTI BURRITO...|     HellthyJunkFood|         24|2017-11-12 14:00:04|\"spaghetti burrit...| 223077|  8676|     193|         1392|https://i.ytimg.c...|            False|           False|                 False|Visit http://www....|\n",
            "+-----------+-------------+--------------------+--------------------+-----------+-------------------+--------------------+-------+------+--------+-------------+--------------------+-----------------+----------------+----------------------+--------------------+\n",
            "only showing top 20 rows\n",
            "\n"
          ]
        }
      ]
    },
    {
      "cell_type": "code",
      "source": [
        "df2.filter((col('trending_date') != '17.14.11') & (col('likes') > 7000)).show()"
      ],
      "metadata": {
        "colab": {
          "base_uri": "https://localhost:8080/"
        },
        "id": "5cYEJjYIiIMC",
        "outputId": "b564d5cd-c9c5-4a7d-f7e1-5dd653a8fc3e"
      },
      "execution_count": 72,
      "outputs": [
        {
          "output_type": "stream",
          "name": "stdout",
          "text": [
            "+-----------+-------------+--------------------+--------------------+-----------+-------------------+--------------------+-------+------+--------+-------------+--------------------+-----------------+----------------+----------------------+--------------------+\n",
            "|   video_id|trending_date|               title|       channel_title|category_id|       publish_time|                tags|  views| likes|dislikes|comment_count|      thumbnail_link|comments_disabled|ratings_disabled|video_error_or_removed|         description|\n",
            "+-----------+-------------+--------------------+--------------------+-----------+-------------------+--------------------+-------+------+--------+-------------+--------------------+-----------------+----------------+----------------------+--------------------+\n",
            "|YvfYK0EEhK4|     17.15.11|Brent Pella - Why...|         Brent Pella|         23|2017-11-14 15:32:51|\"spirit airlines\"...| 462490| 14132|     795|          666|https://i.ytimg.c...|            False|           False|                 False|Traveling for the...|\n",
            "|bAkEd8r7Nnw|     17.15.11|Slow Mo Katana Sw...|    The Slow Mo Guys|         24|2017-11-14 18:31:20|\"slomo\"|\"slow\"|\"m...|1525400| 63995|     896|         4697|https://i.ytimg.c...|            False|           False|                 False|Has Dan ever used...|\n",
            "|ItYOdWRo0JY|     17.15.11|Selling My iPhone...|          TechSmartt|         28|2017-11-14 00:45:15|\"iphone x\"|\"iphon...|1836419| 28647|   17815|         7860|https://i.ytimg.c...|            False|           False|                 False|I saw the EcoATM ...|\n",
            "|5530I_pYjbo|     17.15.11|How I Trained My ...|         JunsKitchen|         26|2017-11-14 12:06:56|\"how\"|\"trained\"|\"...| 977285| 87615|     391|         5575|https://i.ytimg.c...|            False|           False|                 False|►EQUIPMENT I use ...|\n",
            "|gjXrm2Q-te4|     17.15.11|Jimmy Fallon Pays...|The Tonight Show ...|         23|2017-11-14 04:55:24|\"Jimmy Fallon\"|\"T...|1611093| 58474|     837|         3294|https://i.ytimg.c...|            False|           False|                 False|Jimmy celebrates ...|\n",
            "|9SK1I0V6U5c|     17.15.11|Lie Detector | An...|        Anwar Jibawi|         23|2017-11-14 18:01:03|\"lie detector\"|\"a...| 983365| 60983|     578|         3837|https://i.ytimg.c...|            False|           False|                 False|SUBSCRIBE ► https...|\n",
            "|VsYmwBOYfW8|     17.15.11|Mean Tweets – Jim...|   Jimmy Kimmel Live|         23|2017-11-14 08:30:01|\"jimmy\"|\"jimmy ki...|2765121| 35529|    1705|         2388|https://i.ytimg.c...|            False|           False|                 False|In honor of Jimmy...|\n",
            "|kgaO45SyaO4|     17.15.11|    The New SpotMini|      BostonDynamics|         28|2017-11-13 20:09:58|\"Robots\"|\"Boston ...|3701763| 56561|    2495|        11608|https://i.ytimg.c...|            False|           False|                 False|For more informat...|\n",
            "|CtBca6H6Teg|     17.15.11|Honest Trailers -...|      Screen Junkies|          1|2017-11-14 18:00:01|\"batman\"|\"screenj...| 829132| 25109|     316|         3428|https://i.ytimg.c...|            False|           False|                 False|Before Justice Le...|\n",
            "|9kF9xY74h-E|     17.15.11|Spilling Tea Abou...|         Dolan Twins|         23|2017-11-14 21:00:47|\"Dolan Twins\"|\"Sp...| 891912|122347|     455|         7459|https://i.ytimg.c...|            False|           False|                 False|We spill TEA abou...|\n",
            "|p2EY93WfBQk|     17.15.11|Is the Morphe 350...|         Jackie Aina|         26|2017-11-14 21:03:47|\"morphe\"|\"morphe ...| 175539| 17130|     264|         1747|https://i.ytimg.c...|            False|           False|                 False|hi babes! the lat...|\n",
            "|eQVhAN7-IAw|     17.15.11|The Making of a S...|        Taylor Swift|         10|2017-11-15 03:43:47|\"DIRECTV\"|\"DIRECT...| 125645| 16754|      65|         1373|https://i.ytimg.c...|            False|           False|                 False|A glimpse into Ta...|\n",
            "|2kyS6SvSYSE|     17.15.11|WE WANT TO TALK A...|        CaseyNeistat|         22|2017-11-13 17:13:01|     SHANtell martin|2188590| 88099|    7150|        24225|https://i.ytimg.c...|            False|           False|                 False|SHANTELL'S CHANNE...|\n",
            "|Y9nDagqKL7Q|     17.15.11|venting online ab...|               ProZD|          1|2017-11-13 20:47:49|\"venting online\"|...| 394709| 25188|     281|         1345|https://i.ytimg.c...|            False|           False|                 False|My Twitter: https...|\n",
            "|DbJ2s_g1oDc|     17.15.11|10 LIFE HACKS YOU...|               REACT|         24|2017-11-13 20:00:01|\"easy life hacks\"...| 863116| 20518|    1030|         4272|https://i.ytimg.c...|            False|           False|                 False|10 Awesome life h...|\n",
            "|1ZAPwfrtAFY|     17.15.11|The Trump Preside...|     LastWeekTonight|         24|2017-11-13 07:30:00|\"last week tonigh...|4632016|131784|    9892|        18284|https://i.ytimg.c...|            False|           False|                 False|One year after th...|\n",
            "|gHZ1Qz0KiKM|     17.15.11|2 Weeks with iPho...|            iJustine|         28|2017-11-13 19:07:23|\"ijustine\"|\"week ...| 758998| 19138|    2272|         2873|https://i.ytimg.c...|            False|           False|                 False|Using the iPhone ...|\n",
            "|jr9QtXwC9vc|     17.15.11|The Greatest Show...|    20th Century Fox|          1|2017-11-13 14:00:23|\"Trailer\"|\"Hugh J...|2671756| 12699|     505|         1010|https://i.ytimg.c...|            False|           False|                 False|Inspired by the i...|\n",
            "|l4bAoNAx2uo|     17.15.11|American Things E...|The Infographics ...|         27|2017-11-13 17:11:30|\"American Things ...| 419965|  9805|    1337|         5457|https://i.ytimg.c...|            False|           False|                 False|What are things t...|\n",
            "|puqaWrEC7tY|     17.15.11|Nickelback Lyrics...|Good Mythical Mor...|         24|2017-11-13 11:00:04|\"rhett and link\"|...| 772235| 15301|    1229|         3328|https://i.ytimg.c...|            False|           False|                 False|Today we find out...|\n",
            "+-----------+-------------+--------------------+--------------------+-----------+-------------------+--------------------+-------+------+--------+-------------+--------------------+-----------------+----------------+----------------------+--------------------+\n",
            "only showing top 20 rows\n",
            "\n"
          ]
        }
      ]
    },
    {
      "cell_type": "code",
      "source": [
        "#lo mismo usando 2 filters:\n",
        "df2.filter(col('trending_date') != '17.14.11').filter(col('likes') > 7000).show()"
      ],
      "metadata": {
        "colab": {
          "base_uri": "https://localhost:8080/"
        },
        "id": "wnumTDz7imUs",
        "outputId": "bc6dc499-608a-4ebb-fc01-de82b2aea779"
      },
      "execution_count": 73,
      "outputs": [
        {
          "output_type": "stream",
          "name": "stdout",
          "text": [
            "+-----------+-------------+--------------------+--------------------+-----------+-------------------+--------------------+-------+------+--------+-------------+--------------------+-----------------+----------------+----------------------+--------------------+\n",
            "|   video_id|trending_date|               title|       channel_title|category_id|       publish_time|                tags|  views| likes|dislikes|comment_count|      thumbnail_link|comments_disabled|ratings_disabled|video_error_or_removed|         description|\n",
            "+-----------+-------------+--------------------+--------------------+-----------+-------------------+--------------------+-------+------+--------+-------------+--------------------+-----------------+----------------+----------------------+--------------------+\n",
            "|YvfYK0EEhK4|     17.15.11|Brent Pella - Why...|         Brent Pella|         23|2017-11-14 15:32:51|\"spirit airlines\"...| 462490| 14132|     795|          666|https://i.ytimg.c...|            False|           False|                 False|Traveling for the...|\n",
            "|bAkEd8r7Nnw|     17.15.11|Slow Mo Katana Sw...|    The Slow Mo Guys|         24|2017-11-14 18:31:20|\"slomo\"|\"slow\"|\"m...|1525400| 63995|     896|         4697|https://i.ytimg.c...|            False|           False|                 False|Has Dan ever used...|\n",
            "|ItYOdWRo0JY|     17.15.11|Selling My iPhone...|          TechSmartt|         28|2017-11-14 00:45:15|\"iphone x\"|\"iphon...|1836419| 28647|   17815|         7860|https://i.ytimg.c...|            False|           False|                 False|I saw the EcoATM ...|\n",
            "|5530I_pYjbo|     17.15.11|How I Trained My ...|         JunsKitchen|         26|2017-11-14 12:06:56|\"how\"|\"trained\"|\"...| 977285| 87615|     391|         5575|https://i.ytimg.c...|            False|           False|                 False|►EQUIPMENT I use ...|\n",
            "|gjXrm2Q-te4|     17.15.11|Jimmy Fallon Pays...|The Tonight Show ...|         23|2017-11-14 04:55:24|\"Jimmy Fallon\"|\"T...|1611093| 58474|     837|         3294|https://i.ytimg.c...|            False|           False|                 False|Jimmy celebrates ...|\n",
            "|9SK1I0V6U5c|     17.15.11|Lie Detector | An...|        Anwar Jibawi|         23|2017-11-14 18:01:03|\"lie detector\"|\"a...| 983365| 60983|     578|         3837|https://i.ytimg.c...|            False|           False|                 False|SUBSCRIBE ► https...|\n",
            "|VsYmwBOYfW8|     17.15.11|Mean Tweets – Jim...|   Jimmy Kimmel Live|         23|2017-11-14 08:30:01|\"jimmy\"|\"jimmy ki...|2765121| 35529|    1705|         2388|https://i.ytimg.c...|            False|           False|                 False|In honor of Jimmy...|\n",
            "|kgaO45SyaO4|     17.15.11|    The New SpotMini|      BostonDynamics|         28|2017-11-13 20:09:58|\"Robots\"|\"Boston ...|3701763| 56561|    2495|        11608|https://i.ytimg.c...|            False|           False|                 False|For more informat...|\n",
            "|CtBca6H6Teg|     17.15.11|Honest Trailers -...|      Screen Junkies|          1|2017-11-14 18:00:01|\"batman\"|\"screenj...| 829132| 25109|     316|         3428|https://i.ytimg.c...|            False|           False|                 False|Before Justice Le...|\n",
            "|9kF9xY74h-E|     17.15.11|Spilling Tea Abou...|         Dolan Twins|         23|2017-11-14 21:00:47|\"Dolan Twins\"|\"Sp...| 891912|122347|     455|         7459|https://i.ytimg.c...|            False|           False|                 False|We spill TEA abou...|\n",
            "|p2EY93WfBQk|     17.15.11|Is the Morphe 350...|         Jackie Aina|         26|2017-11-14 21:03:47|\"morphe\"|\"morphe ...| 175539| 17130|     264|         1747|https://i.ytimg.c...|            False|           False|                 False|hi babes! the lat...|\n",
            "|eQVhAN7-IAw|     17.15.11|The Making of a S...|        Taylor Swift|         10|2017-11-15 03:43:47|\"DIRECTV\"|\"DIRECT...| 125645| 16754|      65|         1373|https://i.ytimg.c...|            False|           False|                 False|A glimpse into Ta...|\n",
            "|2kyS6SvSYSE|     17.15.11|WE WANT TO TALK A...|        CaseyNeistat|         22|2017-11-13 17:13:01|     SHANtell martin|2188590| 88099|    7150|        24225|https://i.ytimg.c...|            False|           False|                 False|SHANTELL'S CHANNE...|\n",
            "|Y9nDagqKL7Q|     17.15.11|venting online ab...|               ProZD|          1|2017-11-13 20:47:49|\"venting online\"|...| 394709| 25188|     281|         1345|https://i.ytimg.c...|            False|           False|                 False|My Twitter: https...|\n",
            "|DbJ2s_g1oDc|     17.15.11|10 LIFE HACKS YOU...|               REACT|         24|2017-11-13 20:00:01|\"easy life hacks\"...| 863116| 20518|    1030|         4272|https://i.ytimg.c...|            False|           False|                 False|10 Awesome life h...|\n",
            "|1ZAPwfrtAFY|     17.15.11|The Trump Preside...|     LastWeekTonight|         24|2017-11-13 07:30:00|\"last week tonigh...|4632016|131784|    9892|        18284|https://i.ytimg.c...|            False|           False|                 False|One year after th...|\n",
            "|gHZ1Qz0KiKM|     17.15.11|2 Weeks with iPho...|            iJustine|         28|2017-11-13 19:07:23|\"ijustine\"|\"week ...| 758998| 19138|    2272|         2873|https://i.ytimg.c...|            False|           False|                 False|Using the iPhone ...|\n",
            "|jr9QtXwC9vc|     17.15.11|The Greatest Show...|    20th Century Fox|          1|2017-11-13 14:00:23|\"Trailer\"|\"Hugh J...|2671756| 12699|     505|         1010|https://i.ytimg.c...|            False|           False|                 False|Inspired by the i...|\n",
            "|l4bAoNAx2uo|     17.15.11|American Things E...|The Infographics ...|         27|2017-11-13 17:11:30|\"American Things ...| 419965|  9805|    1337|         5457|https://i.ytimg.c...|            False|           False|                 False|What are things t...|\n",
            "|puqaWrEC7tY|     17.15.11|Nickelback Lyrics...|Good Mythical Mor...|         24|2017-11-13 11:00:04|\"rhett and link\"|...| 772235| 15301|    1229|         3328|https://i.ytimg.c...|            False|           False|                 False|Today we find out...|\n",
            "+-----------+-------------+--------------------+--------------------+-----------+-------------------+--------------------+-------+------+--------+-------------+--------------------+-----------------+----------------+----------------------+--------------------+\n",
            "only showing top 20 rows\n",
            "\n"
          ]
        }
      ]
    },
    {
      "cell_type": "markdown",
      "source": [
        "#FUNCIÓN DISTINCT Y DROPDUPLICATES"
      ],
      "metadata": {
        "id": "mWeihXCxzd28"
      }
    },
    {
      "cell_type": "code",
      "source": [
        "df = spark.read.parquet('./data02')"
      ],
      "metadata": {
        "id": "-WqkOxha6XCy"
      },
      "execution_count": 76,
      "outputs": []
    },
    {
      "cell_type": "code",
      "source": [
        "#Distinct:\n",
        "df_sin_duplicados = df.distinct()"
      ],
      "metadata": {
        "id": "wAJppZSG6uhe"
      },
      "execution_count": 77,
      "outputs": []
    },
    {
      "cell_type": "code",
      "source": [
        "df_sin_duplicados.show()"
      ],
      "metadata": {
        "colab": {
          "base_uri": "https://localhost:8080/"
        },
        "id": "5Q-1QtST60vA",
        "outputId": "9afa5e33-d4ed-4880-ca1c-4196181b9d42"
      },
      "execution_count": 78,
      "outputs": [
        {
          "output_type": "stream",
          "name": "stdout",
          "text": [
            "+-----------+-------------+--------------------+-------------------+-----------+-------------------+--------------------+-------+------+--------+-------------+--------------------+-----------------+----------------+----------------------+--------------------+\n",
            "|   video_id|trending_date|               title|      channel_title|category_id|       publish_time|                tags|  views| likes|dislikes|comment_count|      thumbnail_link|comments_disabled|ratings_disabled|video_error_or_removed|         description|\n",
            "+-----------+-------------+--------------------+-------------------+-----------+-------------------+--------------------+-------+------+--------+-------------+--------------------+-----------------+----------------+----------------------+--------------------+\n",
            "|2XK4omx9uMU|     17.14.11|Camila Cabello CO...|         Capital FM|         10|2017-11-10 14:40:32|\"capitalfmofficia...| 836544| 40195|     373|          976|https://i.ytimg.c...|            False|           False|                 False|It shouldn't be s...|\n",
            "|8mhTWqWlQzU|     17.15.11|Wearing Online Do...|     Safiya Nygaard|         22|2017-11-11 01:19:33|\"wearing online d...|2922523|119348|    1161|         6736|https://i.ytimg.c...|            False|           False|                 False|I found this onli...|\n",
            "|qDAxDcjgn-8|     17.16.11|Taylor Swift - Re...|      theneedledrop|         10|2017-11-14 23:06:27|\"album\"|\"review\"|...| 225337|  9576|     587|         2282|https://i.ytimg.c...|            False|           False|                 False|Listen: https://w...|\n",
            "|jGiqc3HSxEg|     17.17.11|A Study of So Bad...|     Now You See It|         27|2017-11-13 15:30:01|\"the room\"|\"so ba...| 244538| 12392|     236|          598|https://i.ytimg.c...|            False|           False|                 False|Why do we love mo...|\n",
            "|0gwkMY-mzUQ|     17.18.11|Demi Lovato & Lui...|        Demi Lovato|         24|2017-11-15 20:11:41|\"Luis Fonsi\"|\"Dem...| 625607| 34952|     705|         1766|https://i.ytimg.c...|            False|           False|                 False|Echame La Culpa d...|\n",
            "|EbuCLC_wVlM|     17.22.11|Victoria’s Secret...|              Vogue|         24|2017-11-21 14:54:23|\"beauty\"|\"tutoria...| 270142| 12507|     114|          425|https://i.ytimg.c...|            False|           False|                 False|For the 26-year-o...|\n",
            "|FaJmopuuhZE|     17.25.11|Josh Groban - Hap...|        Josh Groban|         10|2017-11-20 16:00:08|\"Josh Groban\"|\"Ha...| 154779|  4364|     158|          546|https://i.ytimg.c...|            False|           False|                 False|Official Music Vi...|\n",
            "|0dSR-9mtuzk|     17.27.11|The Voice 2017 - ...|          The Voice|         24|2017-11-22 01:30:05|\"nbc the voice\"|\"...| 520637| 14005|     224|          621|https://i.ytimg.c...|            False|           False|                 False|The Bellas from P...|\n",
            "|IuYFvaNHJug|     17.27.11|Nick Jonas - Find...|      NickJonasVEVO|         10|2017-11-21 22:53:10|\"Nick Jonas\"|\"Fin...| 212237|  9987|     132|          422|https://i.ytimg.c...|            False|           False|                 False|Listen to “Find Y...|\n",
            "|YcCrw6d3UX4|     17.27.11|President Donald ...|           NBC News|         25|2017-11-21 19:18:02|\"nbc news\"|\"nbc\"|...|   6183|    56|      29|           54|https://i.ytimg.c...|            False|           False|                 False|President Donald ...|\n",
            "|3MA_64gyaA0|     17.29.11|Pancakes Recipe |...|    Grandpa Kitchen|         26|2017-11-28 20:44:06|\"how to make panc...| 110091|  8665|     136|         1201|https://i.ytimg.c...|            False|           False|                 False|Pancakes Recipe |...|\n",
            "|sOIBkZsGb0A|     17.29.11|Should You Confes...|    Just Between Us|         23|2017-11-27 16:00:06|\"women in comedy\"...| 145093|  5060|     373|          627|https://i.ytimg.c...|            False|           False|                 False|Get in a car. Tak...|\n",
            "|iA5u80nS1PQ|     17.29.11|More Pokemon Who ...|             Dorkly|         23|2017-11-25 20:09:25|\"Dorkly\"|\"pokemon...|1245020| 37740|    1399|         3696|https://i.ytimg.c...|            False|           False|                 False|Some people get g...|\n",
            "|dpLrlEBFq-0|     17.30.11|Keeping Up With T...|          Lele Pons|         23|2017-11-24 18:30:01|\"keeping up with ...|5665909|220831|    8359|        13758|https://i.ytimg.c...|            False|           False|                 False|WATCH DOWNTOWN MU...|\n",
            "|sTvY9Llqtms|     17.02.12|I Built a FULL SI...|         colinfurze|          2|2017-11-30 16:00:03|\"colin\"|\"furze\"|\"...| 640620| 31136|     630|         2042|https://i.ytimg.c...|            False|           False|                 False|What an epic proj...|\n",
            "|4qakFfGRV4E|     17.02.12|#23 Feed The Home...|One List , One Life|         22|2017-11-30 15:36:12|\"homeless\"|\"exper...|  40644|   667|      85|          106|https://i.ytimg.c...|            False|           False|                 False|Learn more about ...|\n",
            "|H9wMNxbQM-4|     17.03.12|White House Chris...|Saturday Night Live|         24|2017-12-03 05:46:28|\"SNL\"|\"Saturday N...|  95016|  5496|     447|          698|https://i.ytimg.c...|            False|           False|                 False|President Donald ...|\n",
            "|aTvw9_dxBlk|     17.04.12|Jim Nabors dead a...|               WTHR|         25|2017-11-30 18:20:44|              [none]|  31715|   160|      17|          172|https://i.ytimg.c...|            False|           False|                 False|Nabors' longtime ...|\n",
            "|pCfmsVFCPmY|     17.05.12|It's OK to not be OK|         Anna Akana|         23|2017-11-30 18:26:11|\"anna\"|\"akana\"|\"a...| 262063| 20741|     431|         1105|https://i.ytimg.c...|            False|           False|                 False|Hello Fresh ▶ htt...|\n",
            "|REt-3P5h4Lo|     17.07.12|Never Have I Ever...|    Kylie Cosmetics|         22|2017-11-29 23:50:14|\"Kylie Jenner\"|\"J...|1780726| 64944|    2783|         2647|https://i.ytimg.c...|            False|           False|                 False|Kylie Jenner, Jor...|\n",
            "+-----------+-------------+--------------------+-------------------+-----------+-------------------+--------------------+-------+------+--------+-------------+--------------------+-----------------+----------------+----------------------+--------------------+\n",
            "only showing top 20 rows\n",
            "\n"
          ]
        }
      ]
    },
    {
      "cell_type": "code",
      "source": [
        "print(f'el conteo del dataframe original es: {df.count()}')\n",
        "print(f'el conteo del dataframe sin duplicados es: {df_sin_duplicados.count()}')"
      ],
      "metadata": {
        "colab": {
          "base_uri": "https://localhost:8080/"
        },
        "id": "M7dogKUG63XT",
        "outputId": "7092ff76-621b-4a74-bbcd-57ce36649726"
      },
      "execution_count": 79,
      "outputs": [
        {
          "output_type": "stream",
          "name": "stdout",
          "text": [
            "el conteo del dataframe original es: 48137\n",
            "el conteo del dataframe sin duplicados es: 41428\n"
          ]
        }
      ]
    },
    {
      "cell_type": "code",
      "source": [
        "#función dropDuplicate:\n",
        "dataframe = spark.createDataFrame([(1, 'azul', 567), (2, 'rojo', 487), (1, 'azul', 345), (2, 'verde', 783)]).toDF('id', 'color', 'importe')"
      ],
      "metadata": {
        "id": "6w0xtLii7Prx"
      },
      "execution_count": 82,
      "outputs": []
    },
    {
      "cell_type": "code",
      "source": [
        "dataframe.show()"
      ],
      "metadata": {
        "colab": {
          "base_uri": "https://localhost:8080/"
        },
        "id": "RP0EecG38P0m",
        "outputId": "ba0107c8-0682-4c51-a776-dec7ee216a14"
      },
      "execution_count": 83,
      "outputs": [
        {
          "output_type": "stream",
          "name": "stdout",
          "text": [
            "+---+-----+-------+\n",
            "| id|color|importe|\n",
            "+---+-----+-------+\n",
            "|  1| azul|    567|\n",
            "|  2| rojo|    487|\n",
            "|  1| azul|    345|\n",
            "|  2|verde|    783|\n",
            "+---+-----+-------+\n",
            "\n"
          ]
        }
      ]
    },
    {
      "cell_type": "code",
      "source": [
        "dataframe.dropDuplicates(['id', 'color']).show()"
      ],
      "metadata": {
        "colab": {
          "base_uri": "https://localhost:8080/"
        },
        "id": "UrDOXJ-X8fLp",
        "outputId": "47773a64-71c7-445a-fc33-3e41735cd89f"
      },
      "execution_count": 84,
      "outputs": [
        {
          "output_type": "stream",
          "name": "stdout",
          "text": [
            "+---+-----+-------+\n",
            "| id|color|importe|\n",
            "+---+-----+-------+\n",
            "|  1| azul|    567|\n",
            "|  2| rojo|    487|\n",
            "|  2|verde|    783|\n",
            "+---+-----+-------+\n",
            "\n"
          ]
        }
      ]
    },
    {
      "cell_type": "code",
      "source": [
        "#en terminos de rendimiento no hay diferencias entre estos dos enfoques.\n",
        "#debemos seleccionar a criterio según el problema."
      ],
      "metadata": {
        "id": "gnvcV9p98qtt"
      },
      "execution_count": 85,
      "outputs": []
    },
    {
      "cell_type": "markdown",
      "source": [
        "#FUNCIONES SORT Y ORDERBY"
      ],
      "metadata": {
        "id": "S0f6RpAC9FC5"
      }
    },
    {
      "cell_type": "code",
      "source": [
        "from pyspark.sql.functions import col\n",
        "df = (spark.read.parquet('/content/data02/datos.parquet')).select(col('likes'), col('views'), col('video_id'), col('dislikes')).dropDuplicates(['video_id'])"
      ],
      "metadata": {
        "id": "8gutA9WU9JFk"
      },
      "execution_count": 86,
      "outputs": []
    },
    {
      "cell_type": "code",
      "source": [
        "df.show()"
      ],
      "metadata": {
        "colab": {
          "base_uri": "https://localhost:8080/"
        },
        "id": "bfVr8Dga-BKs",
        "outputId": "a67a680b-ccda-46a0-932e-a0f3b5294765"
      },
      "execution_count": 87,
      "outputs": [
        {
          "output_type": "stream",
          "name": "stdout",
          "text": [
            "+------+-------+--------------------+--------+\n",
            "| likes|  views|            video_id|dislikes|\n",
            "+------+-------+--------------------+--------+\n",
            "| 63995|1525400|         bAkEd8r7Nnw|     896|\n",
            "|   427|   9036|         eijd-yjXY9E|      14|\n",
            "|  4145| 318249|         npcqBt_e4k0|     110|\n",
            "|  6669| 203615|         LeWtF5y9-6Q|     136|\n",
            "|  2166| 104499|         GhcqN2FDAnA|    1066|\n",
            "| 10834| 160196|         v_CMMWCN5nQ|     162|\n",
            "| 36068| 962042|         R8WBN3fJmwM|     845|\n",
            "|   982|  36848|         oKuPJ7zF0_k|       6|\n",
            "| 26482| 713615|         B3JFSL8AA70|    2443|\n",
            "|275632|2822642|         f6Egj7ncOi8|    1444|\n",
            "| 23922| 321885|         8gE6cek7F30|     317|\n",
            "|    70|  13670|         EdkK29-TWJk|       1|\n",
            "|  1131| 120802|         8szK9FBpdPI|      92|\n",
            "| 12355| 294080|         6gFj1XJ6b5o|      80|\n",
            "|  null|   null|\\nhttp://www.Mast...|    null|\n",
            "| 12070| 233766|         wOFuVNiAJQQ|     117|\n",
            "| 21067| 210371|         PpElRBQ-yGc|     135|\n",
            "|  4609| 363194|         q11UD-6XT-8|     955|\n",
            "|   188|  31145|         IzQwbRdh5Ts|       1|\n",
            "|  2184|  74090|         IfdihPR__WI|      47|\n",
            "+------+-------+--------------------+--------+\n",
            "only showing top 20 rows\n",
            "\n"
          ]
        }
      ]
    },
    {
      "cell_type": "code",
      "source": [
        "#sort:\n",
        "#salen nulls  porque por defecto lo esta ordenando en forma ascendente.\n",
        "df.sort('likes').show()"
      ],
      "metadata": {
        "colab": {
          "base_uri": "https://localhost:8080/"
        },
        "id": "0Nn6BJtZ-JTP",
        "outputId": "44488df5-0217-450f-f287-2983fb514778"
      },
      "execution_count": 89,
      "outputs": [
        {
          "output_type": "stream",
          "name": "stdout",
          "text": [
            "+-----+-----+--------------------+--------+\n",
            "|likes|views|            video_id|dislikes|\n",
            "+-----+-----+--------------------+--------+\n",
            "| null| null|\\nFor more videos...|    null|\n",
            "| null| null|\\nFashion Editor:...|    null|\n",
            "| null| null|\\nAccess Hollywoo...|    null|\n",
            "| null| null|\\nStill haven’t s...|    null|\n",
            "| null| null|\\nhttps://www.you...|    null|\n",
            "| null| null|Horror Outro ► ht...|    null|\n",
            "| null| null|\\nChapped lips ar...|    null|\n",
            "| null| null|\\nRoar: https://w...|    null|\n",
            "| null| null|\\nThe leading int...|    null|\n",
            "| null| null|             \\nToday|    null|\n",
            "| null| null|\\nONE STRANGE ROC...|    null|\n",
            "| null| null|\\nSNAPCHAT: fishi...|    null|\n",
            "| null| null|\\nInstagram: http...|    null|\n",
            "| null| null|\\nInstagram.com/w...|    null|\n",
            "| null| null|\\n5050 State Hwy....|    null|\n",
            "| null| null|\\nSIGN UP FOR BRA...|    null|\n",
            "| null| null|\\nJames Ambler an...|    null|\n",
            "| null| null|\\nhttp://www.Mast...|    null|\n",
            "| null| null|\\nEver After Tuto...|    null|\n",
            "| null| null|          \\nEvelin 7|    null|\n",
            "+-----+-----+--------------------+--------+\n",
            "only showing top 20 rows\n",
            "\n"
          ]
        }
      ]
    },
    {
      "cell_type": "code",
      "source": [
        "from pyspark.sql.functions import desc"
      ],
      "metadata": {
        "id": "uGfIGwCm-ThC"
      },
      "execution_count": 90,
      "outputs": []
    },
    {
      "cell_type": "code",
      "source": [
        "df.sort(desc('likes')).show()\n",
        "#resultado mas informativo."
      ],
      "metadata": {
        "colab": {
          "base_uri": "https://localhost:8080/"
        },
        "id": "6nNSnB2D-p1l",
        "outputId": "89493070-4354-4b2d-f016-f548fbde233b"
      },
      "execution_count": 92,
      "outputs": [
        {
          "output_type": "stream",
          "name": "stdout",
          "text": [
            "+-------+--------+-----------+--------+\n",
            "|  likes|   views|   video_id|dislikes|\n",
            "+-------+--------+-----------+--------+\n",
            "|3880071|39349927|7C2z4GqqS5E|   72707|\n",
            "|2055137|13945717|kTlv5_Bs8aw|   23888|\n",
            "|2050527|10695328|OK3GJ0WIQ8s|   14711|\n",
            "|1956202|10666323|p8npDG2ulKQ|   13966|\n",
            "|1735895|37736281|6ZfuNTqbHE8|   21969|\n",
            "|1634124|33523622|2Vv-BfVoq4g|   21082|\n",
            "|1572997| 7518332|kX0vO4vlJuU|    8113|\n",
            "|1437859| 5884233|D_6QmL6rExk|    6390|\n",
            "|1405355|31648454|VYOjWnS4cMY|   51547|\n",
            "|1401915| 5275672|8O_MwlZ2dEg|    6268|\n",
            "|1386616|15873034|ffxKSjUwKdU|   40714|\n",
            "|1366736|16884972|J2HytHu5VBI|   59930|\n",
            "|1290509| 6416697|2tDKp41nrw8|    4358|\n",
            "|1207457|13754992|_5d-sQ7Fh5M|  280675|\n",
            "|1167488| 8041970|oWjxSkJpxFU|  147643|\n",
            "|1149185|24782158|FlsCjmMhFmw|  483924|\n",
            "|1111592|38873543|i0p1bmr0EmE|   96407|\n",
            "|1065777|14089954|dfnCAmr569k|   47839|\n",
            "| 983693|14820746|tCXGJQYZ9JA|   44254|\n",
            "| 975715|19716689|QwievZ1Tx-8|    9118|\n",
            "+-------+--------+-----------+--------+\n",
            "only showing top 20 rows\n",
            "\n"
          ]
        }
      ]
    },
    {
      "cell_type": "code",
      "source": [
        "#función ORDERBY:\n",
        "df.orderBy(col('views')).show()"
      ],
      "metadata": {
        "colab": {
          "base_uri": "https://localhost:8080/"
        },
        "id": "L226MOEC-wxD",
        "outputId": "22c24f09-d22f-4669-de2a-214a562ab36f"
      },
      "execution_count": 93,
      "outputs": [
        {
          "output_type": "stream",
          "name": "stdout",
          "text": [
            "+-----+-----+--------------------+--------+\n",
            "|likes|views|            video_id|dislikes|\n",
            "+-----+-----+--------------------+--------+\n",
            "| null| null|\\nIMDB - http://w...|    null|\n",
            "| null| null|\\nThis is the fir...|    null|\n",
            "| null| null|\\nAccess Hollywoo...|    null|\n",
            "| null| null|\\nStill haven’t s...|    null|\n",
            "| null| null|\\nhttps://www.you...|    null|\n",
            "| null| null|          \\nEvelin 7|    null|\n",
            "| null| null|Horror Outro ► ht...|    null|\n",
            "| null| null|\\nChapped lips ar...|    null|\n",
            "| null| null|\\nRoar: https://w...|    null|\n",
            "| null| null|\\nThe leading int...|    null|\n",
            "| null| null|             \\nToday|    null|\n",
            "| null| null|\\nONE STRANGE ROC...|    null|\n",
            "| null| null|\\nSNAPCHAT: fishi...|    null|\n",
            "| null| null|\\nInstagram: http...|    null|\n",
            "| null| null|\\nInstagram.com/w...|    null|\n",
            "| null| null|\\n5050 State Hwy....|    null|\n",
            "| null| null|\\nFor more videos...|    null|\n",
            "| null| null|\\nJames Ambler an...|    null|\n",
            "| null| null|\\nFashion Editor:...|    null|\n",
            "| null| null|\\nEver After Tuto...|    null|\n",
            "+-----+-----+--------------------+--------+\n",
            "only showing top 20 rows\n",
            "\n"
          ]
        }
      ]
    },
    {
      "cell_type": "code",
      "source": [
        "df.orderBy(col('views').desc()).show()"
      ],
      "metadata": {
        "colab": {
          "base_uri": "https://localhost:8080/"
        },
        "id": "72RE3N6k_A-T",
        "outputId": "dff8cc46-c2c5-47b9-878a-d9a137cb72d3"
      },
      "execution_count": 95,
      "outputs": [
        {
          "output_type": "stream",
          "name": "stdout",
          "text": [
            "+-------+--------+-----------+--------+\n",
            "|  likes|   views|   video_id|dislikes|\n",
            "+-------+--------+-----------+--------+\n",
            "| 609101|48431654|-BQJo3vK8O8|   52259|\n",
            "|3880071|39349927|7C2z4GqqS5E|   72707|\n",
            "|1111592|38873543|i0p1bmr0EmE|   96407|\n",
            "|1735895|37736281|6ZfuNTqbHE8|   21969|\n",
            "|1634124|33523622|2Vv-BfVoq4g|   21082|\n",
            "|1405355|31648454|VYOjWnS4cMY|   51547|\n",
            "| 850362|27973210|u9Mv98Gr5pY|   26541|\n",
            "|1149185|24782158|FlsCjmMhFmw|  483924|\n",
            "| 641546|24421448|U9BwWKXjVaI|   16517|\n",
            "| 587326|23758250|1J76wN0TPI4|   18799|\n",
            "|      0|20921796|BhIEIO0vaBE|       0|\n",
            "| 975715|19716689|QwievZ1Tx-8|    9118|\n",
            "| 511753|18639195|rRr1qiJRsXk|   15606|\n",
            "| 754791|18195959|rRzxEiBLQCA|   65326|\n",
            "| 399200|18184886|vn9mMeWcgoM|   17473|\n",
            "| 787419|17158531|n1WpP7iowLc|   43420|\n",
            "|1366736|16884972|J2HytHu5VBI|   59930|\n",
            "|1386616|15873034|ffxKSjUwKdU|   40714|\n",
            "| 278743|15006579|yDiXQl7grPQ|   13599|\n",
            "| 983693|14820746|tCXGJQYZ9JA|   44254|\n",
            "+-------+--------+-----------+--------+\n",
            "only showing top 20 rows\n",
            "\n"
          ]
        }
      ]
    },
    {
      "cell_type": "code",
      "source": [
        "#mezcla de ordenes:\n",
        "dataframe = spark.createDataFrame([(1,'azul', 568), (2,'rojo',235), (1, 'azul', 456), (2, 'azul', 783)]).toDF('id', 'color', 'importe')"
      ],
      "metadata": {
        "id": "5PuEcyKM_N-f"
      },
      "execution_count": 96,
      "outputs": []
    },
    {
      "cell_type": "code",
      "source": [
        "dataframe.show()"
      ],
      "metadata": {
        "colab": {
          "base_uri": "https://localhost:8080/"
        },
        "id": "Gskp-F7H_xis",
        "outputId": "3c43390a-5c53-44cb-bbae-c18893e3c6c8"
      },
      "execution_count": 97,
      "outputs": [
        {
          "output_type": "stream",
          "name": "stdout",
          "text": [
            "+---+-----+-------+\n",
            "| id|color|importe|\n",
            "+---+-----+-------+\n",
            "|  1| azul|    568|\n",
            "|  2| rojo|    235|\n",
            "|  1| azul|    456|\n",
            "|  2| azul|    783|\n",
            "+---+-----+-------+\n",
            "\n"
          ]
        }
      ]
    },
    {
      "cell_type": "code",
      "source": [
        "dataframe.orderBy(col('color').desc(), col('importe')).show()"
      ],
      "metadata": {
        "colab": {
          "base_uri": "https://localhost:8080/"
        },
        "id": "BQrkCwLH_3MA",
        "outputId": "c956a8c9-24ae-4861-e39b-a417967b3069"
      },
      "execution_count": 98,
      "outputs": [
        {
          "output_type": "stream",
          "name": "stdout",
          "text": [
            "+---+-----+-------+\n",
            "| id|color|importe|\n",
            "+---+-----+-------+\n",
            "|  2| rojo|    235|\n",
            "|  1| azul|    456|\n",
            "|  1| azul|    568|\n",
            "|  2| azul|    783|\n",
            "+---+-----+-------+\n",
            "\n"
          ]
        }
      ]
    },
    {
      "cell_type": "code",
      "source": [
        "#Función limit:\n",
        "top_10 = df.orderBy(col('views').desc()).limit(10)"
      ],
      "metadata": {
        "id": "d11s0rizAItq"
      },
      "execution_count": 99,
      "outputs": []
    },
    {
      "cell_type": "code",
      "source": [
        "top_10.show()"
      ],
      "metadata": {
        "colab": {
          "base_uri": "https://localhost:8080/"
        },
        "id": "HCoE_slRAjcb",
        "outputId": "3174f5df-0c79-4116-efd8-d4ffbb4a15d4"
      },
      "execution_count": 100,
      "outputs": [
        {
          "output_type": "stream",
          "name": "stdout",
          "text": [
            "+-------+--------+-----------+--------+\n",
            "|  likes|   views|   video_id|dislikes|\n",
            "+-------+--------+-----------+--------+\n",
            "| 609101|48431654|-BQJo3vK8O8|   52259|\n",
            "|3880071|39349927|7C2z4GqqS5E|   72707|\n",
            "|1111592|38873543|i0p1bmr0EmE|   96407|\n",
            "|1735895|37736281|6ZfuNTqbHE8|   21969|\n",
            "|1634124|33523622|2Vv-BfVoq4g|   21082|\n",
            "|1405355|31648454|VYOjWnS4cMY|   51547|\n",
            "| 850362|27973210|u9Mv98Gr5pY|   26541|\n",
            "|1149185|24782158|FlsCjmMhFmw|  483924|\n",
            "| 641546|24421448|U9BwWKXjVaI|   16517|\n",
            "| 587326|23758250|1J76wN0TPI4|   18799|\n",
            "+-------+--------+-----------+--------+\n",
            "\n"
          ]
        }
      ]
    },
    {
      "cell_type": "markdown",
      "source": [
        "#FUNCIONES WITHCOLUMN Y WITHCOLUMNRENAMED"
      ],
      "metadata": {
        "id": "LRVqTPkDAv3-"
      }
    },
    {
      "cell_type": "code",
      "source": [
        "df = spark.read.parquet('./data02/')"
      ],
      "metadata": {
        "id": "PAL7O9hJAlTO"
      },
      "execution_count": 101,
      "outputs": []
    },
    {
      "cell_type": "code",
      "source": [
        "#withColumn:\n",
        "from pyspark.sql.functions import col"
      ],
      "metadata": {
        "id": "30yC882OBBmX"
      },
      "execution_count": 102,
      "outputs": []
    },
    {
      "cell_type": "code",
      "source": [
        "df_valoracion = df.withColumn('valoracion', col('likes') - col('dislikes'))"
      ],
      "metadata": {
        "id": "qCLOCI3kBKkl"
      },
      "execution_count": 103,
      "outputs": []
    },
    {
      "cell_type": "code",
      "source": [
        "df_valoracion.printSchema()"
      ],
      "metadata": {
        "colab": {
          "base_uri": "https://localhost:8080/"
        },
        "id": "FsvluUUrBVeu",
        "outputId": "4945f7a6-713b-4291-c2a7-b25b05c131ba"
      },
      "execution_count": 104,
      "outputs": [
        {
          "output_type": "stream",
          "name": "stdout",
          "text": [
            "root\n",
            " |-- video_id: string (nullable = true)\n",
            " |-- trending_date: string (nullable = true)\n",
            " |-- title: string (nullable = true)\n",
            " |-- channel_title: string (nullable = true)\n",
            " |-- category_id: string (nullable = true)\n",
            " |-- publish_time: timestamp (nullable = true)\n",
            " |-- tags: string (nullable = true)\n",
            " |-- views: integer (nullable = true)\n",
            " |-- likes: integer (nullable = true)\n",
            " |-- dislikes: integer (nullable = true)\n",
            " |-- comment_count: integer (nullable = true)\n",
            " |-- thumbnail_link: string (nullable = true)\n",
            " |-- comments_disabled: string (nullable = true)\n",
            " |-- ratings_disabled: string (nullable = true)\n",
            " |-- video_error_or_removed: string (nullable = true)\n",
            " |-- description: string (nullable = true)\n",
            " |-- valoracion: integer (nullable = true)\n",
            "\n"
          ]
        }
      ]
    },
    {
      "cell_type": "code",
      "source": [
        "df_valoracion1 = (df.withColumn('valoracion', col('likes') - col('dislikes'))\n",
        "                  .withColumn('res_div', col('valoracion') % 10)\n",
        "                  )"
      ],
      "metadata": {
        "id": "rYGidH3hBY9q"
      },
      "execution_count": 107,
      "outputs": []
    },
    {
      "cell_type": "code",
      "source": [
        "df_valoracion1.printSchema()"
      ],
      "metadata": {
        "colab": {
          "base_uri": "https://localhost:8080/"
        },
        "id": "exK5CON3DYFU",
        "outputId": "aa87283e-f0c6-4067-e988-0f807dabf4a9"
      },
      "execution_count": 108,
      "outputs": [
        {
          "output_type": "stream",
          "name": "stdout",
          "text": [
            "root\n",
            " |-- video_id: string (nullable = true)\n",
            " |-- trending_date: string (nullable = true)\n",
            " |-- title: string (nullable = true)\n",
            " |-- channel_title: string (nullable = true)\n",
            " |-- category_id: string (nullable = true)\n",
            " |-- publish_time: timestamp (nullable = true)\n",
            " |-- tags: string (nullable = true)\n",
            " |-- views: integer (nullable = true)\n",
            " |-- likes: integer (nullable = true)\n",
            " |-- dislikes: integer (nullable = true)\n",
            " |-- comment_count: integer (nullable = true)\n",
            " |-- thumbnail_link: string (nullable = true)\n",
            " |-- comments_disabled: string (nullable = true)\n",
            " |-- ratings_disabled: string (nullable = true)\n",
            " |-- video_error_or_removed: string (nullable = true)\n",
            " |-- description: string (nullable = true)\n",
            " |-- valoracion: integer (nullable = true)\n",
            " |-- res_div: integer (nullable = true)\n",
            "\n"
          ]
        }
      ]
    },
    {
      "cell_type": "code",
      "source": [
        "df_valoracion1.select(col('likes'), col('dislikes'), col('valoracion'), col('res_div')).show()"
      ],
      "metadata": {
        "colab": {
          "base_uri": "https://localhost:8080/"
        },
        "id": "EsZTQTWYD3bi",
        "outputId": "33fda9c7-e5ae-4213-ce23-58d093fc8125"
      },
      "execution_count": 109,
      "outputs": [
        {
          "output_type": "stream",
          "name": "stdout",
          "text": [
            "+------+--------+----------+-------+\n",
            "| likes|dislikes|valoracion|res_div|\n",
            "+------+--------+----------+-------+\n",
            "| 57527|    2966|     54561|      1|\n",
            "| 97185|    6146|     91039|      9|\n",
            "|146033|    5339|    140694|      4|\n",
            "| 10172|     666|      9506|      6|\n",
            "|132235|    1989|    130246|      6|\n",
            "|  9763|     511|      9252|      2|\n",
            "| 15993|    2445|     13548|      8|\n",
            "| 23663|     778|     22885|      5|\n",
            "|  3543|     119|      3424|      4|\n",
            "| 12654|    1363|     11291|      1|\n",
            "|   655|      25|       630|      0|\n",
            "|  1576|     303|      1273|      3|\n",
            "|114188|    1333|    112855|      5|\n",
            "|  7848|    1171|      6677|      7|\n",
            "|  7473|     246|      7227|      7|\n",
            "|  9419|      52|      9367|      7|\n",
            "|  8011|     638|      7373|      3|\n",
            "|  5398|      53|      5345|      5|\n",
            "| 11963|      36|     11927|      7|\n",
            "|  8421|     191|      8230|      0|\n",
            "+------+--------+----------+-------+\n",
            "only showing top 20 rows\n",
            "\n"
          ]
        }
      ]
    },
    {
      "cell_type": "code",
      "source": [
        "#withColumnRenamed:\n",
        "df_renombrado = df.withColumnRenamed('video_id', 'id')"
      ],
      "metadata": {
        "id": "KReNhY7nEIfh"
      },
      "execution_count": 110,
      "outputs": []
    },
    {
      "cell_type": "code",
      "source": [
        "df_renombrado.printSchema()"
      ],
      "metadata": {
        "colab": {
          "base_uri": "https://localhost:8080/"
        },
        "id": "ki9FswwUEp9L",
        "outputId": "86fedab0-962c-4564-a992-04848778c662"
      },
      "execution_count": 111,
      "outputs": [
        {
          "output_type": "stream",
          "name": "stdout",
          "text": [
            "root\n",
            " |-- id: string (nullable = true)\n",
            " |-- trending_date: string (nullable = true)\n",
            " |-- title: string (nullable = true)\n",
            " |-- channel_title: string (nullable = true)\n",
            " |-- category_id: string (nullable = true)\n",
            " |-- publish_time: timestamp (nullable = true)\n",
            " |-- tags: string (nullable = true)\n",
            " |-- views: integer (nullable = true)\n",
            " |-- likes: integer (nullable = true)\n",
            " |-- dislikes: integer (nullable = true)\n",
            " |-- comment_count: integer (nullable = true)\n",
            " |-- thumbnail_link: string (nullable = true)\n",
            " |-- comments_disabled: string (nullable = true)\n",
            " |-- ratings_disabled: string (nullable = true)\n",
            " |-- video_error_or_removed: string (nullable = true)\n",
            " |-- description: string (nullable = true)\n",
            "\n"
          ]
        }
      ]
    },
    {
      "cell_type": "code",
      "source": [
        "# debemos tener en cuenta que cuando renombramos una columna no existente, esta\n",
        "# función no ejecuta nada, mas bien nos devuelve el mismo df original.\n",
        "df_error = df.withColumnRenamed('nombre_que_no_existe', 'otro_nombre')"
      ],
      "metadata": {
        "id": "NJb2X9ZpEs-h"
      },
      "execution_count": 114,
      "outputs": []
    },
    {
      "cell_type": "code",
      "source": [
        "df_error.printSchema()"
      ],
      "metadata": {
        "colab": {
          "base_uri": "https://localhost:8080/"
        },
        "id": "JgcEDs89E_MD",
        "outputId": "da71d7d7-1b1e-4c3b-b9e4-f14ef2e63e54"
      },
      "execution_count": 115,
      "outputs": [
        {
          "output_type": "stream",
          "name": "stdout",
          "text": [
            "root\n",
            " |-- video_id: string (nullable = true)\n",
            " |-- trending_date: string (nullable = true)\n",
            " |-- title: string (nullable = true)\n",
            " |-- channel_title: string (nullable = true)\n",
            " |-- category_id: string (nullable = true)\n",
            " |-- publish_time: timestamp (nullable = true)\n",
            " |-- tags: string (nullable = true)\n",
            " |-- views: integer (nullable = true)\n",
            " |-- likes: integer (nullable = true)\n",
            " |-- dislikes: integer (nullable = true)\n",
            " |-- comment_count: integer (nullable = true)\n",
            " |-- thumbnail_link: string (nullable = true)\n",
            " |-- comments_disabled: string (nullable = true)\n",
            " |-- ratings_disabled: string (nullable = true)\n",
            " |-- video_error_or_removed: string (nullable = true)\n",
            " |-- description: string (nullable = true)\n",
            "\n"
          ]
        }
      ]
    },
    {
      "cell_type": "markdown",
      "source": [
        "#FUNCIONES DROP, SAMPLE Y RANDOMSPLIT"
      ],
      "metadata": {
        "id": "H8kYfUUHFVuT"
      }
    },
    {
      "cell_type": "code",
      "source": [
        "df = spark.read.parquet('./data02/')"
      ],
      "metadata": {
        "id": "Cg8G06pEFejT"
      },
      "execution_count": 116,
      "outputs": []
    },
    {
      "cell_type": "code",
      "source": [
        "#drop:\n",
        "df.printSchema()"
      ],
      "metadata": {
        "colab": {
          "base_uri": "https://localhost:8080/"
        },
        "id": "jvY07GPmFmdq",
        "outputId": "f10390cb-f7a1-4fec-bcc1-79adb0d450f1"
      },
      "execution_count": 117,
      "outputs": [
        {
          "output_type": "stream",
          "name": "stdout",
          "text": [
            "root\n",
            " |-- video_id: string (nullable = true)\n",
            " |-- trending_date: string (nullable = true)\n",
            " |-- title: string (nullable = true)\n",
            " |-- channel_title: string (nullable = true)\n",
            " |-- category_id: string (nullable = true)\n",
            " |-- publish_time: timestamp (nullable = true)\n",
            " |-- tags: string (nullable = true)\n",
            " |-- views: integer (nullable = true)\n",
            " |-- likes: integer (nullable = true)\n",
            " |-- dislikes: integer (nullable = true)\n",
            " |-- comment_count: integer (nullable = true)\n",
            " |-- thumbnail_link: string (nullable = true)\n",
            " |-- comments_disabled: string (nullable = true)\n",
            " |-- ratings_disabled: string (nullable = true)\n",
            " |-- video_error_or_removed: string (nullable = true)\n",
            " |-- description: string (nullable = true)\n",
            "\n"
          ]
        }
      ]
    },
    {
      "cell_type": "code",
      "source": [
        "df_util = df.drop('comments_disabled')"
      ],
      "metadata": {
        "id": "FSEFwVOmGfbO"
      },
      "execution_count": 118,
      "outputs": []
    },
    {
      "cell_type": "code",
      "source": [
        "df_util.printSchema()"
      ],
      "metadata": {
        "colab": {
          "base_uri": "https://localhost:8080/"
        },
        "id": "PlhnMqVwHIwc",
        "outputId": "9c8621f2-48bc-4c72-8e67-8ef1ad2e6e7c"
      },
      "execution_count": 119,
      "outputs": [
        {
          "output_type": "stream",
          "name": "stdout",
          "text": [
            "root\n",
            " |-- video_id: string (nullable = true)\n",
            " |-- trending_date: string (nullable = true)\n",
            " |-- title: string (nullable = true)\n",
            " |-- channel_title: string (nullable = true)\n",
            " |-- category_id: string (nullable = true)\n",
            " |-- publish_time: timestamp (nullable = true)\n",
            " |-- tags: string (nullable = true)\n",
            " |-- views: integer (nullable = true)\n",
            " |-- likes: integer (nullable = true)\n",
            " |-- dislikes: integer (nullable = true)\n",
            " |-- comment_count: integer (nullable = true)\n",
            " |-- thumbnail_link: string (nullable = true)\n",
            " |-- ratings_disabled: string (nullable = true)\n",
            " |-- video_error_or_removed: string (nullable = true)\n",
            " |-- description: string (nullable = true)\n",
            "\n"
          ]
        }
      ]
    },
    {
      "cell_type": "code",
      "source": [
        "df_util = df.drop('comments_disabled', 'ratings_disabled', 'thumbnail_link')"
      ],
      "metadata": {
        "id": "m2tWK51vHOqj"
      },
      "execution_count": 124,
      "outputs": []
    },
    {
      "cell_type": "code",
      "source": [
        "df_util.printSchema()"
      ],
      "metadata": {
        "colab": {
          "base_uri": "https://localhost:8080/"
        },
        "id": "BEivDmIfHb6_",
        "outputId": "b416b9d6-292d-4920-ebc8-dc3864f90088"
      },
      "execution_count": 125,
      "outputs": [
        {
          "output_type": "stream",
          "name": "stdout",
          "text": [
            "root\n",
            " |-- video_id: string (nullable = true)\n",
            " |-- trending_date: string (nullable = true)\n",
            " |-- title: string (nullable = true)\n",
            " |-- channel_title: string (nullable = true)\n",
            " |-- category_id: string (nullable = true)\n",
            " |-- publish_time: timestamp (nullable = true)\n",
            " |-- tags: string (nullable = true)\n",
            " |-- views: integer (nullable = true)\n",
            " |-- likes: integer (nullable = true)\n",
            " |-- dislikes: integer (nullable = true)\n",
            " |-- comment_count: integer (nullable = true)\n",
            " |-- video_error_or_removed: string (nullable = true)\n",
            " |-- description: string (nullable = true)\n",
            "\n"
          ]
        }
      ]
    },
    {
      "cell_type": "code",
      "source": [
        "# Si le pasamos una columna que no existe, esta función no genera error sino\n",
        "# que hace caso omiso y continua su proceso.\n",
        "df_util = df.drop('comments_disabled', 'ratings_disabled', 'thumbnail_link','cafe')"
      ],
      "metadata": {
        "id": "aIM--XLYHf4J"
      },
      "execution_count": 128,
      "outputs": []
    },
    {
      "cell_type": "code",
      "source": [
        "df_util.printSchema()"
      ],
      "metadata": {
        "colab": {
          "base_uri": "https://localhost:8080/"
        },
        "id": "uWPHPbZ_H3IP",
        "outputId": "1888d90c-614d-4787-f04e-1ad797ef6857"
      },
      "execution_count": 129,
      "outputs": [
        {
          "output_type": "stream",
          "name": "stdout",
          "text": [
            "root\n",
            " |-- video_id: string (nullable = true)\n",
            " |-- trending_date: string (nullable = true)\n",
            " |-- title: string (nullable = true)\n",
            " |-- channel_title: string (nullable = true)\n",
            " |-- category_id: string (nullable = true)\n",
            " |-- publish_time: timestamp (nullable = true)\n",
            " |-- tags: string (nullable = true)\n",
            " |-- views: integer (nullable = true)\n",
            " |-- likes: integer (nullable = true)\n",
            " |-- dislikes: integer (nullable = true)\n",
            " |-- comment_count: integer (nullable = true)\n",
            " |-- video_error_or_removed: string (nullable = true)\n",
            " |-- description: string (nullable = true)\n",
            "\n"
          ]
        }
      ]
    },
    {
      "cell_type": "code",
      "source": [
        "#sample:\n",
        "df_muestra = df.sample(0.8)"
      ],
      "metadata": {
        "id": "gF8XMTWwH6GA"
      },
      "execution_count": 130,
      "outputs": []
    },
    {
      "cell_type": "code",
      "source": [
        "num_filas = df.count()\n",
        "num_filas_muestra = df_muestra.count()\n",
        "print(num_filas)\n",
        "print(num_filas_muestra)"
      ],
      "metadata": {
        "colab": {
          "base_uri": "https://localhost:8080/"
        },
        "id": "xyzLOA4PIvj3",
        "outputId": "7f8664ad-f4de-4fc0-bfbd-65d59a816a33"
      },
      "execution_count": 131,
      "outputs": [
        {
          "output_type": "stream",
          "name": "stdout",
          "text": [
            "48137\n",
            "38512\n"
          ]
        }
      ]
    },
    {
      "cell_type": "code",
      "source": [
        "print(f'el 80% de filas del dataframe original es: {num_filas*0.8}')\n",
        "print(f'el número de filas del dataframe muestra es: {num_filas_muestra}')"
      ],
      "metadata": {
        "colab": {
          "base_uri": "https://localhost:8080/"
        },
        "id": "154O2Lz-JCg0",
        "outputId": "81faa068-4cc7-49cc-8dec-f38ae5d5b2ea"
      },
      "execution_count": 132,
      "outputs": [
        {
          "output_type": "stream",
          "name": "stdout",
          "text": [
            "el 80% de filas del dataframe original es: 38509.6\n",
            "el número de filas del dataframe muestra es: 38512\n"
          ]
        }
      ]
    },
    {
      "cell_type": "code",
      "source": [
        "#como vemos nos da un valor muy cercano."
      ],
      "metadata": {
        "id": "SIUJZFEiJlJe"
      },
      "execution_count": 133,
      "outputs": []
    },
    {
      "cell_type": "code",
      "source": [
        "df_muestra = df.sample(fraction=0.8, seed = 1234)"
      ],
      "metadata": {
        "id": "s3is0zHGJrsQ"
      },
      "execution_count": 134,
      "outputs": []
    },
    {
      "cell_type": "code",
      "source": [
        "df_muestra = df.sample(withReplacement=True, fraction=0.8, seed=1234)"
      ],
      "metadata": {
        "id": "3Z2_4mJKKIi8"
      },
      "execution_count": 135,
      "outputs": []
    },
    {
      "cell_type": "code",
      "source": [
        "#randomSplit:\n",
        "#se usa para entrenar modelos de machine learning\n",
        "# se le da una lista de un conjunto de pesos que sumen 1, es decir el 80% de las\n",
        "# filas se asignaran al dataframe train y el 20% de las filas irán al dataframe\n",
        "# test\n",
        "train, test = df.randomSplit([0.8, 0.2], seed=1234)"
      ],
      "metadata": {
        "id": "zzKD4bowKrIt"
      },
      "execution_count": 136,
      "outputs": []
    },
    {
      "cell_type": "markdown",
      "source": [
        "#TRABAJO CON DATOS INCORRECTOS O FALTANTES"
      ],
      "metadata": {
        "id": "3k_3aE9WLzak"
      }
    },
    {
      "cell_type": "code",
      "source": [
        "df = spark.read.parquet('./data02/')"
      ],
      "metadata": {
        "id": "7XtkZTAuMa0S"
      },
      "execution_count": 137,
      "outputs": []
    },
    {
      "cell_type": "code",
      "source": [
        "df.count()"
      ],
      "metadata": {
        "colab": {
          "base_uri": "https://localhost:8080/"
        },
        "id": "3di1_d-2MhM0",
        "outputId": "f6c2e647-701a-4686-ac1a-08370a7bbd2a"
      },
      "execution_count": 138,
      "outputs": [
        {
          "output_type": "execute_result",
          "data": {
            "text/plain": [
              "48137"
            ]
          },
          "metadata": {},
          "execution_count": 138
        }
      ]
    },
    {
      "cell_type": "code",
      "source": [
        "#primera forma:\n",
        "df.na.drop().count()"
      ],
      "metadata": {
        "colab": {
          "base_uri": "https://localhost:8080/"
        },
        "id": "OlJS75IOMjiz",
        "outputId": "1670bb4f-7fdf-4ca5-a32f-8893a106cf95"
      },
      "execution_count": 141,
      "outputs": [
        {
          "output_type": "execute_result",
          "data": {
            "text/plain": [
              "40379"
            ]
          },
          "metadata": {},
          "execution_count": 141
        }
      ]
    },
    {
      "cell_type": "code",
      "source": [
        "#segunda forma:\n",
        "df.na.drop('any').count()"
      ],
      "metadata": {
        "colab": {
          "base_uri": "https://localhost:8080/"
        },
        "id": "XMQ7LdUCMqzq",
        "outputId": "08f5a853-da92-425b-8498-e69123ebbbad"
      },
      "execution_count": 142,
      "outputs": [
        {
          "output_type": "execute_result",
          "data": {
            "text/plain": [
              "40379"
            ]
          },
          "metadata": {},
          "execution_count": 142
        }
      ]
    },
    {
      "cell_type": "code",
      "source": [
        "#tercera forma:\n",
        "df.dropna().count()"
      ],
      "metadata": {
        "colab": {
          "base_uri": "https://localhost:8080/"
        },
        "id": "TD-jdmqBM0SJ",
        "outputId": "188b6373-c9d9-4877-a651-fdd2ac7e0e75"
      },
      "execution_count": 144,
      "outputs": [
        {
          "output_type": "execute_result",
          "data": {
            "text/plain": [
              "40379"
            ]
          },
          "metadata": {},
          "execution_count": 144
        }
      ]
    },
    {
      "cell_type": "code",
      "source": [
        "#focalizandonos en una sola columna:\n",
        "df.na.drop(subset=['views']).count()"
      ],
      "metadata": {
        "colab": {
          "base_uri": "https://localhost:8080/"
        },
        "id": "K7-ng_vENA2i",
        "outputId": "17ec3c4d-be8a-4862-edfa-c2e619f09530"
      },
      "execution_count": 145,
      "outputs": [
        {
          "output_type": "execute_result",
          "data": {
            "text/plain": [
              "40949"
            ]
          },
          "metadata": {},
          "execution_count": 145
        }
      ]
    },
    {
      "cell_type": "code",
      "source": [
        "#con varias columnas:\n",
        "df.na.drop(subset=['views', 'dislikes']).count()"
      ],
      "metadata": {
        "colab": {
          "base_uri": "https://localhost:8080/"
        },
        "id": "OmVTk3rtNNeU",
        "outputId": "b435d7b1-dc11-4123-fd65-f1c934592d28"
      },
      "execution_count": 146,
      "outputs": [
        {
          "output_type": "execute_result",
          "data": {
            "text/plain": [
              "40949"
            ]
          },
          "metadata": {},
          "execution_count": 146
        }
      ]
    },
    {
      "cell_type": "code",
      "source": [
        "#rellenando con valores que necesitamos:\n",
        "df.orderBy(col('views')).select(col('views'), col('likes'), col('dislikes')).show()"
      ],
      "metadata": {
        "colab": {
          "base_uri": "https://localhost:8080/"
        },
        "id": "tO6SwnhOQOeR",
        "outputId": "9aa320c9-67a9-4e80-b89c-3a24d3afff46"
      },
      "execution_count": 147,
      "outputs": [
        {
          "output_type": "stream",
          "name": "stdout",
          "text": [
            "+-----+-----+--------+\n",
            "|views|likes|dislikes|\n",
            "+-----+-----+--------+\n",
            "| null| null|    null|\n",
            "| null| null|    null|\n",
            "| null| null|    null|\n",
            "| null| null|    null|\n",
            "| null| null|    null|\n",
            "| null| null|    null|\n",
            "| null| null|    null|\n",
            "| null| null|    null|\n",
            "| null| null|    null|\n",
            "| null| null|    null|\n",
            "| null| null|    null|\n",
            "| null| null|    null|\n",
            "| null| null|    null|\n",
            "| null| null|    null|\n",
            "| null| null|    null|\n",
            "| null| null|    null|\n",
            "| null| null|    null|\n",
            "| null| null|    null|\n",
            "| null| null|    null|\n",
            "| null| null|    null|\n",
            "+-----+-----+--------+\n",
            "only showing top 20 rows\n",
            "\n"
          ]
        }
      ]
    },
    {
      "cell_type": "code",
      "source": [
        "df.fillna(0, subset=['likes', 'dislikes']).orderBy(col('views')).select(col('views'), col('likes'), col('dislikes')).show()"
      ],
      "metadata": {
        "colab": {
          "base_uri": "https://localhost:8080/"
        },
        "id": "rHJxX9_lQoS2",
        "outputId": "ac612465-4806-42f4-beb0-a9bed350c753"
      },
      "execution_count": 149,
      "outputs": [
        {
          "output_type": "stream",
          "name": "stdout",
          "text": [
            "+-----+-----+--------+\n",
            "|views|likes|dislikes|\n",
            "+-----+-----+--------+\n",
            "| null|    0|       0|\n",
            "| null|    0|       0|\n",
            "| null|    0|       0|\n",
            "| null|    0|       0|\n",
            "| null|    0|       0|\n",
            "| null|    0|       0|\n",
            "| null|    0|       0|\n",
            "| null|    0|       0|\n",
            "| null|    0|       0|\n",
            "| null|    0|       0|\n",
            "| null|    0|       0|\n",
            "| null|    0|       0|\n",
            "| null|    0|       0|\n",
            "| null|    0|       0|\n",
            "| null|    0|       0|\n",
            "| null|    0|       0|\n",
            "| null|    0|       0|\n",
            "| null|    0|       0|\n",
            "| null|    0|       0|\n",
            "| null|    0|       0|\n",
            "+-----+-----+--------+\n",
            "only showing top 20 rows\n",
            "\n"
          ]
        }
      ]
    },
    {
      "cell_type": "markdown",
      "source": [
        "#ACCIONES SOBRE UN DATAFRAME EN SPARK SQL"
      ],
      "metadata": {
        "id": "jmtYWfy-RWjb"
      }
    },
    {
      "cell_type": "code",
      "source": [
        "df = spark.read.parquet('./data02/')"
      ],
      "metadata": {
        "id": "eU3fHARBRblN"
      },
      "execution_count": 150,
      "outputs": []
    },
    {
      "cell_type": "code",
      "source": [
        "#show():\n",
        "df.show()"
      ],
      "metadata": {
        "colab": {
          "base_uri": "https://localhost:8080/"
        },
        "id": "Stv5RCSrRhwf",
        "outputId": "94e0f975-0bb9-413d-fc0f-8d86c9bfcdec"
      },
      "execution_count": 151,
      "outputs": [
        {
          "output_type": "stream",
          "name": "stdout",
          "text": [
            "+-----------+-------------+--------------------+--------------------+-----------+-------------------+--------------------+-------+------+--------+-------------+--------------------+-----------------+----------------+----------------------+--------------------+\n",
            "|   video_id|trending_date|               title|       channel_title|category_id|       publish_time|                tags|  views| likes|dislikes|comment_count|      thumbnail_link|comments_disabled|ratings_disabled|video_error_or_removed|         description|\n",
            "+-----------+-------------+--------------------+--------------------+-----------+-------------------+--------------------+-------+------+--------+-------------+--------------------+-----------------+----------------+----------------------+--------------------+\n",
            "|2kyS6SvSYSE|     17.14.11|WE WANT TO TALK A...|        CaseyNeistat|         22|2017-11-13 17:13:01|     SHANtell martin| 748374| 57527|    2966|        15954|https://i.ytimg.c...|            False|           False|                 False|SHANTELL'S CHANNE...|\n",
            "|1ZAPwfrtAFY|     17.14.11|The Trump Preside...|     LastWeekTonight|         24|2017-11-13 07:30:00|\"last week tonigh...|2418783| 97185|    6146|        12703|https://i.ytimg.c...|            False|           False|                 False|One year after th...|\n",
            "|5qpjK5DgCt4|     17.14.11|Racist Superman |...|        Rudy Mancuso|         23|2017-11-12 19:05:24|\"racist superman\"...|3191434|146033|    5339|         8181|https://i.ytimg.c...|            False|           False|                 False|WATCH MY PREVIOUS...|\n",
            "|puqaWrEC7tY|     17.14.11|Nickelback Lyrics...|Good Mythical Mor...|         24|2017-11-13 11:00:04|\"rhett and link\"|...| 343168| 10172|     666|         2146|https://i.ytimg.c...|            False|           False|                 False|Today we find out...|\n",
            "|d380meD0W0M|     17.14.11|I Dare You: GOING...|            nigahiga|         24|2017-11-12 18:01:41|\"ryan\"|\"higa\"|\"hi...|2095731|132235|    1989|        17518|https://i.ytimg.c...|            False|           False|                 False|I know it's been ...|\n",
            "|gHZ1Qz0KiKM|     17.14.11|2 Weeks with iPho...|            iJustine|         28|2017-11-13 19:07:23|\"ijustine\"|\"week ...| 119180|  9763|     511|         1434|https://i.ytimg.c...|            False|           False|                 False|Using the iPhone ...|\n",
            "|39idVpFF7NQ|     17.14.11|Roy Moore & Jeff ...| Saturday Night Live|         24|2017-11-12 05:37:17|\"SNL\"|\"Saturday N...|2103417| 15993|    2445|         1970|https://i.ytimg.c...|            False|           False|                 False|Embattled Alabama...|\n",
            "|nc99ccSXST0|     17.14.11|5 Ice Cream Gadge...|  CrazyRussianHacker|         28|2017-11-12 21:50:37|\"5 Ice Cream Gadg...| 817732| 23663|     778|         3432|https://i.ytimg.c...|            False|           False|                 False|Ice Cream Pint Co...|\n",
            "|jr9QtXwC9vc|     17.14.11|The Greatest Show...|    20th Century Fox|          1|2017-11-13 14:00:23|\"Trailer\"|\"Hugh J...| 826059|  3543|     119|          340|https://i.ytimg.c...|            False|           False|                 False|Inspired by the i...|\n",
            "|TUmyygCMMGA|     17.14.11|Why the rise of t...|                 Vox|         25|2017-11-13 13:45:16|\"vox.com\"|\"vox\"|\"...| 256426| 12654|    1363|         2368|https://i.ytimg.c...|            False|           False|                 False|For now, at least...|\n",
            "|9wRQljFNDW8|     17.14.11|Dion Lewis' 103-Y...|                 NFL|         17|2017-11-13 02:05:26|\"NFL\"|\"Football\"|...|  81377|   655|      25|          177|https://i.ytimg.c...|            False|           False|                 False|New England Patri...|\n",
            "|VifQlJit6A0|     17.14.11|(SPOILERS) 'Shiva...|                 amc|         24|2017-11-13 03:00:00|\"The Walking Dead...| 104578|  1576|     303|         1279|https://i.ytimg.c...|            False|           False|                 False|Shiva arrives jus...|\n",
            "|5E4ZBSInqUU|     17.14.11|Marshmello - Bloc...|          marshmello|         10|2017-11-13 17:00:00|\"marshmello\"|\"blo...| 687582|114188|    1333|         8371|https://i.ytimg.c...|            False|           False|                 False|WATCH SILENCE MUS...|\n",
            "|GgVmn66oK_A|     17.14.11|Which Countries A...|       NowThis World|         25|2017-11-12 14:00:00|\"nowthis\"|\"nowthi...| 544770|  7848|    1171|         3981|https://i.ytimg.c...|            False|           False|                 False|The world at larg...|\n",
            "|TaTleo4cOs8|     17.14.11|SHOPPING FOR NEW ...|     The king of DIY|         15|2017-11-12 18:30:01|\"shopping for new...| 207532|  7473|     246|         2120|https://i.ytimg.c...|            False|           False|                 False|Today we go shopp...|\n",
            "|kgaO45SyaO4|     17.14.11|    The New SpotMini|      BostonDynamics|         28|2017-11-13 20:09:58|\"Robots\"|\"Boston ...|  75752|  9419|      52|         1230|https://i.ytimg.c...|            False|           False|                 False|For more informat...|\n",
            "|ZAQs-ctOqXQ|     17.14.11|One Change That W...|             Cracked|         23|2017-11-12 17:00:05|\"pacific rim\"|\"pa...| 295639|  8011|     638|         1256|https://i.ytimg.c...|            False|           False|                 False|Pacific Rim was s...|\n",
            "|YVfyYrEmzgM|     17.14.11|How does your bod...|              TED-Ed|         27|2017-11-13 16:00:07|\"TED\"|\"TED-Ed\"|\"T...|  78044|  5398|      53|          385|https://i.ytimg.c...|            False|           False|                 False|Check out our Pat...|\n",
            "|eNSN6qet1kE|     17.14.11|HomeMade Electric...|         PeterSripol|         28|2017-11-13 15:30:17|\"ultralight\"|\"air...|  97007| 11963|      36|         2211|https://i.ytimg.c...|            False|           False|                 False|aaaannnd now to f...|\n",
            "|B5HORANmzHw|     17.14.11|Founding An Inbre...|             SciShow|         27|2017-11-12 22:00:01|\"SciShow\"|\"scienc...| 223871|  8421|     191|         1214|https://i.ytimg.c...|            False|           False|                 False|Thanks to 23AndMe...|\n",
            "+-----------+-------------+--------------------+--------------------+-----------+-------------------+--------------------+-------+------+--------+-------------+--------------------+-----------------+----------------+----------------------+--------------------+\n",
            "only showing top 20 rows\n",
            "\n"
          ]
        }
      ]
    },
    {
      "cell_type": "code",
      "source": [
        "df.show(5)"
      ],
      "metadata": {
        "colab": {
          "base_uri": "https://localhost:8080/"
        },
        "id": "xPKar_vGRrAb",
        "outputId": "a0d8018c-2fc6-43e7-eab0-a61e77ecfd20"
      },
      "execution_count": 152,
      "outputs": [
        {
          "output_type": "stream",
          "name": "stdout",
          "text": [
            "+-----------+-------------+--------------------+--------------------+-----------+-------------------+--------------------+-------+------+--------+-------------+--------------------+-----------------+----------------+----------------------+--------------------+\n",
            "|   video_id|trending_date|               title|       channel_title|category_id|       publish_time|                tags|  views| likes|dislikes|comment_count|      thumbnail_link|comments_disabled|ratings_disabled|video_error_or_removed|         description|\n",
            "+-----------+-------------+--------------------+--------------------+-----------+-------------------+--------------------+-------+------+--------+-------------+--------------------+-----------------+----------------+----------------------+--------------------+\n",
            "|2kyS6SvSYSE|     17.14.11|WE WANT TO TALK A...|        CaseyNeistat|         22|2017-11-13 17:13:01|     SHANtell martin| 748374| 57527|    2966|        15954|https://i.ytimg.c...|            False|           False|                 False|SHANTELL'S CHANNE...|\n",
            "|1ZAPwfrtAFY|     17.14.11|The Trump Preside...|     LastWeekTonight|         24|2017-11-13 07:30:00|\"last week tonigh...|2418783| 97185|    6146|        12703|https://i.ytimg.c...|            False|           False|                 False|One year after th...|\n",
            "|5qpjK5DgCt4|     17.14.11|Racist Superman |...|        Rudy Mancuso|         23|2017-11-12 19:05:24|\"racist superman\"...|3191434|146033|    5339|         8181|https://i.ytimg.c...|            False|           False|                 False|WATCH MY PREVIOUS...|\n",
            "|puqaWrEC7tY|     17.14.11|Nickelback Lyrics...|Good Mythical Mor...|         24|2017-11-13 11:00:04|\"rhett and link\"|...| 343168| 10172|     666|         2146|https://i.ytimg.c...|            False|           False|                 False|Today we find out...|\n",
            "|d380meD0W0M|     17.14.11|I Dare You: GOING...|            nigahiga|         24|2017-11-12 18:01:41|\"ryan\"|\"higa\"|\"hi...|2095731|132235|    1989|        17518|https://i.ytimg.c...|            False|           False|                 False|I know it's been ...|\n",
            "+-----------+-------------+--------------------+--------------------+-----------+-------------------+--------------------+-------+------+--------+-------------+--------------------+-----------------+----------------+----------------------+--------------------+\n",
            "only showing top 5 rows\n",
            "\n"
          ]
        }
      ]
    },
    {
      "cell_type": "code",
      "source": [
        "df.show(5, truncate=False)"
      ],
      "metadata": {
        "colab": {
          "base_uri": "https://localhost:8080/"
        },
        "id": "tEFiuWIqRz9g",
        "outputId": "66a0dca7-9faa-441a-d96d-7e5578a0347d"
      },
      "execution_count": 153,
      "outputs": [
        {
          "output_type": "stream",
          "name": "stdout",
          "text": [
            "+-----------+-------------+--------------------------------------------------------------+---------------------+-----------+-------------------+-----------------------------------------------------------------------------------------------------------------------------------------------------------------------------------------------------------------------------------------------------------------------------------------------------------------------------------------------------------------------------------------------------------------------------------------------------------------------------------------------+-------+------+--------+-------------+----------------------------------------------+-----------------+----------------+----------------------+------------------------------------------------------------------------------------------------------------------------------------------------------------------------------------------------------------------------------------------------------------------------------------------------------------------------------------------------------------------------------------------------------------------------------------------------------------------------------------------------------------------------------------------------------------------------------------------------------------------------------------------------------------------------------------------------------------------------------------------------------------------------------------------------------------------------------------------------------------------------------------------------------------------------------------------------------------------------------------------------------------------------------------------------------------------------------------------------------------------------------------------------------------------------------------------------------------------------------------------------------------------------------------------------------------------------------------------------------------------------------------------------------------------------------------------------------------------+\n",
            "|video_id   |trending_date|title                                                         |channel_title        |category_id|publish_time       |tags                                                                                                                                                                                                                                                                                                                                                                                                                                                                                           |views  |likes |dislikes|comment_count|thumbnail_link                                |comments_disabled|ratings_disabled|video_error_or_removed|description                                                                                                                                                                                                                                                                                                                                                                                                                                                                                                                                                                                                                                                                                                                                                                                                                                                                                                                                                                                                                                                                                                                                                                                                                                                                                                                                                                                                                                                       |\n",
            "+-----------+-------------+--------------------------------------------------------------+---------------------+-----------+-------------------+-----------------------------------------------------------------------------------------------------------------------------------------------------------------------------------------------------------------------------------------------------------------------------------------------------------------------------------------------------------------------------------------------------------------------------------------------------------------------------------------------+-------+------+--------+-------------+----------------------------------------------+-----------------+----------------+----------------------+------------------------------------------------------------------------------------------------------------------------------------------------------------------------------------------------------------------------------------------------------------------------------------------------------------------------------------------------------------------------------------------------------------------------------------------------------------------------------------------------------------------------------------------------------------------------------------------------------------------------------------------------------------------------------------------------------------------------------------------------------------------------------------------------------------------------------------------------------------------------------------------------------------------------------------------------------------------------------------------------------------------------------------------------------------------------------------------------------------------------------------------------------------------------------------------------------------------------------------------------------------------------------------------------------------------------------------------------------------------------------------------------------------------------------------------------------------------+\n",
            "|2kyS6SvSYSE|17.14.11     |WE WANT TO TALK ABOUT OUR MARRIAGE                            |CaseyNeistat         |22         |2017-11-13 17:13:01|SHANtell martin                                                                                                                                                                                                                                                                                                                                                                                                                                                                                |748374 |57527 |2966    |15954        |https://i.ytimg.com/vi/2kyS6SvSYSE/default.jpg|False            |False           |False                 |SHANTELL'S CHANNEL - https://www.youtube.com/shantellmartin\\nCANDICE - https://www.lovebilly.com\\n\\nfilmed this video in 4k on this -- http://amzn.to/2sTDnRZ\\nwith this lens -- http://amzn.to/2rUJOmD\\nbig drone - http://tinyurl.com/h4ft3oy\\nOTHER GEAR ---  http://amzn.to/2o3GLX5\\nSony CAMERA http://amzn.to/2nOBmnv\\nOLD CAMERA; http://amzn.to/2o2cQBT\\nMAIN LENS; http://amzn.to/2od5gBJ\\nBIG SONY CAMERA; http://amzn.to/2nrdJRO\\nBIG Canon CAMERA; http://tinyurl.com/jn4q4vz\\nBENDY TRIPOD THING; http://tinyurl.com/gw3ylz2\\nYOU NEED THIS FOR THE BENDY TRIPOD; http://tinyurl.com/j8mzzua\\nWIDE LENS; http://tinyurl.com/jkfcm8t\\nMORE EXPENSIVE WIDE LENS; http://tinyurl.com/zrdgtou\\nSMALL CAMERA; http://tinyurl.com/hrrzhor\\nMICROPHONE; http://tinyurl.com/zefm4jy\\nOTHER MICROPHONE; http://tinyurl.com/jxgpj86\\nOLD DRONE (cheaper but still great);http://tinyurl.com/zcfmnmd\\n\\nfollow me; on http://instagram.com/caseyneistat\\non https://www.facebook.com/cneistat\\non https://twitter.com/CaseyNeistat\\n\\namazing intro song by https://soundcloud.com/discoteeth\\n\\nad disclosure.  THIS IS NOT AN AD.  not selling or promoting anything.  but samsung did produce the Shantell Video as a 'GALAXY PROJECT' which is an initiative that enables creators like Shantell and me to make projects we might otherwise not have the opportunity to make.  hope that's clear.  if not ask in the comments and i'll answer any specifics.|\n",
            "|1ZAPwfrtAFY|17.14.11     |The Trump Presidency: Last Week Tonight with John Oliver (HBO)|LastWeekTonight      |24         |2017-11-13 07:30:00|\"last week tonight trump presidency\"|\"last week tonight donald trump\"|\"john oliver trump\"|\"donald trump\"                                                                                                                                                                                                                                                                                                                                                                                       |2418783|97185 |6146    |12703        |https://i.ytimg.com/vi/1ZAPwfrtAFY/default.jpg|False            |False           |False                 |One year after the presidential election, John Oliver discusses what we've learned so far and enlists our catheter cowboy to teach Donald Trump what he hasn't.\\n\\nConnect with Last Week Tonight online...\\n\\nSubscribe to the Last Week Tonight YouTube channel for more almost news as it almost happens: www.youtube.com/user/LastWeekTonight\\n\\nFind Last Week Tonight on Facebook like your mom would: http://Facebook.com/LastWeekTonight\\n\\nFollow us on Twitter for news about jokes and jokes about news: http://Twitter.com/LastWeekTonight\\n\\nVisit our official site for all that other stuff at once: http://www.hbo.com/lastweektonight                                                                                                                                                                                                                                                                                                                                                                                                                                                                                                                                                                                                                                                                                                                                                                                                            |\n",
            "|5qpjK5DgCt4|17.14.11     |Racist Superman | Rudy Mancuso, King Bach & Lele Pons         |Rudy Mancuso         |23         |2017-11-12 19:05:24|\"racist superman\"|\"rudy\"|\"mancuso\"|\"king\"|\"bach\"|\"racist\"|\"superman\"|\"love\"|\"rudy mancuso poo bear black white official music video\"|\"iphone x by pineapple\"|\"lelepons\"|\"hannahstocking\"|\"rudymancuso\"|\"inanna\"|\"anwar\"|\"sarkis\"|\"shots\"|\"shotsstudios\"|\"alesso\"|\"anitta\"|\"brazil\"|\"Getting My Driver's License | Lele Pons\"                                                                                                                                                                   |3191434|146033|5339    |8181         |https://i.ytimg.com/vi/5qpjK5DgCt4/default.jpg|False            |False           |False                 |WATCH MY PREVIOUS VIDEO ▶ \\n\\nSUBSCRIBE ► https://www.youtube.com/channel/UC5jkXpfnBhlDjqh0ir5FsIQ?sub_confirmation=1\\n\\nTHANKS FOR WATCHING! LIKE & SUBSCRIBE FOR MORE VIDEOS!\\n-----------------------------------------------------------\\nFIND ME ON: \\nInstagram | http://instagram.com/rudymancuso\\nTwitter | http://twitter.com/rudymancuso\\nFacebook | http://facebook.com/rudymancuso\\n\\nCAST: \\nRudy Mancuso | http://youtube.com/c/rudymancuso\\nLele Pons | http://youtube.com/c/lelepons\\nKing Bach | https://youtube.com/user/BachelorsPadTv\\n\\nVideo Effects: \\nCaleb Natale | https://instagram.com/calebnatale\\n\\nPA:\\nPaulina Gregory\\n\\n\\nShots Studios Channels:\\nAlesso | https://youtube.com/c/alesso\\nAnitta | http://youtube.com/c/anitta\\nAnwar Jibawi | http://youtube.com/c/anwar\\nAwkward Puppets | http://youtube.com/c/awkwardpuppets\\nHannah Stocking | http://youtube.com/c/hannahstocking\\nInanna Sarkis | http://youtube.com/c/inanna\\nLele Pons | http://youtube.com/c/lelepons\\nMaejor | http://youtube.com/c/maejor\\nMike Tyson | http://youtube.com/c/miketyson \\nRudy Mancuso | http://youtube.com/c/rudymancuso\\nShots Studios | http://youtube.com/c/shots\\n\\n#Rudy\\n#RudyMancuso                                                                                                                                                                                                                                         |\n",
            "|puqaWrEC7tY|17.14.11     |Nickelback Lyrics: Real or Fake?                              |Good Mythical Morning|24         |2017-11-13 11:00:04|\"rhett and link\"|\"gmm\"|\"good mythical morning\"|\"rhett and link good mythical morning\"|\"good mythical morning rhett and link\"|\"mythical morning\"|\"Season 12\"|\"nickelback lyrics\"|\"nickelback lyrics real or fake\"|\"nickelback\"|\"nickelback songs\"|\"nickelback song\"|\"rhett link nickelback\"|\"gmm nickelback\"|\"lyrics (website category)\"|\"nickelback (musical group)\"|\"rock\"|\"music\"|\"lyrics\"|\"chad kroeger\"|\"canada\"|\"music (industry)\"|\"mythical\"|\"gmm challenge\"|\"comedy\"|\"funny\"|\"challenge\"|343168 |10172 |666     |2146         |https://i.ytimg.com/vi/puqaWrEC7tY/default.jpg|False            |False           |False                 |Today we find out if Link is a Nickelback amateur or a secret Nickelback devotee. GMM #1218\\nDon't miss an all new Ear Biscuits: https://goo.gl/xeZNQt\\nWatch Part 4: https://youtu.be/MhCdiiB8CQg | Watch Part 2: https://youtu.be/7qiOrNao9fg\\nWatch today's episode from the start: http://bit.ly/GMM1218\\n\\nPick up all of the official GMM merch only at https://mythical.store\\n\\nFollow Rhett & Link: \\nInstagram: https://instagram.com/rhettandlink\\nFacebook: https://facebook.com/rhettandlink\\nTwitter: https://twitter.com/rhettandlink\\nTumblr: https://rhettandlink.tumblr.com\\nSnapchat: @realrhettlink\\nWebsite: https://mythical.co/\\n\\nCheck Out Our Other Mythical Channels:\\nGood Mythical MORE: https://youtube.com/goodmythicalmore\\nRhett & Link: https://youtube.com/rhettandlink\\nThis Is Mythical: https://youtube.com/thisismythical\\nEar Biscuits: https://applepodcasts.com/earbiscuits\\n\\nWant to send us something? https://mythical.co/contact\\nHave you made a Wheel of Mythicality intro video? Submit it here: https://bit.ly/GMMWheelIntro\\n\\nIntro Animation by Digital Twigs: https://www.digitaltwigs.com\\nIntro & Outro Music by Jeff Zeigler & Sarah Schimeneck https://www.jeffzeigler.com\\nWheel of Mythicality theme: https://www.royaltyfreemusiclibrary.com/\\nAll Supplemental Music fromOpus 1 Music: https://opus1.sourceaudio.com/\\nWe use ‘The Mouse’ by Blue Microphones https://www.bluemic.com/mouse/       |\n",
            "|d380meD0W0M|17.14.11     |I Dare You: GOING BALD!?                                      |nigahiga             |24         |2017-11-12 18:01:41|\"ryan\"|\"higa\"|\"higatv\"|\"nigahiga\"|\"i dare you\"|\"idy\"|\"rhpc\"|\"dares\"|\"no truth\"|\"comments\"|\"comedy\"|\"funny\"|\"stupid\"|\"fail\"                                                                                                                                                                                                                                                                                                                                                                     |2095731|132235|1989    |17518        |https://i.ytimg.com/vi/d380meD0W0M/default.jpg|False            |False           |False                 |I know it's been a while since we did this show, but we're back with what might be the best episode yet!\\nLeave your dares in the comment section! \\n\\nOrder my book how to write good \\nhttp://higatv.com/ryan-higas-how-to-write-good-pre-order-links/\\n\\nJust Launched New Official Store\\nhttps://www.gianthugs.com/collections/ryan\\n\\nHigaTV Channel\\nhttp://www.youtube.com/higatv\\n\\nTwitter\\nhttp://www.twitter.com/therealryanhiga\\n\\nFacebook\\nhttp://www.facebook.com/higatv\\n\\nWebsite\\nhttp://www.higatv.com\\n\\nInstagram\\nhttp://www.instagram.com/notryanhiga\\n\\nSend us mail or whatever you want here!\\nPO Box 232355\\nLas Vegas, NV 89105                                                                                                                                                                                                                                                                                                                                                                                                                                                                                                                                                                                                                                                                                                                                                                                                      |\n",
            "+-----------+-------------+--------------------------------------------------------------+---------------------+-----------+-------------------+-----------------------------------------------------------------------------------------------------------------------------------------------------------------------------------------------------------------------------------------------------------------------------------------------------------------------------------------------------------------------------------------------------------------------------------------------------------------------------------------------+-------+------+--------+-------------+----------------------------------------------+-----------------+----------------+----------------------+------------------------------------------------------------------------------------------------------------------------------------------------------------------------------------------------------------------------------------------------------------------------------------------------------------------------------------------------------------------------------------------------------------------------------------------------------------------------------------------------------------------------------------------------------------------------------------------------------------------------------------------------------------------------------------------------------------------------------------------------------------------------------------------------------------------------------------------------------------------------------------------------------------------------------------------------------------------------------------------------------------------------------------------------------------------------------------------------------------------------------------------------------------------------------------------------------------------------------------------------------------------------------------------------------------------------------------------------------------------------------------------------------------------------------------------------------------------+\n",
            "only showing top 5 rows\n",
            "\n"
          ]
        }
      ]
    },
    {
      "cell_type": "code",
      "source": [
        "#take:\n",
        "df.take(1)"
      ],
      "metadata": {
        "colab": {
          "base_uri": "https://localhost:8080/"
        },
        "id": "CX1HsN3KR9L2",
        "outputId": "a11a5539-06a5-404d-d5fb-03208ac700be"
      },
      "execution_count": 155,
      "outputs": [
        {
          "output_type": "execute_result",
          "data": {
            "text/plain": [
              "[Row(video_id='2kyS6SvSYSE', trending_date='17.14.11', title='WE WANT TO TALK ABOUT OUR MARRIAGE', channel_title='CaseyNeistat', category_id='22', publish_time=datetime.datetime(2017, 11, 13, 17, 13, 1), tags='SHANtell martin', views=748374, likes=57527, dislikes=2966, comment_count=15954, thumbnail_link='https://i.ytimg.com/vi/2kyS6SvSYSE/default.jpg', comments_disabled='False', ratings_disabled='False', video_error_or_removed='False', description=\"SHANTELL'S CHANNEL - https://www.youtube.com/shantellmartin\\\\nCANDICE - https://www.lovebilly.com\\\\n\\\\nfilmed this video in 4k on this -- http://amzn.to/2sTDnRZ\\\\nwith this lens -- http://amzn.to/2rUJOmD\\\\nbig drone - http://tinyurl.com/h4ft3oy\\\\nOTHER GEAR ---  http://amzn.to/2o3GLX5\\\\nSony CAMERA http://amzn.to/2nOBmnv\\\\nOLD CAMERA; http://amzn.to/2o2cQBT\\\\nMAIN LENS; http://amzn.to/2od5gBJ\\\\nBIG SONY CAMERA; http://amzn.to/2nrdJRO\\\\nBIG Canon CAMERA; http://tinyurl.com/jn4q4vz\\\\nBENDY TRIPOD THING; http://tinyurl.com/gw3ylz2\\\\nYOU NEED THIS FOR THE BENDY TRIPOD; http://tinyurl.com/j8mzzua\\\\nWIDE LENS; http://tinyurl.com/jkfcm8t\\\\nMORE EXPENSIVE WIDE LENS; http://tinyurl.com/zrdgtou\\\\nSMALL CAMERA; http://tinyurl.com/hrrzhor\\\\nMICROPHONE; http://tinyurl.com/zefm4jy\\\\nOTHER MICROPHONE; http://tinyurl.com/jxgpj86\\\\nOLD DRONE (cheaper but still great);http://tinyurl.com/zcfmnmd\\\\n\\\\nfollow me; on http://instagram.com/caseyneistat\\\\non https://www.facebook.com/cneistat\\\\non https://twitter.com/CaseyNeistat\\\\n\\\\namazing intro song by https://soundcloud.com/discoteeth\\\\n\\\\nad disclosure.  THIS IS NOT AN AD.  not selling or promoting anything.  but samsung did produce the Shantell Video as a 'GALAXY PROJECT' which is an initiative that enables creators like Shantell and me to make projects we might otherwise not have the opportunity to make.  hope that's clear.  if not ask in the comments and i'll answer any specifics.\")]"
            ]
          },
          "metadata": {},
          "execution_count": 155
        }
      ]
    },
    {
      "cell_type": "code",
      "source": [
        "#head:\n",
        "df.head(1)"
      ],
      "metadata": {
        "colab": {
          "base_uri": "https://localhost:8080/"
        },
        "id": "FT9gDQp1SJgW",
        "outputId": "0cb567d3-8be1-480e-ddc4-05f32c4fb056"
      },
      "execution_count": 156,
      "outputs": [
        {
          "output_type": "execute_result",
          "data": {
            "text/plain": [
              "[Row(video_id='2kyS6SvSYSE', trending_date='17.14.11', title='WE WANT TO TALK ABOUT OUR MARRIAGE', channel_title='CaseyNeistat', category_id='22', publish_time=datetime.datetime(2017, 11, 13, 17, 13, 1), tags='SHANtell martin', views=748374, likes=57527, dislikes=2966, comment_count=15954, thumbnail_link='https://i.ytimg.com/vi/2kyS6SvSYSE/default.jpg', comments_disabled='False', ratings_disabled='False', video_error_or_removed='False', description=\"SHANTELL'S CHANNEL - https://www.youtube.com/shantellmartin\\\\nCANDICE - https://www.lovebilly.com\\\\n\\\\nfilmed this video in 4k on this -- http://amzn.to/2sTDnRZ\\\\nwith this lens -- http://amzn.to/2rUJOmD\\\\nbig drone - http://tinyurl.com/h4ft3oy\\\\nOTHER GEAR ---  http://amzn.to/2o3GLX5\\\\nSony CAMERA http://amzn.to/2nOBmnv\\\\nOLD CAMERA; http://amzn.to/2o2cQBT\\\\nMAIN LENS; http://amzn.to/2od5gBJ\\\\nBIG SONY CAMERA; http://amzn.to/2nrdJRO\\\\nBIG Canon CAMERA; http://tinyurl.com/jn4q4vz\\\\nBENDY TRIPOD THING; http://tinyurl.com/gw3ylz2\\\\nYOU NEED THIS FOR THE BENDY TRIPOD; http://tinyurl.com/j8mzzua\\\\nWIDE LENS; http://tinyurl.com/jkfcm8t\\\\nMORE EXPENSIVE WIDE LENS; http://tinyurl.com/zrdgtou\\\\nSMALL CAMERA; http://tinyurl.com/hrrzhor\\\\nMICROPHONE; http://tinyurl.com/zefm4jy\\\\nOTHER MICROPHONE; http://tinyurl.com/jxgpj86\\\\nOLD DRONE (cheaper but still great);http://tinyurl.com/zcfmnmd\\\\n\\\\nfollow me; on http://instagram.com/caseyneistat\\\\non https://www.facebook.com/cneistat\\\\non https://twitter.com/CaseyNeistat\\\\n\\\\namazing intro song by https://soundcloud.com/discoteeth\\\\n\\\\nad disclosure.  THIS IS NOT AN AD.  not selling or promoting anything.  but samsung did produce the Shantell Video as a 'GALAXY PROJECT' which is an initiative that enables creators like Shantell and me to make projects we might otherwise not have the opportunity to make.  hope that's clear.  if not ask in the comments and i'll answer any specifics.\")]"
            ]
          },
          "metadata": {},
          "execution_count": 156
        }
      ]
    },
    {
      "cell_type": "code",
      "source": [
        "#collect:\n",
        "# se debe tener cuidado, pues si los datos son demasiados grandes, puede causar\n",
        "# un error de desborde de memoria\n",
        "df.select(col('likes')).collect()\n"
      ],
      "metadata": {
        "colab": {
          "base_uri": "https://localhost:8080/"
        },
        "id": "2mfXoH7iSSsb",
        "outputId": "6a46ad2c-5fd8-4b50-95f3-8184a6e69528"
      },
      "execution_count": 157,
      "outputs": [
        {
          "output_type": "execute_result",
          "data": {
            "text/plain": [
              "[Row(likes=57527),\n",
              " Row(likes=97185),\n",
              " Row(likes=146033),\n",
              " Row(likes=10172),\n",
              " Row(likes=132235),\n",
              " Row(likes=9763),\n",
              " Row(likes=15993),\n",
              " Row(likes=23663),\n",
              " Row(likes=3543),\n",
              " Row(likes=12654),\n",
              " Row(likes=655),\n",
              " Row(likes=1576),\n",
              " Row(likes=114188),\n",
              " Row(likes=7848),\n",
              " Row(likes=7473),\n",
              " Row(likes=9419),\n",
              " Row(likes=8011),\n",
              " Row(likes=5398),\n",
              " Row(likes=11963),\n",
              " Row(likes=8421),\n",
              " Row(likes=9586),\n",
              " Row(likes=3585),\n",
              " Row(likes=11758),\n",
              " Row(likes=1707),\n",
              " Row(likes=4884),\n",
              " Row(likes=8676),\n",
              " Row(likes=4687),\n",
              " Row(likes=9033),\n",
              " Row(likes=156),\n",
              " Row(likes=715),\n",
              " Row(likes=4035),\n",
              " Row(likes=119),\n",
              " Row(likes=787419),\n",
              " Row(likes=3781),\n",
              " Row(likes=1661),\n",
              " Row(likes=2486),\n",
              " Row(likes=7515),\n",
              " Row(likes=1318),\n",
              " Row(likes=38397),\n",
              " Row(likes=6927),\n",
              " Row(likes=5389),\n",
              " Row(likes=308),\n",
              " Row(likes=7),\n",
              " Row(likes=15186),\n",
              " Row(likes=4451),\n",
              " Row(likes=33505),\n",
              " Row(likes=3417),\n",
              " Row(likes=2017),\n",
              " Row(likes=35),\n",
              " Row(likes=45406),\n",
              " Row(likes=99086),\n",
              " Row(likes=205),\n",
              " Row(likes=15397),\n",
              " Row(likes=None),\n",
              " Row(likes=None),\n",
              " Row(likes=None),\n",
              " Row(likes=190083),\n",
              " Row(likes=7250),\n",
              " Row(likes=16116),\n",
              " Row(likes=5734),\n",
              " Row(likes=21),\n",
              " Row(likes=89),\n",
              " Row(likes=8209),\n",
              " Row(likes=10237),\n",
              " Row(likes=52),\n",
              " Row(likes=26917),\n",
              " Row(likes=115795),\n",
              " Row(likes=493),\n",
              " Row(likes=8231),\n",
              " Row(likes=115426),\n",
              " Row(likes=120876),\n",
              " Row(likes=203),\n",
              " Row(likes=55681),\n",
              " Row(likes=1634124),\n",
              " Row(likes=2233),\n",
              " Row(likes=2978),\n",
              " Row(likes=1550),\n",
              " Row(likes=18603),\n",
              " Row(likes=2429),\n",
              " Row(likes=1896),\n",
              " Row(likes=37669),\n",
              " Row(likes=15504),\n",
              " Row(likes=355),\n",
              " Row(likes=23296),\n",
              " Row(likes=8133),\n",
              " Row(likes=2323),\n",
              " Row(likes=None),\n",
              " Row(likes=None),\n",
              " Row(likes=None),\n",
              " Row(likes=67),\n",
              " Row(likes=3571),\n",
              " Row(likes=6271),\n",
              " Row(likes=16430),\n",
              " Row(likes=439),\n",
              " Row(likes=34839),\n",
              " Row(likes=82320),\n",
              " Row(likes=438),\n",
              " Row(likes=72593),\n",
              " Row(likes=2282),\n",
              " Row(likes=98804),\n",
              " Row(likes=58967),\n",
              " Row(likes=8599),\n",
              " Row(likes=40195),\n",
              " Row(likes=16396),\n",
              " Row(likes=202676),\n",
              " Row(likes=14338),\n",
              " Row(likes=43875),\n",
              " Row(likes=22326),\n",
              " Row(likes=1731),\n",
              " Row(likes=3283),\n",
              " Row(likes=286268),\n",
              " Row(likes=307435),\n",
              " Row(likes=3305),\n",
              " Row(likes=10138),\n",
              " Row(likes=3327),\n",
              " Row(likes=5048),\n",
              " Row(likes=53572),\n",
              " Row(likes=7999),\n",
              " Row(likes=88417),\n",
              " Row(likes=52829),\n",
              " Row(likes=25115),\n",
              " Row(likes=14303),\n",
              " Row(likes=7693),\n",
              " Row(likes=25122),\n",
              " Row(likes=None),\n",
              " Row(likes=None),\n",
              " Row(likes=None),\n",
              " Row(likes=None),\n",
              " Row(likes=None),\n",
              " Row(likes=None),\n",
              " Row(likes=None),\n",
              " Row(likes=None),\n",
              " Row(likes=None),\n",
              " Row(likes=None),\n",
              " Row(likes=None),\n",
              " Row(likes=None),\n",
              " Row(likes=None),\n",
              " Row(likes=4417),\n",
              " Row(likes=5505),\n",
              " Row(likes=15247),\n",
              " Row(likes=11616),\n",
              " Row(likes=9312),\n",
              " Row(likes=9091),\n",
              " Row(likes=84426),\n",
              " Row(likes=935),\n",
              " Row(likes=11198),\n",
              " Row(likes=2926),\n",
              " Row(likes=19323),\n",
              " Row(likes=1365),\n",
              " Row(likes=32648),\n",
              " Row(likes=7683),\n",
              " Row(likes=3652),\n",
              " Row(likes=4364),\n",
              " Row(likes=11736),\n",
              " Row(likes=1345),\n",
              " Row(likes=1354),\n",
              " Row(likes=2163),\n",
              " Row(likes=443),\n",
              " Row(likes=909),\n",
              " Row(likes=4604),\n",
              " Row(likes=35765),\n",
              " Row(likes=7158),\n",
              " Row(likes=1991),\n",
              " Row(likes=5642),\n",
              " Row(likes=9210),\n",
              " Row(likes=15909),\n",
              " Row(likes=242),\n",
              " Row(likes=65854),\n",
              " Row(likes=810895),\n",
              " Row(likes=16106),\n",
              " Row(likes=11985),\n",
              " Row(likes=20159),\n",
              " Row(likes=10175),\n",
              " Row(likes=31892),\n",
              " Row(likes=49),\n",
              " Row(likes=4989),\n",
              " Row(likes=3809),\n",
              " Row(likes=5894),\n",
              " Row(likes=1170),\n",
              " Row(likes=2),\n",
              " Row(likes=5075),\n",
              " Row(likes=3959),\n",
              " Row(likes=22),\n",
              " Row(likes=10844),\n",
              " Row(likes=23338),\n",
              " Row(likes=3454),\n",
              " Row(likes=4250),\n",
              " Row(likes=681),\n",
              " Row(likes=40),\n",
              " Row(likes=569),\n",
              " Row(likes=23634),\n",
              " Row(likes=47793),\n",
              " Row(likes=420),\n",
              " Row(likes=5748),\n",
              " Row(likes=3),\n",
              " Row(likes=2707),\n",
              " Row(likes=258),\n",
              " Row(likes=1666),\n",
              " Row(likes=5723),\n",
              " Row(likes=1211),\n",
              " Row(likes=6243),\n",
              " Row(likes=121),\n",
              " Row(likes=86207),\n",
              " Row(likes=633),\n",
              " Row(likes=998),\n",
              " Row(likes=15130),\n",
              " Row(likes=426),\n",
              " Row(likes=2195),\n",
              " Row(likes=56867),\n",
              " Row(likes=67227),\n",
              " Row(likes=20289),\n",
              " Row(likes=0),\n",
              " Row(likes=4037),\n",
              " Row(likes=147),\n",
              " Row(likes=57),\n",
              " Row(likes=8388),\n",
              " Row(likes=16352),\n",
              " Row(likes=None),\n",
              " Row(likes=None),\n",
              " Row(likes=None),\n",
              " Row(likes=None),\n",
              " Row(likes=None),\n",
              " Row(likes=None),\n",
              " Row(likes=None),\n",
              " Row(likes=None),\n",
              " Row(likes=None),\n",
              " Row(likes=None),\n",
              " Row(likes=None),\n",
              " Row(likes=None),\n",
              " Row(likes=None),\n",
              " Row(likes=None),\n",
              " Row(likes=5684),\n",
              " Row(likes=29990),\n",
              " Row(likes=14132),\n",
              " Row(likes=4854),\n",
              " Row(likes=63995),\n",
              " Row(likes=28647),\n",
              " Row(likes=87615),\n",
              " Row(likes=3687),\n",
              " Row(likes=58474),\n",
              " Row(likes=60983),\n",
              " Row(likes=35529),\n",
              " Row(likes=56561),\n",
              " Row(likes=25109),\n",
              " Row(likes=5939),\n",
              " Row(likes=580),\n",
              " Row(likes=122347),\n",
              " Row(likes=17130),\n",
              " Row(likes=478),\n",
              " Row(likes=16754),\n",
              " Row(likes=88099),\n",
              " Row(likes=25188),\n",
              " Row(likes=20518),\n",
              " Row(likes=1197),\n",
              " Row(likes=131784),\n",
              " Row(likes=6310),\n",
              " Row(likes=19138),\n",
              " Row(likes=5198),\n",
              " Row(likes=12699),\n",
              " Row(likes=4553),\n",
              " Row(likes=6095),\n",
              " Row(likes=62),\n",
              " Row(likes=None),\n",
              " Row(likes=None),\n",
              " Row(likes=None),\n",
              " Row(likes=None),\n",
              " Row(likes=None),\n",
              " Row(likes=None),\n",
              " Row(likes=None),\n",
              " Row(likes=None),\n",
              " Row(likes=None),\n",
              " Row(likes=None),\n",
              " Row(likes=None),\n",
              " Row(likes=None),\n",
              " Row(likes=None),\n",
              " Row(likes=None),\n",
              " Row(likes=None),\n",
              " Row(likes=None),\n",
              " Row(likes=9805),\n",
              " Row(likes=1145),\n",
              " Row(likes=15301),\n",
              " Row(likes=10410),\n",
              " Row(likes=12229),\n",
              " Row(likes=180284),\n",
              " Row(likes=11131),\n",
              " Row(likes=975),\n",
              " Row(likes=16433),\n",
              " Row(likes=167696),\n",
              " Row(likes=1950),\n",
              " Row(likes=61),\n",
              " Row(likes=75),\n",
              " Row(likes=20721),\n",
              " Row(likes=8177),\n",
              " Row(likes=87),\n",
              " Row(likes=11162),\n",
              " Row(likes=5162),\n",
              " Row(likes=144816),\n",
              " Row(likes=1440),\n",
              " Row(likes=143),\n",
              " Row(likes=136),\n",
              " Row(likes=2279),\n",
              " Row(likes=8996),\n",
              " Row(likes=831),\n",
              " Row(likes=563),\n",
              " Row(likes=None),\n",
              " Row(likes=None),\n",
              " Row(likes=None),\n",
              " Row(likes=26813),\n",
              " Row(likes=6310),\n",
              " Row(likes=5715),\n",
              " Row(likes=7129),\n",
              " Row(likes=276),\n",
              " Row(likes=4303),\n",
              " Row(likes=5246),\n",
              " Row(likes=None),\n",
              " Row(likes=None),\n",
              " Row(likes=None),\n",
              " Row(likes=None),\n",
              " Row(likes=None),\n",
              " Row(likes=None),\n",
              " Row(likes=None),\n",
              " Row(likes=None),\n",
              " Row(likes=16612),\n",
              " Row(likes=19970),\n",
              " Row(likes=17959),\n",
              " Row(likes=10915),\n",
              " Row(likes=11576),\n",
              " Row(likes=83),\n",
              " Row(likes=398),\n",
              " Row(likes=2530),\n",
              " Row(likes=8339),\n",
              " Row(likes=9086),\n",
              " Row(likes=4719),\n",
              " Row(likes=2229),\n",
              " Row(likes=586),\n",
              " Row(likes=126),\n",
              " Row(likes=9211),\n",
              " Row(likes=6587),\n",
              " Row(likes=930),\n",
              " Row(likes=9606),\n",
              " Row(likes=4212),\n",
              " Row(likes=2265),\n",
              " Row(likes=6240),\n",
              " Row(likes=12862),\n",
              " Row(likes=33),\n",
              " Row(likes=1322),\n",
              " Row(likes=5847),\n",
              " Row(likes=23),\n",
              " Row(likes=4566),\n",
              " Row(likes=2425),\n",
              " Row(likes=217),\n",
              " Row(likes=386),\n",
              " Row(likes=9576),\n",
              " Row(likes=4293),\n",
              " Row(likes=305),\n",
              " Row(likes=18),\n",
              " Row(likes=4170),\n",
              " Row(likes=3218),\n",
              " Row(likes=840642),\n",
              " Row(likes=732),\n",
              " Row(likes=296),\n",
              " Row(likes=44513),\n",
              " Row(likes=136),\n",
              " Row(likes=2896),\n",
              " Row(likes=828),\n",
              " Row(likes=15873),\n",
              " Row(likes=37124),\n",
              " Row(likes=11),\n",
              " Row(likes=4548),\n",
              " Row(likes=4657),\n",
              " Row(likes=216319),\n",
              " Row(likes=103407),\n",
              " Row(likes=2133),\n",
              " Row(likes=47),\n",
              " Row(likes=48000),\n",
              " Row(likes=16060),\n",
              " Row(likes=None),\n",
              " Row(likes=None),\n",
              " Row(likes=None),\n",
              " Row(likes=250),\n",
              " Row(likes=408618),\n",
              " Row(likes=170),\n",
              " Row(likes=7589),\n",
              " Row(likes=6073),\n",
              " Row(likes=8409),\n",
              " Row(likes=27068),\n",
              " Row(likes=130373),\n",
              " Row(likes=10429),\n",
              " Row(likes=119348),\n",
              " Row(likes=8795),\n",
              " Row(likes=125205),\n",
              " Row(likes=73),\n",
              " Row(likes=58209),\n",
              " Row(likes=487),\n",
              " Row(likes=19783),\n",
              " Row(likes=44007),\n",
              " Row(likes=374),\n",
              " Row(likes=2556),\n",
              " Row(likes=24115),\n",
              " Row(likes=1721383),\n",
              " Row(likes=2540),\n",
              " Row(likes=36365),\n",
              " Row(likes=9052),\n",
              " Row(likes=382),\n",
              " Row(likes=7108),\n",
              " Row(likes=3085),\n",
              " Row(likes=17),\n",
              " Row(likes=102199),\n",
              " Row(likes=2332),\n",
              " Row(likes=453),\n",
              " Row(likes=9321),\n",
              " Row(likes=3128),\n",
              " Row(likes=None),\n",
              " Row(likes=None),\n",
              " Row(likes=None),\n",
              " Row(likes=None),\n",
              " Row(likes=None),\n",
              " Row(likes=48219),\n",
              " Row(likes=75023),\n",
              " Row(likes=14843),\n",
              " Row(likes=2284),\n",
              " Row(likes=17023),\n",
              " Row(likes=18992),\n",
              " Row(likes=1576),\n",
              " Row(likes=3823),\n",
              " Row(likes=101831),\n",
              " Row(likes=60500),\n",
              " Row(likes=2404),\n",
              " Row(likes=None),\n",
              " Row(likes=None),\n",
              " Row(likes=None),\n",
              " Row(likes=212004),\n",
              " Row(likes=26180),\n",
              " Row(likes=5405),\n",
              " Row(likes=55001),\n",
              " Row(likes=10801),\n",
              " Row(likes=314872),\n",
              " Row(likes=45513),\n",
              " Row(likes=9072),\n",
              " Row(likes=96850),\n",
              " Row(likes=4099),\n",
              " Row(likes=29425),\n",
              " Row(likes=53901),\n",
              " Row(likes=3330),\n",
              " Row(likes=5934),\n",
              " Row(likes=9278),\n",
              " Row(likes=5659),\n",
              " Row(likes=88072),\n",
              " Row(likes=11702),\n",
              " Row(likes=14766),\n",
              " Row(likes=1012),\n",
              " Row(likes=12261),\n",
              " Row(likes=2400),\n",
              " Row(likes=15765),\n",
              " Row(likes=1351),\n",
              " Row(likes=1561),\n",
              " Row(likes=7822),\n",
              " Row(likes=19962),\n",
              " Row(likes=3756),\n",
              " Row(likes=12347),\n",
              " Row(likes=36686),\n",
              " Row(likes=12961),\n",
              " Row(likes=4621),\n",
              " Row(likes=7803),\n",
              " Row(likes=4472),\n",
              " Row(likes=211),\n",
              " Row(likes=None),\n",
              " Row(likes=None),\n",
              " Row(likes=None),\n",
              " Row(likes=None),\n",
              " Row(likes=None),\n",
              " Row(likes=None),\n",
              " Row(likes=None),\n",
              " Row(likes=None),\n",
              " Row(likes=None),\n",
              " Row(likes=None),\n",
              " Row(likes=None),\n",
              " Row(likes=None),\n",
              " Row(likes=None),\n",
              " Row(likes=None),\n",
              " Row(likes=None),\n",
              " Row(likes=None),\n",
              " Row(likes=None),\n",
              " Row(likes=None),\n",
              " Row(likes=None),\n",
              " Row(likes=None),\n",
              " Row(likes=None),\n",
              " Row(likes=None),\n",
              " Row(likes=7800),\n",
              " Row(likes=38734),\n",
              " Row(likes=7979),\n",
              " Row(likes=477),\n",
              " Row(likes=10372),\n",
              " Row(likes=151850),\n",
              " Row(likes=24442),\n",
              " Row(likes=57470),\n",
              " Row(likes=141681),\n",
              " Row(likes=20036),\n",
              " Row(likes=17784),\n",
              " Row(likes=31832),\n",
              " Row(likes=8970),\n",
              " Row(likes=24672),\n",
              " Row(likes=93039),\n",
              " Row(likes=12633),\n",
              " Row(likes=29898),\n",
              " Row(likes=37329),\n",
              " Row(likes=13283),\n",
              " Row(likes=142740),\n",
              " Row(likes=114661),\n",
              " Row(likes=6260),\n",
              " Row(likes=2665),\n",
              " Row(likes=21334),\n",
              " Row(likes=9435),\n",
              " Row(likes=None),\n",
              " Row(likes=None),\n",
              " Row(likes=None),\n",
              " Row(likes=None),\n",
              " Row(likes=None),\n",
              " Row(likes=None),\n",
              " Row(likes=None),\n",
              " Row(likes=None),\n",
              " Row(likes=None),\n",
              " Row(likes=None),\n",
              " Row(likes=None),\n",
              " Row(likes=None),\n",
              " Row(likes=None),\n",
              " Row(likes=None),\n",
              " Row(likes=None),\n",
              " Row(likes=None),\n",
              " Row(likes=None),\n",
              " Row(likes=None),\n",
              " Row(likes=43974),\n",
              " Row(likes=3802),\n",
              " Row(likes=76806),\n",
              " Row(likes=72727),\n",
              " Row(likes=17286),\n",
              " Row(likes=85208),\n",
              " Row(likes=3557),\n",
              " Row(likes=35595),\n",
              " Row(likes=2207),\n",
              " Row(likes=77531),\n",
              " Row(likes=32186),\n",
              " Row(likes=259),\n",
              " Row(likes=2793),\n",
              " Row(likes=979),\n",
              " Row(likes=7517),\n",
              " Row(likes=660),\n",
              " Row(likes=17929),\n",
              " Row(likes=None),\n",
              " Row(likes=None),\n",
              " Row(likes=None),\n",
              " Row(likes=175),\n",
              " Row(likes=None),\n",
              " Row(likes=None),\n",
              " Row(likes=None),\n",
              " Row(likes=None),\n",
              " Row(likes=None),\n",
              " Row(likes=None),\n",
              " Row(likes=None),\n",
              " Row(likes=None),\n",
              " Row(likes=None),\n",
              " Row(likes=None),\n",
              " Row(likes=None),\n",
              " Row(likes=None),\n",
              " Row(likes=None),\n",
              " Row(likes=None),\n",
              " Row(likes=None),\n",
              " Row(likes=None),\n",
              " Row(likes=6932),\n",
              " Row(likes=9576),\n",
              " Row(likes=2325),\n",
              " Row(likes=23472),\n",
              " Row(likes=84),\n",
              " Row(likes=152975),\n",
              " Row(likes=309),\n",
              " Row(likes=28187),\n",
              " Row(likes=7),\n",
              " Row(likes=1546),\n",
              " Row(likes=91111),\n",
              " Row(likes=6305),\n",
              " Row(likes=21642),\n",
              " Row(likes=3835),\n",
              " Row(likes=5930),\n",
              " Row(likes=455),\n",
              " Row(likes=137819),\n",
              " Row(likes=20489),\n",
              " Row(likes=19),\n",
              " Row(likes=6989),\n",
              " Row(likes=11891),\n",
              " Row(likes=1935),\n",
              " Row(likes=93),\n",
              " Row(likes=2349),\n",
              " Row(likes=4369),\n",
              " Row(likes=1741),\n",
              " Row(likes=1350),\n",
              " Row(likes=252),\n",
              " Row(likes=11251),\n",
              " Row(likes=11933),\n",
              " Row(likes=5140),\n",
              " Row(likes=194199),\n",
              " Row(likes=8895),\n",
              " Row(likes=15887),\n",
              " Row(likes=17988),\n",
              " Row(likes=8451),\n",
              " Row(likes=1445),\n",
              " Row(likes=172379),\n",
              " Row(likes=12958),\n",
              " Row(likes=730),\n",
              " Row(likes=None),\n",
              " Row(likes=None),\n",
              " Row(likes=None),\n",
              " Row(likes=5447),\n",
              " Row(likes=9381),\n",
              " Row(likes=4064),\n",
              " Row(likes=1699),\n",
              " Row(likes=9045),\n",
              " Row(likes=127),\n",
              " Row(likes=147110),\n",
              " Row(likes=15482),\n",
              " Row(likes=2338),\n",
              " Row(likes=8012),\n",
              " Row(likes=2892),\n",
              " Row(likes=716),\n",
              " Row(likes=4934),\n",
              " Row(likes=54),\n",
              " Row(likes=7049),\n",
              " Row(likes=None),\n",
              " Row(likes=None),\n",
              " Row(likes=None),\n",
              " Row(likes=None),\n",
              " Row(likes=None),\n",
              " Row(likes=None),\n",
              " Row(likes=None),\n",
              " Row(likes=None),\n",
              " Row(likes=1814),\n",
              " Row(likes=27632),\n",
              " Row(likes=5855),\n",
              " Row(likes=16946),\n",
              " Row(likes=5320),\n",
              " Row(likes=145),\n",
              " Row(likes=17086),\n",
              " Row(likes=1170),\n",
              " Row(likes=21214),\n",
              " Row(likes=18425),\n",
              " Row(likes=2376),\n",
              " Row(likes=8480),\n",
              " Row(likes=19069),\n",
              " Row(likes=130),\n",
              " Row(likes=9459),\n",
              " Row(likes=143),\n",
              " Row(likes=278),\n",
              " Row(likes=318),\n",
              " Row(likes=2323),\n",
              " Row(likes=423),\n",
              " Row(likes=6345),\n",
              " Row(likes=9431),\n",
              " Row(likes=7010),\n",
              " Row(likes=1679),\n",
              " Row(likes=13613),\n",
              " Row(likes=4345),\n",
              " Row(likes=39),\n",
              " Row(likes=2581),\n",
              " Row(likes=6161),\n",
              " Row(likes=23),\n",
              " Row(likes=83),\n",
              " Row(likes=5012),\n",
              " Row(likes=9905),\n",
              " Row(likes=1801),\n",
              " Row(likes=4511),\n",
              " Row(likes=607),\n",
              " Row(likes=225),\n",
              " Row(likes=4355),\n",
              " Row(likes=154),\n",
              " Row(likes=303),\n",
              " Row(likes=46439),\n",
              " Row(likes=869304),\n",
              " Row(likes=18),\n",
              " Row(likes=4),\n",
              " Row(likes=828),\n",
              " Row(likes=2901),\n",
              " Row(likes=4720),\n",
              " Row(likes=37692),\n",
              " Row(likes=6),\n",
              " Row(likes=769),\n",
              " Row(likes=424406),\n",
              " Row(likes=16467),\n",
              " Row(likes=11),\n",
              " Row(likes=10),\n",
              " Row(likes=6369),\n",
              " Row(likes=106243),\n",
              " Row(likes=4735),\n",
              " Row(likes=280),\n",
              " Row(likes=48),\n",
              " Row(likes=48904),\n",
              " Row(likes=254),\n",
              " Row(likes=233172),\n",
              " Row(likes=182),\n",
              " Row(likes=427),\n",
              " Row(likes=7715),\n",
              " Row(likes=20),\n",
              " Row(likes=139054),\n",
              " Row(likes=1988),\n",
              " Row(likes=10497),\n",
              " Row(likes=8926),\n",
              " Row(likes=121285),\n",
              " Row(likes=77),\n",
              " Row(likes=127412),\n",
              " Row(likes=2691),\n",
              " Row(likes=27121),\n",
              " Row(likes=48511),\n",
              " Row(likes=59673),\n",
              " Row(likes=20371),\n",
              " Row(likes=19),\n",
              " Row(likes=2586),\n",
              " Row(likes=519),\n",
              " Row(likes=1788960),\n",
              " Row(likes=24412),\n",
              " Row(likes=9474),\n",
              " Row(likes=3912),\n",
              " Row(likes=2286),\n",
              " Row(likes=7782),\n",
              " Row(likes=111),\n",
              " Row(likes=2412),\n",
              " Row(likes=3124),\n",
              " Row(likes=115781),\n",
              " Row(likes=460),\n",
              " Row(likes=3869),\n",
              " Row(likes=None),\n",
              " Row(likes=None),\n",
              " Row(likes=None),\n",
              " Row(likes=None),\n",
              " Row(likes=None),\n",
              " Row(likes=17267),\n",
              " Row(likes=9725),\n",
              " Row(likes=15071),\n",
              " Row(likes=75930),\n",
              " Row(likes=57838),\n",
              " Row(likes=1581),\n",
              " Row(likes=379),\n",
              " Row(likes=20085),\n",
              " Row(likes=102726),\n",
              " Row(likes=37129),\n",
              " Row(likes=28119),\n",
              " Row(likes=386),\n",
              " Row(likes=55628),\n",
              " Row(likes=216119),\n",
              " Row(likes=65594),\n",
              " Row(likes=40775),\n",
              " Row(likes=119107),\n",
              " Row(likes=223821),\n",
              " Row(likes=39816),\n",
              " Row(likes=6729),\n",
              " Row(likes=28309),\n",
              " Row(likes=12594),\n",
              " Row(likes=None),\n",
              " Row(likes=None),\n",
              " Row(likes=None),\n",
              " Row(likes=None),\n",
              " Row(likes=135292),\n",
              " Row(likes=88541),\n",
              " Row(likes=281095),\n",
              " Row(likes=None),\n",
              " Row(likes=None),\n",
              " Row(likes=None),\n",
              " Row(likes=None),\n",
              " Row(likes=None),\n",
              " Row(likes=None),\n",
              " Row(likes=None),\n",
              " Row(likes=5666),\n",
              " Row(likes=789750),\n",
              " Row(likes=23207),\n",
              " Row(likes=14355),\n",
              " Row(likes=6593),\n",
              " Row(likes=50946),\n",
              " Row(likes=61075),\n",
              " Row(likes=31301),\n",
              " Row(likes=25840),\n",
              " Row(likes=1326),\n",
              " Row(likes=70960),\n",
              " Row(likes=5474),\n",
              " Row(likes=18816),\n",
              " Row(likes=11492),\n",
              " Row(likes=5155),\n",
              " Row(likes=18022),\n",
              " Row(likes=21013),\n",
              " Row(likes=61484),\n",
              " Row(likes=84669),\n",
              " Row(likes=29135),\n",
              " Row(likes=23939),\n",
              " Row(likes=108),\n",
              " Row(likes=32749),\n",
              " Row(likes=3849),\n",
              " Row(likes=6133),\n",
              " Row(likes=10814),\n",
              " Row(likes=135815),\n",
              " Row(likes=9821),\n",
              " Row(likes=35950),\n",
              " Row(likes=1389),\n",
              " Row(likes=8184),\n",
              " Row(likes=58902),\n",
              " Row(likes=5172),\n",
              " Row(likes=14353),\n",
              " Row(likes=None),\n",
              " Row(likes=None),\n",
              " Row(likes=None),\n",
              " Row(likes=None),\n",
              " Row(likes=None),\n",
              " Row(likes=None),\n",
              " Row(likes=None),\n",
              " Row(likes=None),\n",
              " Row(likes=None),\n",
              " Row(likes=None),\n",
              " Row(likes=None),\n",
              " Row(likes=None),\n",
              " Row(likes=None),\n",
              " Row(likes=None),\n",
              " Row(likes=None),\n",
              " Row(likes=None),\n",
              " Row(likes=None),\n",
              " Row(likes=None),\n",
              " Row(likes=5340),\n",
              " Row(likes=None),\n",
              " Row(likes=None),\n",
              " Row(likes=None),\n",
              " Row(likes=18708),\n",
              " Row(likes=98182),\n",
              " Row(likes=3657),\n",
              " Row(likes=21523),\n",
              " Row(likes=41976),\n",
              " Row(likes=151277),\n",
              " Row(likes=3871),\n",
              " Row(likes=46900),\n",
              " Row(likes=5188),\n",
              " Row(likes=2750),\n",
              " Row(likes=5023),\n",
              " Row(likes=3539),\n",
              " Row(likes=2001),\n",
              " Row(likes=1026),\n",
              " Row(likes=4468),\n",
              " Row(likes=91834),\n",
              " Row(likes=4208),\n",
              " Row(likes=314),\n",
              " Row(likes=1184),\n",
              " Row(likes=28058),\n",
              " Row(likes=38795),\n",
              " Row(likes=365),\n",
              " Row(likes=111),\n",
              " Row(likes=4237),\n",
              " Row(likes=33595),\n",
              " Row(likes=8122),\n",
              " Row(likes=30255),\n",
              " Row(likes=174),\n",
              " Row(likes=204),\n",
              " Row(likes=None),\n",
              " Row(likes=None),\n",
              " Row(likes=None),\n",
              " Row(likes=None),\n",
              " Row(likes=None),\n",
              " Row(likes=None),\n",
              " Row(likes=None),\n",
              " Row(likes=None),\n",
              " Row(likes=None),\n",
              " Row(likes=None),\n",
              " Row(likes=None),\n",
              " Row(likes=None),\n",
              " Row(likes=None),\n",
              " Row(likes=None),\n",
              " Row(likes=None),\n",
              " Row(likes=None),\n",
              " Row(likes=10327),\n",
              " Row(likes=86),\n",
              " Row(likes=370),\n",
              " Row(likes=10),\n",
              " Row(likes=25373),\n",
              " Row(likes=159600),\n",
              " Row(likes=5189),\n",
              " Row(likes=681),\n",
              " Row(likes=4287),\n",
              " Row(likes=29299),\n",
              " Row(likes=2738),\n",
              " Row(likes=7464),\n",
              " Row(likes=6282),\n",
              " Row(likes=1693),\n",
              " Row(likes=92831),\n",
              " Row(likes=22111),\n",
              " Row(likes=921),\n",
              " Row(likes=21174),\n",
              " Row(likes=142006),\n",
              " Row(likes=1623),\n",
              " Row(likes=7229),\n",
              " Row(likes=12694),\n",
              " Row(likes=5906),\n",
              " Row(likes=37),\n",
              " Row(likes=1834),\n",
              " Row(likes=1990),\n",
              " Row(likes=4544),\n",
              " Row(likes=11637),\n",
              " Row(likes=204840),\n",
              " Row(likes=5562),\n",
              " Row(likes=12392),\n",
              " Row(likes=197),\n",
              " Row(likes=10058),\n",
              " Row(likes=10718),\n",
              " Row(likes=16213),\n",
              " Row(likes=18528),\n",
              " Row(likes=14253),\n",
              " Row(likes=206),\n",
              " Row(likes=175762),\n",
              " Row(likes=1572),\n",
              " Row(likes=5591),\n",
              " Row(likes=4288),\n",
              " Row(likes=10079),\n",
              " Row(likes=2023),\n",
              " Row(likes=8593),\n",
              " Row(likes=16242),\n",
              " Row(likes=2366),\n",
              " Row(likes=149105),\n",
              " Row(likes=1932),\n",
              " Row(likes=28677),\n",
              " Row(likes=28200),\n",
              " Row(likes=17313),\n",
              " Row(likes=5954),\n",
              " Row(likes=146),\n",
              " Row(likes=21839),\n",
              " Row(likes=2448),\n",
              " Row(likes=3194),\n",
              " Row(likes=280),\n",
              " Row(likes=8575),\n",
              " Row(likes=18741),\n",
              " Row(likes=1933),\n",
              " Row(likes=6418),\n",
              " Row(likes=5682),\n",
              " Row(likes=9848),\n",
              " Row(likes=1288),\n",
              " Row(likes=58),\n",
              " Row(likes=7193),\n",
              " Row(likes=430),\n",
              " Row(likes=5065),\n",
              " Row(likes=410),\n",
              " Row(likes=92),\n",
              " Row(likes=131),\n",
              " Row(likes=2742),\n",
              " Row(likes=9519),\n",
              " Row(likes=6408),\n",
              " Row(likes=83),\n",
              " Row(likes=5190),\n",
              " Row(likes=13909),\n",
              " Row(likes=10118),\n",
              " Row(likes=3578),\n",
              " Row(likes=4603),\n",
              " Row(likes=4447),\n",
              " Row(likes=243),\n",
              " Row(likes=1941),\n",
              " Row(likes=620),\n",
              " Row(likes=39),\n",
              " Row(likes=230),\n",
              " Row(likes=4455),\n",
              " Row(likes=309),\n",
              " Row(likes=47602),\n",
              " Row(likes=20),\n",
              " Row(likes=891282),\n",
              " Row(likes=4),\n",
              " Row(likes=438470),\n",
              " Row(likes=831),\n",
              " Row(likes=2908),\n",
              " Row(likes=782),\n",
              " Row(likes=292),\n",
              " Row(likes=11),\n",
              " Row(likes=7),\n",
              " Row(likes=4836),\n",
              " Row(likes=38114),\n",
              " Row(likes=10),\n",
              " Row(likes=16805),\n",
              " Row(likes=4782),\n",
              " Row(likes=48),\n",
              " Row(likes=447),\n",
              " Row(likes=261),\n",
              " Row(likes=248909),\n",
              " Row(likes=49509),\n",
              " Row(likes=146732),\n",
              " Row(likes=6466),\n",
              " Row(likes=20),\n",
              " Row(likes=7773),\n",
              " Row(likes=2028),\n",
              " Row(likes=8985),\n",
              " Row(likes=60434),\n",
              " Row(likes=129182),\n",
              " Row(likes=86),\n",
              " Row(likes=8665),\n",
              " Row(likes=52519),\n",
              " Row(likes=76529),\n",
              " Row(likes=20780),\n",
              " Row(likes=2609),\n",
              " Row(likes=22),\n",
              " Row(likes=150015),\n",
              " Row(likes=1002549),\n",
              " Row(likes=94545),\n",
              " Row(likes=16081),\n",
              " Row(likes=89055),\n",
              " Row(likes=61135),\n",
              " ...]"
            ]
          },
          "metadata": {},
          "execution_count": 157
        }
      ]
    },
    {
      "cell_type": "markdown",
      "source": [
        "#ESCRITURA DE DATAFRAMES EN SPARK"
      ],
      "metadata": {
        "id": "RuHbFteATAlh"
      }
    },
    {
      "cell_type": "code",
      "source": [
        "df = spark.read.parquet('./data02/')"
      ],
      "metadata": {
        "id": "1DdXXcUvTISQ"
      },
      "execution_count": 158,
      "outputs": []
    },
    {
      "cell_type": "code",
      "source": [
        "#lo creamos con 2 particiones:\n",
        "df1 = df.repartition(2)"
      ],
      "metadata": {
        "id": "mr5IQpL7T6EN"
      },
      "execution_count": 159,
      "outputs": []
    },
    {
      "cell_type": "code",
      "source": [
        "df1.write.format('csv').option('sep', '|').save('./output/csv')"
      ],
      "metadata": {
        "id": "561309y7UB3h"
      },
      "execution_count": 160,
      "outputs": []
    },
    {
      "cell_type": "code",
      "source": [
        "#disminuimos a 1 partición:\n",
        "df1.coalesce(1).write.format('csv').option('sep', '|').save('./output/csv1')"
      ],
      "metadata": {
        "id": "GLTNjrC4UUce"
      },
      "execution_count": 161,
      "outputs": []
    },
    {
      "cell_type": "code",
      "source": [
        "df.printSchema()"
      ],
      "metadata": {
        "colab": {
          "base_uri": "https://localhost:8080/"
        },
        "id": "gq9unbMrUzXA",
        "outputId": "472c8071-d88c-441b-b8bb-8d748f23e96b"
      },
      "execution_count": 162,
      "outputs": [
        {
          "output_type": "stream",
          "name": "stdout",
          "text": [
            "root\n",
            " |-- video_id: string (nullable = true)\n",
            " |-- trending_date: string (nullable = true)\n",
            " |-- title: string (nullable = true)\n",
            " |-- channel_title: string (nullable = true)\n",
            " |-- category_id: string (nullable = true)\n",
            " |-- publish_time: timestamp (nullable = true)\n",
            " |-- tags: string (nullable = true)\n",
            " |-- views: integer (nullable = true)\n",
            " |-- likes: integer (nullable = true)\n",
            " |-- dislikes: integer (nullable = true)\n",
            " |-- comment_count: integer (nullable = true)\n",
            " |-- thumbnail_link: string (nullable = true)\n",
            " |-- comments_disabled: string (nullable = true)\n",
            " |-- ratings_disabled: string (nullable = true)\n",
            " |-- video_error_or_removed: string (nullable = true)\n",
            " |-- description: string (nullable = true)\n",
            "\n"
          ]
        }
      ]
    },
    {
      "cell_type": "code",
      "source": [
        "df.select('comments_disabled').distinct().show()"
      ],
      "metadata": {
        "colab": {
          "base_uri": "https://localhost:8080/"
        },
        "id": "CvQWqeQ7VIYF",
        "outputId": "11f00d68-3a45-43d5-f461-1e40754abfe6"
      },
      "execution_count": 163,
      "outputs": [
        {
          "output_type": "stream",
          "name": "stdout",
          "text": [
            "+-----------------+\n",
            "|comments_disabled|\n",
            "+-----------------+\n",
            "|            False|\n",
            "|             null|\n",
            "| sports and more.|\n",
            "|          Wiz Kid|\n",
            "|             True|\n",
            "|         farfalle|\n",
            "+-----------------+\n",
            "\n"
          ]
        }
      ]
    },
    {
      "cell_type": "code",
      "source": [
        "from pyspark.sql.functions import col\n",
        "df_limpio = df.filter(col('comments_disabled').isin('True', 'False'))"
      ],
      "metadata": {
        "id": "eZeMmqIyVSHs"
      },
      "execution_count": 164,
      "outputs": []
    },
    {
      "cell_type": "code",
      "source": [
        "df_limpio.write.partitionBy('comments_disabled').parquet('./output/parquet')"
      ],
      "metadata": {
        "id": "8lRQiNDZV3qn"
      },
      "execution_count": 165,
      "outputs": []
    },
    {
      "cell_type": "markdown",
      "source": [
        "![image.png](data:image/png;base64,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)"
      ],
      "metadata": {
        "id": "XRTJz4oZWcgN"
      }
    }
  ]
}