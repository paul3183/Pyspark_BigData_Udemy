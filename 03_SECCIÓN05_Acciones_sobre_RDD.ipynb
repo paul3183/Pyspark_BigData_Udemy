{
  "cells": [
    {
      "cell_type": "markdown",
      "metadata": {
        "id": "view-in-github",
        "colab_type": "text"
      },
      "source": [
        "<a href=\"https://colab.research.google.com/github/paul3183/Pyspark_BigData_Udemy/blob/main/03_SECCI%C3%93N05_Acciones_sobre_RDD.ipynb\" target=\"_parent\"><img src=\"https://colab.research.google.com/assets/colab-badge.svg\" alt=\"Open In Colab\"/></a>"
      ]
    },
    {
      "cell_type": "code",
      "execution_count": 37,
      "metadata": {
        "colab": {
          "base_uri": "https://localhost:8080/",
          "height": 219
        },
        "id": "nHwU-6QvL5FF",
        "outputId": "e43f7c70-608d-4e4c-e6f8-a6d548e188e4"
      },
      "outputs": [
        {
          "output_type": "execute_result",
          "data": {
            "text/plain": [
              "<pyspark.sql.session.SparkSession at 0x7aeb159518a0>"
            ],
            "text/html": [
              "\n",
              "            <div>\n",
              "                <p><b>SparkSession - in-memory</b></p>\n",
              "                \n",
              "        <div>\n",
              "            <p><b>SparkContext</b></p>\n",
              "\n",
              "            <p><a href=\"http://7df6a66e80c1:4040\">Spark UI</a></p>\n",
              "\n",
              "            <dl>\n",
              "              <dt>Version</dt>\n",
              "                <dd><code>v3.4.3</code></dd>\n",
              "              <dt>Master</dt>\n",
              "                <dd><code>local[*]</code></dd>\n",
              "              <dt>AppName</dt>\n",
              "                <dd><code>pyspark-shell</code></dd>\n",
              "            </dl>\n",
              "        </div>\n",
              "        \n",
              "            </div>\n",
              "        "
            ]
          },
          "metadata": {},
          "execution_count": 37
        }
      ],
      "source": [
        "# Instalar SDK Java 8\n",
        "\n",
        "!apt-get install openjdk-8-jdk-headless -qq > /dev/null\n",
        "\n",
        "# Descargar Spark 3.4.3\n",
        "\n",
        "!wget -q https://archive.apache.org/dist/spark/spark-3.4.3/spark-3.4.3-bin-hadoop3.tgz\n",
        "\n",
        "# Descomprimir el archivo descargado de Spark\n",
        "\n",
        "!tar xf spark-3.4.3-bin-hadoop3.tgz\n",
        "\n",
        "# Establecer las variables de entorno\n",
        "\n",
        "import os\n",
        "\n",
        "os.environ[\"JAVA_HOME\"] = \"/usr/lib/jvm/java-8-openjdk-amd64\"\n",
        "os.environ[\"SPARK_HOME\"] = \"/content/spark-3.4.3-bin-hadoop3\"\n",
        "\n",
        "# Instalar la librería findspark\n",
        "\n",
        "!pip install -q findspark\n",
        "\n",
        "# Instalar pyspark\n",
        "\n",
        "!pip install -q pyspark\n",
        "\n",
        "# verificar la instalación ###\n",
        "\n",
        "import findspark\n",
        "\n",
        "findspark.init()\n",
        "\n",
        "from pyspark.sql import SparkSession\n",
        "\n",
        "spark = SparkSession.builder.master(\"local[*]\").getOrCreate()\n",
        "\n",
        "spark"
      ]
    },
    {
      "cell_type": "code",
      "source": [
        "sc = spark.sparkContext"
      ],
      "metadata": {
        "id": "o-0EDjdO9329"
      },
      "execution_count": 56,
      "outputs": []
    },
    {
      "cell_type": "code",
      "source": [
        "rdd = sc.parallelize([2, 4, 6, 8])"
      ],
      "metadata": {
        "id": "E4TgJNRV-DFs"
      },
      "execution_count": 57,
      "outputs": []
    },
    {
      "cell_type": "code",
      "execution_count": 58,
      "metadata": {
        "id": "0iA_43HBMPzx",
        "colab": {
          "base_uri": "https://localhost:8080/"
        },
        "outputId": "607e3cb5-ce13-49fb-c0da-5dc9b05ca020"
      },
      "outputs": [
        {
          "output_type": "execute_result",
          "data": {
            "text/plain": [
              "20"
            ]
          },
          "metadata": {},
          "execution_count": 58
        }
      ],
      "source": [
        "#FUNCIÓN REDUCE:\n",
        "rdd.reduce(lambda x,y: x + y)"
      ]
    },
    {
      "cell_type": "code",
      "source": [
        "rdd1 = sc.parallelize([1,2,3,4])"
      ],
      "metadata": {
        "id": "a99K2YjN-Mbt"
      },
      "execution_count": 59,
      "outputs": []
    },
    {
      "cell_type": "code",
      "source": [
        "rdd1.reduce(lambda x,y: x * y)"
      ],
      "metadata": {
        "colab": {
          "base_uri": "https://localhost:8080/"
        },
        "id": "xMw0G9dq-xnq",
        "outputId": "146ad26e-e7ad-492f-bb50-9c69d8245c3f"
      },
      "execution_count": 60,
      "outputs": [
        {
          "output_type": "execute_result",
          "data": {
            "text/plain": [
              "24"
            ]
          },
          "metadata": {},
          "execution_count": 60
        }
      ]
    },
    {
      "cell_type": "code",
      "source": [
        "#FUNCIÓN COUNT:\n",
        "rdd2 = sc.parallelize(['j', 'o', 's', 'e'])\n",
        "rdd2.count()"
      ],
      "metadata": {
        "colab": {
          "base_uri": "https://localhost:8080/"
        },
        "id": "o8k-yZW--5sk",
        "outputId": "24d54bf3-f238-4078-c246-71073b2f0df8"
      },
      "execution_count": 61,
      "outputs": [
        {
          "output_type": "execute_result",
          "data": {
            "text/plain": [
              "4"
            ]
          },
          "metadata": {},
          "execution_count": 61
        }
      ]
    },
    {
      "cell_type": "code",
      "source": [
        "rdd3 = sc.parallelize([item for item in range(10)])"
      ],
      "metadata": {
        "id": "FEdxnmss_fox"
      },
      "execution_count": 62,
      "outputs": []
    },
    {
      "cell_type": "code",
      "source": [
        "rdd3.count()"
      ],
      "metadata": {
        "colab": {
          "base_uri": "https://localhost:8080/"
        },
        "id": "OydGcZap_q8T",
        "outputId": "f3456296-e053-4b97-99a0-574c0fb796ad"
      },
      "execution_count": 63,
      "outputs": [
        {
          "output_type": "execute_result",
          "data": {
            "text/plain": [
              "10"
            ]
          },
          "metadata": {},
          "execution_count": 63
        }
      ]
    },
    {
      "cell_type": "code",
      "source": [
        "#FUNCIÓN COLLECT:\n",
        "rdd4 = sc.parallelize(\"Hola Apache Spark!\".split(' '))"
      ],
      "metadata": {
        "id": "Sc2igbpB_sww"
      },
      "execution_count": 64,
      "outputs": []
    },
    {
      "cell_type": "code",
      "source": [
        "rdd4.collect()"
      ],
      "metadata": {
        "colab": {
          "base_uri": "https://localhost:8080/"
        },
        "id": "Tnfv-yk2AFMV",
        "outputId": "238a8556-29f7-4ecb-81a6-88ca6dc29819"
      },
      "execution_count": 65,
      "outputs": [
        {
          "output_type": "execute_result",
          "data": {
            "text/plain": [
              "['Hola', 'Apache', 'Spark!']"
            ]
          },
          "metadata": {},
          "execution_count": 65
        }
      ]
    },
    {
      "cell_type": "code",
      "source": [
        "rdd5 = sc.parallelize([(item, item**2) for item in range(20)])"
      ],
      "metadata": {
        "id": "1_SdrrSaAISv"
      },
      "execution_count": 66,
      "outputs": []
    },
    {
      "cell_type": "code",
      "source": [
        "rdd5.collect()"
      ],
      "metadata": {
        "colab": {
          "base_uri": "https://localhost:8080/"
        },
        "id": "4uF36tPgAVgK",
        "outputId": "7bcc71f2-dfe1-4899-ffaa-0fe507c675d4"
      },
      "execution_count": 67,
      "outputs": [
        {
          "output_type": "execute_result",
          "data": {
            "text/plain": [
              "[(0, 0),\n",
              " (1, 1),\n",
              " (2, 4),\n",
              " (3, 9),\n",
              " (4, 16),\n",
              " (5, 25),\n",
              " (6, 36),\n",
              " (7, 49),\n",
              " (8, 64),\n",
              " (9, 81),\n",
              " (10, 100),\n",
              " (11, 121),\n",
              " (12, 144),\n",
              " (13, 169),\n",
              " (14, 196),\n",
              " (15, 225),\n",
              " (16, 256),\n",
              " (17, 289),\n",
              " (18, 324),\n",
              " (19, 361)]"
            ]
          },
          "metadata": {},
          "execution_count": 67
        }
      ]
    },
    {
      "cell_type": "code",
      "source": [
        "#FUNCIÓN TAKE:\n",
        "rdd6 = sc.parallelize('La programación es hermosa'.split(' '))"
      ],
      "metadata": {
        "id": "qG53dnWPAXYA"
      },
      "execution_count": 79,
      "outputs": []
    },
    {
      "cell_type": "code",
      "source": [
        "rdd6.take(2)"
      ],
      "metadata": {
        "colab": {
          "base_uri": "https://localhost:8080/"
        },
        "id": "F08_aZcuAkkM",
        "outputId": "691b96d4-069b-47c2-ac5e-8605aba1fbe5"
      },
      "execution_count": 80,
      "outputs": [
        {
          "output_type": "execute_result",
          "data": {
            "text/plain": [
              "['La', 'programación']"
            ]
          },
          "metadata": {},
          "execution_count": 80
        }
      ]
    },
    {
      "cell_type": "code",
      "source": [
        "rdd6.take(4)"
      ],
      "metadata": {
        "colab": {
          "base_uri": "https://localhost:8080/"
        },
        "id": "IbEeqb_UAxtv",
        "outputId": "51d89e27-da22-47c1-ea15-4fd1ee0c1f1a"
      },
      "execution_count": 81,
      "outputs": [
        {
          "output_type": "execute_result",
          "data": {
            "text/plain": [
              "['La', 'programación', 'es', 'hermosa']"
            ]
          },
          "metadata": {},
          "execution_count": 81
        }
      ]
    },
    {
      "cell_type": "code",
      "source": [
        "#FUNCIÓN MAX:\n",
        "rdd7 = sc.parallelize([item/(item+2) for item in range(10)])"
      ],
      "metadata": {
        "id": "VD8Mr7xXA3DN"
      },
      "execution_count": 82,
      "outputs": []
    },
    {
      "cell_type": "code",
      "source": [
        "rdd7.max()"
      ],
      "metadata": {
        "colab": {
          "base_uri": "https://localhost:8080/"
        },
        "id": "DsUqrAWcBEeb",
        "outputId": "2b33e22e-64f7-46c7-b03b-739476e2c1b6"
      },
      "execution_count": 83,
      "outputs": [
        {
          "output_type": "execute_result",
          "data": {
            "text/plain": [
              "0.8181818181818182"
            ]
          },
          "metadata": {},
          "execution_count": 83
        }
      ]
    },
    {
      "cell_type": "code",
      "source": [
        "rdd7.collect()"
      ],
      "metadata": {
        "colab": {
          "base_uri": "https://localhost:8080/"
        },
        "id": "96zyE29vBGhO",
        "outputId": "0c30b24e-9c7c-4ab5-8a54-e9f0488fd306"
      },
      "execution_count": 84,
      "outputs": [
        {
          "output_type": "execute_result",
          "data": {
            "text/plain": [
              "[0.0,\n",
              " 0.3333333333333333,\n",
              " 0.5,\n",
              " 0.6,\n",
              " 0.6666666666666666,\n",
              " 0.7142857142857143,\n",
              " 0.75,\n",
              " 0.7777777777777778,\n",
              " 0.8,\n",
              " 0.8181818181818182]"
            ]
          },
          "metadata": {},
          "execution_count": 84
        }
      ]
    },
    {
      "cell_type": "code",
      "source": [
        "#FUNCIÓN saveAsTextFile\n",
        "rdd6.collect()"
      ],
      "metadata": {
        "colab": {
          "base_uri": "https://localhost:8080/"
        },
        "id": "1DAzVEpHBIuT",
        "outputId": "044eef6c-68b4-4ddb-ddbf-60677c25ec2b"
      },
      "execution_count": 85,
      "outputs": [
        {
          "output_type": "execute_result",
          "data": {
            "text/plain": [
              "['La', 'programación', 'es', 'hermosa']"
            ]
          },
          "metadata": {},
          "execution_count": 85
        }
      ]
    },
    {
      "cell_type": "code",
      "source": [
        "rdd6.saveAsTextFile('./rdd10')"
      ],
      "metadata": {
        "id": "7-Su1RpABYdL"
      },
      "execution_count": 86,
      "outputs": []
    },
    {
      "cell_type": "code",
      "source": [
        "rdd6.coalesce(1).saveAsTextFile('./rdd11')"
      ],
      "metadata": {
        "id": "RNhNPjiSBfxw"
      },
      "execution_count": 87,
      "outputs": []
    },
    {
      "cell_type": "markdown",
      "source": [
        "#EJERCICIOS:"
      ],
      "metadata": {
        "id": "lqEL-HtaCDYJ"
      }
    },
    {
      "cell_type": "code",
      "source": [
        "#1.- Cree un RDD llamado importes a partir del archivo adjunto a esta lección como recurso.\n",
        "importes = sc.textFile('./data/num.txt')"
      ],
      "metadata": {
        "id": "RlagflH8BmPJ"
      },
      "execution_count": 88,
      "outputs": []
    },
    {
      "cell_type": "code",
      "source": [
        "#a.- ¿Cuántos registros tiene el RDD importes?\n",
        "importes.count()"
      ],
      "metadata": {
        "colab": {
          "base_uri": "https://localhost:8080/"
        },
        "id": "pBE7_OKfDzh-",
        "outputId": "bdd0c849-ad24-4156-ec57-6fdc8f2c6f73"
      },
      "execution_count": 90,
      "outputs": [
        {
          "output_type": "execute_result",
          "data": {
            "text/plain": [
              "233"
            ]
          },
          "metadata": {},
          "execution_count": 90
        }
      ]
    },
    {
      "cell_type": "code",
      "source": [
        "#b.- ¿Cuál es el valor mínimo y máximo del RDD importes?\n",
        "#valor máximo:\n",
        "importes.max()"
      ],
      "metadata": {
        "colab": {
          "base_uri": "https://localhost:8080/",
          "height": 35
        },
        "id": "fwBsbdKnD8wu",
        "outputId": "5a53f0a2-bd4c-474a-8fa0-940095f30fd1"
      },
      "execution_count": 91,
      "outputs": [
        {
          "output_type": "execute_result",
          "data": {
            "text/plain": [
              "'99'"
            ],
            "application/vnd.google.colaboratory.intrinsic+json": {
              "type": "string"
            }
          },
          "metadata": {},
          "execution_count": 91
        }
      ]
    },
    {
      "cell_type": "code",
      "source": [
        "#valor mínimo:\n",
        "importes.min()"
      ],
      "metadata": {
        "colab": {
          "base_uri": "https://localhost:8080/",
          "height": 35
        },
        "id": "I_fjKbxjELcB",
        "outputId": "58ff5934-bbaa-4da4-9281-5dc1735f9b27"
      },
      "execution_count": 92,
      "outputs": [
        {
          "output_type": "execute_result",
          "data": {
            "text/plain": [
              "'1'"
            ],
            "application/vnd.google.colaboratory.intrinsic+json": {
              "type": "string"
            }
          },
          "metadata": {},
          "execution_count": 92
        }
      ]
    },
    {
      "cell_type": "code",
      "source": [
        "#c.- Cree un RDD top15 que contenga los 15 mayores valores del RDD importes. Tenga en cuenta que pueden repetirse los valores. Por último, escriba el RDD top15 como archivo de texto en la carpeta data/salida.\n",
        "lista_top15 = importes.top(15)"
      ],
      "metadata": {
        "id": "SeOQTVvAESoj"
      },
      "execution_count": 93,
      "outputs": []
    },
    {
      "cell_type": "code",
      "source": [
        "print(lista_top15)"
      ],
      "metadata": {
        "colab": {
          "base_uri": "https://localhost:8080/"
        },
        "id": "dGblyqypGYR6",
        "outputId": "4d817cd7-017a-4765-fedc-5941495e8609"
      },
      "execution_count": 94,
      "outputs": [
        {
          "output_type": "stream",
          "name": "stdout",
          "text": [
            "['99', '99', '98', '98', '97', '97', '97', '97', '97', '96', '96', '95', '95', '95', '95']\n"
          ]
        }
      ]
    },
    {
      "cell_type": "code",
      "source": [
        "rdd_top15 = sc.parallelize(lista_top15)"
      ],
      "metadata": {
        "id": "MXW4wwPyGbzS"
      },
      "execution_count": 95,
      "outputs": []
    },
    {
      "cell_type": "code",
      "source": [
        "rdd_top15.saveAsTextFile('./data/salida10/')"
      ],
      "metadata": {
        "id": "WMNSxZieGrui"
      },
      "execution_count": 97,
      "outputs": []
    },
    {
      "cell_type": "code",
      "source": [
        "#2.- Cree una función llamada factorial que calcule el factorial de un número dado como parámetro. Utilice RDDs para el cálculo.\n",
        "def factorial(n):\n",
        "  if n == 0:\n",
        "    return 1\n",
        "  else:\n",
        "    rdd_10 = sc.parallelize(list(range(1, n+1)))\n",
        "    return rdd_10.reduce(lambda x,y: x*y)"
      ],
      "metadata": {
        "id": "uNTUueOIGwAw"
      },
      "execution_count": 98,
      "outputs": []
    },
    {
      "cell_type": "code",
      "source": [
        "factorial(0)"
      ],
      "metadata": {
        "colab": {
          "base_uri": "https://localhost:8080/"
        },
        "id": "kEdZaSl8G_3L",
        "outputId": "920d2862-f90c-4231-cb85-3abf29ade3a6"
      },
      "execution_count": 99,
      "outputs": [
        {
          "output_type": "execute_result",
          "data": {
            "text/plain": [
              "1"
            ]
          },
          "metadata": {},
          "execution_count": 99
        }
      ]
    },
    {
      "cell_type": "code",
      "source": [
        "factorial(1)"
      ],
      "metadata": {
        "colab": {
          "base_uri": "https://localhost:8080/"
        },
        "id": "Qh3AH2ACIGZ7",
        "outputId": "6a441706-841a-45e4-c95a-4ae1715433a6"
      },
      "execution_count": 100,
      "outputs": [
        {
          "output_type": "execute_result",
          "data": {
            "text/plain": [
              "1"
            ]
          },
          "metadata": {},
          "execution_count": 100
        }
      ]
    },
    {
      "cell_type": "code",
      "source": [
        "factorial(2)"
      ],
      "metadata": {
        "colab": {
          "base_uri": "https://localhost:8080/"
        },
        "id": "y6hnQ2TRIHfy",
        "outputId": "981d6c4e-28b3-4950-8c8d-5ded58ace68d"
      },
      "execution_count": 101,
      "outputs": [
        {
          "output_type": "execute_result",
          "data": {
            "text/plain": [
              "2"
            ]
          },
          "metadata": {},
          "execution_count": 101
        }
      ]
    },
    {
      "cell_type": "code",
      "source": [
        "factorial(3)"
      ],
      "metadata": {
        "colab": {
          "base_uri": "https://localhost:8080/"
        },
        "id": "rcqKaTOJIQ2w",
        "outputId": "2fcbe425-61cd-4f96-8a66-473fc7628d1d"
      },
      "execution_count": 102,
      "outputs": [
        {
          "output_type": "execute_result",
          "data": {
            "text/plain": [
              "6"
            ]
          },
          "metadata": {},
          "execution_count": 102
        }
      ]
    },
    {
      "cell_type": "code",
      "source": [
        "factorial(4)"
      ],
      "metadata": {
        "colab": {
          "base_uri": "https://localhost:8080/"
        },
        "id": "CWY9fjprISMz",
        "outputId": "a45698f9-07a7-4696-e971-e45b8b3ea990"
      },
      "execution_count": 103,
      "outputs": [
        {
          "output_type": "execute_result",
          "data": {
            "text/plain": [
              "24"
            ]
          },
          "metadata": {},
          "execution_count": 103
        }
      ]
    }
  ],
  "metadata": {
    "colab": {
      "provenance": [],
      "authorship_tag": "ABX9TyO3kB96TYVj+vJUZg4hQwyr",
      "include_colab_link": true
    },
    "kernelspec": {
      "display_name": "Python 3",
      "name": "python3"
    },
    "language_info": {
      "name": "python"
    }
  },
  "nbformat": 4,
  "nbformat_minor": 0
}