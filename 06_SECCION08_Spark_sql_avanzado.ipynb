{
  "nbformat": 4,
  "nbformat_minor": 0,
  "metadata": {
    "colab": {
      "provenance": [],
      "authorship_tag": "ABX9TyPkHK0F3ogOxyw33kIgtXAl",
      "include_colab_link": true
    },
    "kernelspec": {
      "name": "python3",
      "display_name": "Python 3"
    },
    "language_info": {
      "name": "python"
    }
  },
  "cells": [
    {
      "cell_type": "markdown",
      "metadata": {
        "id": "view-in-github",
        "colab_type": "text"
      },
      "source": [
        "<a href=\"https://colab.research.google.com/github/paul3183/Pyspark_BigData_Udemy/blob/main/06_SECCION08_Spark_sql_avanzado.ipynb\" target=\"_parent\"><img src=\"https://colab.research.google.com/assets/colab-badge.svg\" alt=\"Open In Colab\"/></a>"
      ]
    },
    {
      "cell_type": "markdown",
      "source": [
        "#SPARK SQL AVANZADO"
      ],
      "metadata": {
        "id": "Da9z68Gdci0E"
      }
    },
    {
      "cell_type": "code",
      "execution_count": 1,
      "metadata": {
        "colab": {
          "base_uri": "https://localhost:8080/",
          "height": 271
        },
        "id": "nHwU-6QvL5FF",
        "outputId": "63f8a270-545a-48a1-92d5-a69eaea12ae4"
      },
      "outputs": [
        {
          "output_type": "stream",
          "name": "stdout",
          "text": [
            "\u001b[2K     \u001b[90m━━━━━━━━━━━━━━━━━━━━━━━━━━━━━━━━━━━━━━━━\u001b[0m \u001b[32m317.0/317.0 MB\u001b[0m \u001b[31m2.6 MB/s\u001b[0m eta \u001b[36m0:00:00\u001b[0m\n",
            "\u001b[?25h  Preparing metadata (setup.py) ... \u001b[?25l\u001b[?25hdone\n",
            "  Building wheel for pyspark (setup.py) ... \u001b[?25l\u001b[?25hdone\n"
          ]
        },
        {
          "output_type": "execute_result",
          "data": {
            "text/plain": [
              "<pyspark.sql.session.SparkSession at 0x7b42804e7a30>"
            ],
            "text/html": [
              "\n",
              "            <div>\n",
              "                <p><b>SparkSession - in-memory</b></p>\n",
              "                \n",
              "        <div>\n",
              "            <p><b>SparkContext</b></p>\n",
              "\n",
              "            <p><a href=\"http://223aecad33db:4040\">Spark UI</a></p>\n",
              "\n",
              "            <dl>\n",
              "              <dt>Version</dt>\n",
              "                <dd><code>v3.4.3</code></dd>\n",
              "              <dt>Master</dt>\n",
              "                <dd><code>local[*]</code></dd>\n",
              "              <dt>AppName</dt>\n",
              "                <dd><code>pyspark-shell</code></dd>\n",
              "            </dl>\n",
              "        </div>\n",
              "        \n",
              "            </div>\n",
              "        "
            ]
          },
          "metadata": {},
          "execution_count": 1
        }
      ],
      "source": [
        "# Instalar SDK Java 8\n",
        "\n",
        "!apt-get install openjdk-8-jdk-headless -qq > /dev/null\n",
        "\n",
        "# Descargar Spark 3.4.3\n",
        "\n",
        "!wget -q https://archive.apache.org/dist/spark/spark-3.4.3/spark-3.4.3-bin-hadoop3.tgz\n",
        "\n",
        "# Descomprimir el archivo descargado de Spark\n",
        "\n",
        "!tar xf spark-3.4.3-bin-hadoop3.tgz\n",
        "\n",
        "# Establecer las variables de entorno\n",
        "\n",
        "import os\n",
        "\n",
        "os.environ[\"JAVA_HOME\"] = \"/usr/lib/jvm/java-8-openjdk-amd64\"\n",
        "os.environ[\"SPARK_HOME\"] = \"/content/spark-3.4.3-bin-hadoop3\"\n",
        "\n",
        "# Instalar la librería findspark\n",
        "\n",
        "!pip install -q findspark\n",
        "\n",
        "# Instalar pyspark\n",
        "\n",
        "!pip install -q pyspark\n",
        "\n",
        "# verificar la instalación ###\n",
        "\n",
        "import findspark\n",
        "\n",
        "findspark.init()\n",
        "\n",
        "from pyspark.sql import SparkSession\n",
        "\n",
        "spark = SparkSession.builder.master(\"local[*]\").getOrCreate()\n",
        "\n",
        "spark"
      ]
    },
    {
      "cell_type": "markdown",
      "source": [
        "##AGREGACIONES"
      ],
      "metadata": {
        "id": "KWflyiOncx2l"
      }
    },
    {
      "cell_type": "markdown",
      "source": [
        "### base de datos: Kaggle\n",
        "### https://www.kaggle.com/datasets/usdot/flight-delays/data\n",
        "#### contiene las cancelaciones y retrasos de vuelos nacionales en EEUU en el año 2015."
      ],
      "metadata": {
        "id": "4ee8Hq4TdJG7"
      }
    },
    {
      "cell_type": "code",
      "source": [
        "df = spark.read.parquet('/content/data/vuelos.parquet').limit(10)"
      ],
      "metadata": {
        "id": "BEf0pouucfpF"
      },
      "execution_count": 3,
      "outputs": []
    },
    {
      "cell_type": "code",
      "source": [
        "df.printSchema()"
      ],
      "metadata": {
        "colab": {
          "base_uri": "https://localhost:8080/"
        },
        "id": "-SWwXE_GfybM",
        "outputId": "4ee442bb-aa36-4fde-ea5d-a02fa2a86af3"
      },
      "execution_count": null,
      "outputs": [
        {
          "output_type": "stream",
          "name": "stdout",
          "text": [
            "root\n",
            " |-- YEAR: integer (nullable = true)\n",
            " |-- MONTH: integer (nullable = true)\n",
            " |-- DAY: integer (nullable = true)\n",
            " |-- DAY_OF_WEEK: integer (nullable = true)\n",
            " |-- AIRLINE: string (nullable = true)\n",
            " |-- FLIGHT_NUMBER: integer (nullable = true)\n",
            " |-- TAIL_NUMBER: string (nullable = true)\n",
            " |-- ORIGIN_AIRPORT: string (nullable = true)\n",
            " |-- DESTINATION_AIRPORT: string (nullable = true)\n",
            " |-- SCHEDULED_DEPARTURE: integer (nullable = true)\n",
            " |-- DEPARTURE_TIME: integer (nullable = true)\n",
            " |-- DEPARTURE_DELAY: integer (nullable = true)\n",
            " |-- TAXI_OUT: integer (nullable = true)\n",
            " |-- WHEELS_OFF: integer (nullable = true)\n",
            " |-- SCHEDULED_TIME: integer (nullable = true)\n",
            " |-- ELAPSED_TIME: integer (nullable = true)\n",
            " |-- AIR_TIME: integer (nullable = true)\n",
            " |-- DISTANCE: integer (nullable = true)\n",
            " |-- WHEELS_ON: integer (nullable = true)\n",
            " |-- TAXI_IN: integer (nullable = true)\n",
            " |-- SCHEDULED_ARRIVAL: integer (nullable = true)\n",
            " |-- ARRIVAL_TIME: integer (nullable = true)\n",
            " |-- ARRIVAL_DELAY: integer (nullable = true)\n",
            " |-- DIVERTED: integer (nullable = true)\n",
            " |-- CANCELLED: integer (nullable = true)\n",
            " |-- CANCELLATION_REASON: string (nullable = true)\n",
            " |-- AIR_SYSTEM_DELAY: integer (nullable = true)\n",
            " |-- SECURITY_DELAY: integer (nullable = true)\n",
            " |-- AIRLINE_DELAY: integer (nullable = true)\n",
            " |-- LATE_AIRCRAFT_DELAY: integer (nullable = true)\n",
            " |-- WEATHER_DELAY: integer (nullable = true)\n",
            "\n"
          ]
        }
      ]
    },
    {
      "cell_type": "code",
      "source": [
        "df.show(20, truncate=False)"
      ],
      "metadata": {
        "colab": {
          "base_uri": "https://localhost:8080/"
        },
        "id": "V7UfPM2xg6z3",
        "outputId": "0f7375a2-3a1d-4beb-8201-6f087ea5748d"
      },
      "execution_count": 4,
      "outputs": [
        {
          "output_type": "stream",
          "name": "stdout",
          "text": [
            "+----+-----+---+-----------+-------+-------------+-----------+--------------+-------------------+-------------------+--------------+---------------+--------+----------+--------------+------------+--------+--------+---------+-------+-----------------+------------+-------------+--------+---------+-------------------+----------------+--------------+-------------+-------------------+-------------+\n",
            "|YEAR|MONTH|DAY|DAY_OF_WEEK|AIRLINE|FLIGHT_NUMBER|TAIL_NUMBER|ORIGIN_AIRPORT|DESTINATION_AIRPORT|SCHEDULED_DEPARTURE|DEPARTURE_TIME|DEPARTURE_DELAY|TAXI_OUT|WHEELS_OFF|SCHEDULED_TIME|ELAPSED_TIME|AIR_TIME|DISTANCE|WHEELS_ON|TAXI_IN|SCHEDULED_ARRIVAL|ARRIVAL_TIME|ARRIVAL_DELAY|DIVERTED|CANCELLED|CANCELLATION_REASON|AIR_SYSTEM_DELAY|SECURITY_DELAY|AIRLINE_DELAY|LATE_AIRCRAFT_DELAY|WEATHER_DELAY|\n",
            "+----+-----+---+-----------+-------+-------------+-----------+--------------+-------------------+-------------------+--------------+---------------+--------+----------+--------------+------------+--------+--------+---------+-------+-----------------+------------+-------------+--------+---------+-------------------+----------------+--------------+-------------+-------------------+-------------+\n",
            "|2015|1    |1  |4          |AS     |98           |N407AS     |ANC           |SEA                |5                  |2354          |-11            |21      |15        |205           |194         |169     |1448    |404      |4      |430              |408         |-22          |0       |0        |null               |null            |null          |null         |null               |null         |\n",
            "|2015|1    |1  |4          |AA     |2336         |N3KUAA     |LAX           |PBI                |10                 |2             |-8             |12      |14        |280           |279         |263     |2330    |737      |4      |750              |741         |-9           |0       |0        |null               |null            |null          |null         |null               |null         |\n",
            "|2015|1    |1  |4          |US     |840          |N171US     |SFO           |CLT                |20                 |18            |-2             |16      |34        |286           |293         |266     |2296    |800      |11     |806              |811         |5            |0       |0        |null               |null            |null          |null         |null               |null         |\n",
            "|2015|1    |1  |4          |AA     |258          |N3HYAA     |LAX           |MIA                |20                 |15            |-5             |15      |30        |285           |281         |258     |2342    |748      |8      |805              |756         |-9           |0       |0        |null               |null            |null          |null         |null               |null         |\n",
            "|2015|1    |1  |4          |AS     |135          |N527AS     |SEA           |ANC                |25                 |24            |-1             |11      |35        |235           |215         |199     |1448    |254      |5      |320              |259         |-21          |0       |0        |null               |null            |null          |null         |null               |null         |\n",
            "|2015|1    |1  |4          |DL     |806          |N3730B     |SFO           |MSP                |25                 |20            |-5             |18      |38        |217           |230         |206     |1589    |604      |6      |602              |610         |8            |0       |0        |null               |null            |null          |null         |null               |null         |\n",
            "|2015|1    |1  |4          |NK     |612          |N635NK     |LAS           |MSP                |25                 |19            |-6             |11      |30        |181           |170         |154     |1299    |504      |5      |526              |509         |-17          |0       |0        |null               |null            |null          |null         |null               |null         |\n",
            "|2015|1    |1  |4          |US     |2013         |N584UW     |LAX           |CLT                |30                 |44            |14             |13      |57        |273           |249         |228     |2125    |745      |8      |803              |753         |-10          |0       |0        |null               |null            |null          |null         |null               |null         |\n",
            "|2015|1    |1  |4          |AA     |1112         |N3LAAA     |SFO           |DFW                |30                 |19            |-11            |17      |36        |195           |193         |173     |1464    |529      |3      |545              |532         |-13          |0       |0        |null               |null            |null          |null         |null               |null         |\n",
            "|2015|1    |1  |4          |DL     |1173         |N826DN     |LAS           |ATL                |30                 |33            |3              |12      |45        |221           |203         |186     |1747    |651      |5      |711              |656         |-15          |0       |0        |null               |null            |null          |null         |null               |null         |\n",
            "+----+-----+---+-----------+-------+-------------+-----------+--------------+-------------------+-------------------+--------------+---------------+--------+----------+--------------+------------+--------+--------+---------+-------+-----------------+------------+-------------+--------+---------+-------------------+----------------+--------------+-------------+-------------------+-------------+\n",
            "\n"
          ]
        }
      ]
    },
    {
      "cell_type": "markdown",
      "source": [
        "##FUNCIÓN COUNT, COUNTDISTINCT Y APROX_COUNT_DISTINCT"
      ],
      "metadata": {
        "id": "qIqfDJp1iWsu"
      }
    },
    {
      "cell_type": "markdown",
      "source": [],
      "metadata": {
        "id": "G3fbmRbqVaPH"
      }
    },
    {
      "cell_type": "code",
      "source": [
        "df = spark.read.parquet('/content/data02/dataframe/dataframe.parquet')"
      ],
      "metadata": {
        "id": "sFPsJPbJieaL"
      },
      "execution_count": 5,
      "outputs": []
    },
    {
      "cell_type": "code",
      "source": [
        "df.printSchema()"
      ],
      "metadata": {
        "colab": {
          "base_uri": "https://localhost:8080/"
        },
        "id": "p6jqwzlojrqM",
        "outputId": "7f79bb54-0ceb-4c60-9c6a-b0058e9b0876"
      },
      "execution_count": 6,
      "outputs": [
        {
          "output_type": "stream",
          "name": "stdout",
          "text": [
            "root\n",
            " |-- nombre: string (nullable = true)\n",
            " |-- color: string (nullable = true)\n",
            " |-- cantidad: long (nullable = true)\n",
            "\n"
          ]
        }
      ]
    },
    {
      "cell_type": "code",
      "source": [
        "df.show()"
      ],
      "metadata": {
        "colab": {
          "base_uri": "https://localhost:8080/"
        },
        "id": "EyaWjiRvjw0X",
        "outputId": "04692267-951c-4a92-8c3d-d6eec3690196"
      },
      "execution_count": 7,
      "outputs": [
        {
          "output_type": "stream",
          "name": "stdout",
          "text": [
            "+------+-----+--------+\n",
            "|nombre|color|cantidad|\n",
            "+------+-----+--------+\n",
            "|  Jose| azul|    1900|\n",
            "|  null| null|    1700|\n",
            "|  null| rojo|    1300|\n",
            "|  Juan| rojo|    1500|\n",
            "+------+-----+--------+\n",
            "\n"
          ]
        }
      ]
    },
    {
      "cell_type": "code",
      "source": [
        "#count:\n",
        "#omite los valores nulos.\n",
        "from pyspark.sql.functions import count"
      ],
      "metadata": {
        "id": "nQja9tgujzqf"
      },
      "execution_count": 8,
      "outputs": []
    },
    {
      "cell_type": "code",
      "source": [
        "df.select(\n",
        "    count('nombre').alias('conteo_nombre'),\n",
        "    count('color').alias('conteo_color')\n",
        ").show()"
      ],
      "metadata": {
        "colab": {
          "base_uri": "https://localhost:8080/"
        },
        "id": "LBVEz1oOkDsI",
        "outputId": "000af3b7-9dc2-488c-9e59-ef5e1974f4b6"
      },
      "execution_count": 9,
      "outputs": [
        {
          "output_type": "stream",
          "name": "stdout",
          "text": [
            "+-------------+------------+\n",
            "|conteo_nombre|conteo_color|\n",
            "+-------------+------------+\n",
            "|            2|           3|\n",
            "+-------------+------------+\n",
            "\n"
          ]
        }
      ]
    },
    {
      "cell_type": "code",
      "source": [
        "df.select(\n",
        "    count('nombre').alias('conteo_nombre'),\n",
        "    count('color').alias('conteo_color'),\n",
        "    count('*').alias('conteo_general')\n",
        ").show()"
      ],
      "metadata": {
        "colab": {
          "base_uri": "https://localhost:8080/"
        },
        "id": "qobstZwEkn2K",
        "outputId": "dd9c2fef-7254-4411-c505-4bb17f2c23ba"
      },
      "execution_count": 10,
      "outputs": [
        {
          "output_type": "stream",
          "name": "stdout",
          "text": [
            "+-------------+------------+--------------+\n",
            "|conteo_nombre|conteo_color|conteo_general|\n",
            "+-------------+------------+--------------+\n",
            "|            2|           3|             4|\n",
            "+-------------+------------+--------------+\n",
            "\n"
          ]
        }
      ]
    },
    {
      "cell_type": "code",
      "source": [
        "#countDistinct:\n",
        "#también omite los nulos y evita los repetidos:\n",
        "from pyspark.sql.functions import countDistinct\n",
        "\n",
        "df.select(\n",
        "    countDistinct('color').alias('colores_diferentes')\n",
        ").show()"
      ],
      "metadata": {
        "colab": {
          "base_uri": "https://localhost:8080/"
        },
        "id": "CsgMVT6Nl9i0",
        "outputId": "430e5496-7460-469e-9dd6-78a2b8fc1ea3"
      },
      "execution_count": 11,
      "outputs": [
        {
          "output_type": "stream",
          "name": "stdout",
          "text": [
            "+------------------+\n",
            "|colores_diferentes|\n",
            "+------------------+\n",
            "|                 2|\n",
            "+------------------+\n",
            "\n"
          ]
        }
      ]
    },
    {
      "cell_type": "code",
      "source": [
        "#approx_count_distinct\n",
        "from pyspark.sql.functions import approx_count_distinct\n",
        "\n",
        "dataframe = spark.read.parquet('/content/data02/vuelos/vuelos.parquet')"
      ],
      "metadata": {
        "id": "EnKSZGTTmt1b"
      },
      "execution_count": 12,
      "outputs": []
    },
    {
      "cell_type": "code",
      "source": [
        "dataframe.printSchema()"
      ],
      "metadata": {
        "colab": {
          "base_uri": "https://localhost:8080/"
        },
        "id": "TqMTqc20m4au",
        "outputId": "e0c272e9-0a28-46f5-9a8d-87247956e40c"
      },
      "execution_count": 15,
      "outputs": [
        {
          "output_type": "stream",
          "name": "stdout",
          "text": [
            "root\n",
            " |-- YEAR: integer (nullable = true)\n",
            " |-- MONTH: integer (nullable = true)\n",
            " |-- DAY: integer (nullable = true)\n",
            " |-- DAY_OF_WEEK: integer (nullable = true)\n",
            " |-- AIRLINE: string (nullable = true)\n",
            " |-- FLIGHT_NUMBER: integer (nullable = true)\n",
            " |-- TAIL_NUMBER: string (nullable = true)\n",
            " |-- ORIGIN_AIRPORT: string (nullable = true)\n",
            " |-- DESTINATION_AIRPORT: string (nullable = true)\n",
            " |-- SCHEDULED_DEPARTURE: integer (nullable = true)\n",
            " |-- DEPARTURE_TIME: integer (nullable = true)\n",
            " |-- DEPARTURE_DELAY: integer (nullable = true)\n",
            " |-- TAXI_OUT: integer (nullable = true)\n",
            " |-- WHEELS_OFF: integer (nullable = true)\n",
            " |-- SCHEDULED_TIME: integer (nullable = true)\n",
            " |-- ELAPSED_TIME: integer (nullable = true)\n",
            " |-- AIR_TIME: integer (nullable = true)\n",
            " |-- DISTANCE: integer (nullable = true)\n",
            " |-- WHEELS_ON: integer (nullable = true)\n",
            " |-- TAXI_IN: integer (nullable = true)\n",
            " |-- SCHEDULED_ARRIVAL: integer (nullable = true)\n",
            " |-- ARRIVAL_TIME: integer (nullable = true)\n",
            " |-- ARRIVAL_DELAY: integer (nullable = true)\n",
            " |-- DIVERTED: integer (nullable = true)\n",
            " |-- CANCELLED: integer (nullable = true)\n",
            " |-- CANCELLATION_REASON: string (nullable = true)\n",
            " |-- AIR_SYSTEM_DELAY: integer (nullable = true)\n",
            " |-- SECURITY_DELAY: integer (nullable = true)\n",
            " |-- AIRLINE_DELAY: integer (nullable = true)\n",
            " |-- LATE_AIRCRAFT_DELAY: integer (nullable = true)\n",
            " |-- WEATHER_DELAY: integer (nullable = true)\n",
            "\n"
          ]
        }
      ]
    },
    {
      "cell_type": "code",
      "source": [
        "dataframe.select(\n",
        "    countDistinct('AIRLINE').alias('valor_diferente_aerolinea'),\n",
        "    approx_count_distinct('AIRLINE').alias('valor_diferente_aproximado')\n",
        ").show()"
      ],
      "metadata": {
        "colab": {
          "base_uri": "https://localhost:8080/"
        },
        "id": "oxOuKz-KnT7g",
        "outputId": "a97f77f5-5d4f-4fb7-a97c-7238e9441011"
      },
      "execution_count": 14,
      "outputs": [
        {
          "output_type": "stream",
          "name": "stdout",
          "text": [
            "+-------------------------+--------------------------+\n",
            "|valor_diferente_aerolinea|valor_diferente_aproximado|\n",
            "+-------------------------+--------------------------+\n",
            "|                       14|                        13|\n",
            "+-------------------------+--------------------------+\n",
            "\n"
          ]
        }
      ]
    },
    {
      "cell_type": "markdown",
      "source": [
        "##FUNCIONES MIN Y MAX"
      ],
      "metadata": {
        "id": "LVpO5CSXY0Ew"
      }
    },
    {
      "cell_type": "code",
      "source": [
        "vuelos = spark.read.parquet('/content/data02/vuelos/vuelos.parquet')"
      ],
      "metadata": {
        "id": "Wt_sU3eboFnL"
      },
      "execution_count": 16,
      "outputs": []
    },
    {
      "cell_type": "code",
      "source": [
        "vuelos.printSchema()"
      ],
      "metadata": {
        "colab": {
          "base_uri": "https://localhost:8080/"
        },
        "id": "1RTJ9podYrNy",
        "outputId": "ee5991b8-8d25-48f3-cf87-70d131094c84"
      },
      "execution_count": 17,
      "outputs": [
        {
          "output_type": "stream",
          "name": "stdout",
          "text": [
            "root\n",
            " |-- YEAR: integer (nullable = true)\n",
            " |-- MONTH: integer (nullable = true)\n",
            " |-- DAY: integer (nullable = true)\n",
            " |-- DAY_OF_WEEK: integer (nullable = true)\n",
            " |-- AIRLINE: string (nullable = true)\n",
            " |-- FLIGHT_NUMBER: integer (nullable = true)\n",
            " |-- TAIL_NUMBER: string (nullable = true)\n",
            " |-- ORIGIN_AIRPORT: string (nullable = true)\n",
            " |-- DESTINATION_AIRPORT: string (nullable = true)\n",
            " |-- SCHEDULED_DEPARTURE: integer (nullable = true)\n",
            " |-- DEPARTURE_TIME: integer (nullable = true)\n",
            " |-- DEPARTURE_DELAY: integer (nullable = true)\n",
            " |-- TAXI_OUT: integer (nullable = true)\n",
            " |-- WHEELS_OFF: integer (nullable = true)\n",
            " |-- SCHEDULED_TIME: integer (nullable = true)\n",
            " |-- ELAPSED_TIME: integer (nullable = true)\n",
            " |-- AIR_TIME: integer (nullable = true)\n",
            " |-- DISTANCE: integer (nullable = true)\n",
            " |-- WHEELS_ON: integer (nullable = true)\n",
            " |-- TAXI_IN: integer (nullable = true)\n",
            " |-- SCHEDULED_ARRIVAL: integer (nullable = true)\n",
            " |-- ARRIVAL_TIME: integer (nullable = true)\n",
            " |-- ARRIVAL_DELAY: integer (nullable = true)\n",
            " |-- DIVERTED: integer (nullable = true)\n",
            " |-- CANCELLED: integer (nullable = true)\n",
            " |-- CANCELLATION_REASON: string (nullable = true)\n",
            " |-- AIR_SYSTEM_DELAY: integer (nullable = true)\n",
            " |-- SECURITY_DELAY: integer (nullable = true)\n",
            " |-- AIRLINE_DELAY: integer (nullable = true)\n",
            " |-- LATE_AIRCRAFT_DELAY: integer (nullable = true)\n",
            " |-- WEATHER_DELAY: integer (nullable = true)\n",
            "\n"
          ]
        }
      ]
    },
    {
      "cell_type": "code",
      "source": [
        "from pyspark.sql.functions import min, max, col"
      ],
      "metadata": {
        "id": "SU3seMkFYuZc"
      },
      "execution_count": 18,
      "outputs": []
    },
    {
      "cell_type": "code",
      "source": [
        "vuelos.select(min('AIR_TIME').alias('menor_tiempo'), max('AIR_TIME').alias('mayor_tiempo')).show()"
      ],
      "metadata": {
        "colab": {
          "base_uri": "https://localhost:8080/"
        },
        "id": "Mp-1Ni_5ZBMD",
        "outputId": "c97d7238-7164-4dd6-b747-cd7be66ba275"
      },
      "execution_count": 19,
      "outputs": [
        {
          "output_type": "stream",
          "name": "stdout",
          "text": [
            "+------------+------------+\n",
            "|menor_tiempo|mayor_tiempo|\n",
            "+------------+------------+\n",
            "|           7|         690|\n",
            "+------------+------------+\n",
            "\n"
          ]
        }
      ]
    },
    {
      "cell_type": "code",
      "source": [
        "vuelos.select(min('AIRLINE_DELAY').alias('minimo'), max('AIRLINE_DELAY').alias('maximo')).show()"
      ],
      "metadata": {
        "colab": {
          "base_uri": "https://localhost:8080/"
        },
        "id": "NvP53EGUZdWa",
        "outputId": "367735ee-3702-4559-9386-0d8fe6838cf7"
      },
      "execution_count": 20,
      "outputs": [
        {
          "output_type": "stream",
          "name": "stdout",
          "text": [
            "+------+------+\n",
            "|minimo|maximo|\n",
            "+------+------+\n",
            "|     0|  1971|\n",
            "+------+------+\n",
            "\n"
          ]
        }
      ]
    },
    {
      "cell_type": "markdown",
      "source": [
        "##FUNCIONES SUM, SUMDISTINCT, AVG"
      ],
      "metadata": {
        "id": "74yTbyFCZ5mt"
      }
    },
    {
      "cell_type": "code",
      "source": [
        "from pyspark.sql.functions import sum, sumDistinct, avg, count"
      ],
      "metadata": {
        "id": "Es0U2Wh9aA4f"
      },
      "execution_count": 21,
      "outputs": []
    },
    {
      "cell_type": "code",
      "source": [
        "#sum:\n",
        "vuelos.printSchema()"
      ],
      "metadata": {
        "colab": {
          "base_uri": "https://localhost:8080/"
        },
        "id": "dUfKVWbHaMJ_",
        "outputId": "460b8f9d-fd2c-443c-9831-adbe1e899212"
      },
      "execution_count": 22,
      "outputs": [
        {
          "output_type": "stream",
          "name": "stdout",
          "text": [
            "root\n",
            " |-- YEAR: integer (nullable = true)\n",
            " |-- MONTH: integer (nullable = true)\n",
            " |-- DAY: integer (nullable = true)\n",
            " |-- DAY_OF_WEEK: integer (nullable = true)\n",
            " |-- AIRLINE: string (nullable = true)\n",
            " |-- FLIGHT_NUMBER: integer (nullable = true)\n",
            " |-- TAIL_NUMBER: string (nullable = true)\n",
            " |-- ORIGIN_AIRPORT: string (nullable = true)\n",
            " |-- DESTINATION_AIRPORT: string (nullable = true)\n",
            " |-- SCHEDULED_DEPARTURE: integer (nullable = true)\n",
            " |-- DEPARTURE_TIME: integer (nullable = true)\n",
            " |-- DEPARTURE_DELAY: integer (nullable = true)\n",
            " |-- TAXI_OUT: integer (nullable = true)\n",
            " |-- WHEELS_OFF: integer (nullable = true)\n",
            " |-- SCHEDULED_TIME: integer (nullable = true)\n",
            " |-- ELAPSED_TIME: integer (nullable = true)\n",
            " |-- AIR_TIME: integer (nullable = true)\n",
            " |-- DISTANCE: integer (nullable = true)\n",
            " |-- WHEELS_ON: integer (nullable = true)\n",
            " |-- TAXI_IN: integer (nullable = true)\n",
            " |-- SCHEDULED_ARRIVAL: integer (nullable = true)\n",
            " |-- ARRIVAL_TIME: integer (nullable = true)\n",
            " |-- ARRIVAL_DELAY: integer (nullable = true)\n",
            " |-- DIVERTED: integer (nullable = true)\n",
            " |-- CANCELLED: integer (nullable = true)\n",
            " |-- CANCELLATION_REASON: string (nullable = true)\n",
            " |-- AIR_SYSTEM_DELAY: integer (nullable = true)\n",
            " |-- SECURITY_DELAY: integer (nullable = true)\n",
            " |-- AIRLINE_DELAY: integer (nullable = true)\n",
            " |-- LATE_AIRCRAFT_DELAY: integer (nullable = true)\n",
            " |-- WEATHER_DELAY: integer (nullable = true)\n",
            "\n"
          ]
        }
      ]
    },
    {
      "cell_type": "code",
      "source": [
        "vuelos.select(sum('DISTANCE').alias('sum_distance')).show()"
      ],
      "metadata": {
        "colab": {
          "base_uri": "https://localhost:8080/"
        },
        "id": "kNOim1_BaQot",
        "outputId": "4ba583d3-0dbf-4343-9ead-41e679b5890b"
      },
      "execution_count": 24,
      "outputs": [
        {
          "output_type": "stream",
          "name": "stdout",
          "text": [
            "+------------+\n",
            "|sum_distance|\n",
            "+------------+\n",
            "|  4785357409|\n",
            "+------------+\n",
            "\n"
          ]
        }
      ]
    },
    {
      "cell_type": "code",
      "source": [
        "#sumDistinct:\n",
        "vuelos.select(sumDistinct('DISTANCE').alias('suma_distancias_no_repetidas')).show()"
      ],
      "metadata": {
        "colab": {
          "base_uri": "https://localhost:8080/"
        },
        "id": "1sLlT5wVad4K",
        "outputId": "60a1ed6f-84fd-47cc-f3c7-966395730aa0"
      },
      "execution_count": 27,
      "outputs": [
        {
          "output_type": "stream",
          "name": "stdout",
          "text": [
            "+----------------------------+\n",
            "|suma_distancias_no_repetidas|\n",
            "+----------------------------+\n",
            "|                     1442300|\n",
            "+----------------------------+\n",
            "\n"
          ]
        }
      ]
    },
    {
      "cell_type": "code",
      "source": [
        "#avg:\n",
        "vuelos.select(avg('AIR_TIME').alias('tiempo_promedio_en_el_aire'),(sum('AIR_TIME') / count('AIR_TIME')).alias('promedio_manual')).show()\n"
      ],
      "metadata": {
        "colab": {
          "base_uri": "https://localhost:8080/"
        },
        "id": "UgquzLbua1n8",
        "outputId": "7e2c9e61-f31f-42fc-88a7-30c361c0e008"
      },
      "execution_count": 28,
      "outputs": [
        {
          "output_type": "stream",
          "name": "stdout",
          "text": [
            "+--------------------------+------------------+\n",
            "|tiempo_promedio_en_el_aire|   promedio_manual|\n",
            "+--------------------------+------------------+\n",
            "|        113.51162809012519|113.51162809012519|\n",
            "+--------------------------+------------------+\n",
            "\n"
          ]
        }
      ]
    },
    {
      "cell_type": "markdown",
      "source": [
        "##AGREGACIÓN CON AGRUPACIÓN"
      ],
      "metadata": {
        "id": "pdzOxER_dNwT"
      }
    },
    {
      "cell_type": "code",
      "source": [
        "vuelos = spark.read.parquet('/content/data02/vuelos/vuelos.parquet')"
      ],
      "metadata": {
        "id": "RshOQT6cdRCZ"
      },
      "execution_count": 29,
      "outputs": []
    },
    {
      "cell_type": "code",
      "source": [
        "vuelos.printSchema()"
      ],
      "metadata": {
        "colab": {
          "base_uri": "https://localhost:8080/"
        },
        "id": "pcu_-w9Odofy",
        "outputId": "b1388b18-65a3-4f6b-d479-8a11ec98d687"
      },
      "execution_count": 30,
      "outputs": [
        {
          "output_type": "stream",
          "name": "stdout",
          "text": [
            "root\n",
            " |-- YEAR: integer (nullable = true)\n",
            " |-- MONTH: integer (nullable = true)\n",
            " |-- DAY: integer (nullable = true)\n",
            " |-- DAY_OF_WEEK: integer (nullable = true)\n",
            " |-- AIRLINE: string (nullable = true)\n",
            " |-- FLIGHT_NUMBER: integer (nullable = true)\n",
            " |-- TAIL_NUMBER: string (nullable = true)\n",
            " |-- ORIGIN_AIRPORT: string (nullable = true)\n",
            " |-- DESTINATION_AIRPORT: string (nullable = true)\n",
            " |-- SCHEDULED_DEPARTURE: integer (nullable = true)\n",
            " |-- DEPARTURE_TIME: integer (nullable = true)\n",
            " |-- DEPARTURE_DELAY: integer (nullable = true)\n",
            " |-- TAXI_OUT: integer (nullable = true)\n",
            " |-- WHEELS_OFF: integer (nullable = true)\n",
            " |-- SCHEDULED_TIME: integer (nullable = true)\n",
            " |-- ELAPSED_TIME: integer (nullable = true)\n",
            " |-- AIR_TIME: integer (nullable = true)\n",
            " |-- DISTANCE: integer (nullable = true)\n",
            " |-- WHEELS_ON: integer (nullable = true)\n",
            " |-- TAXI_IN: integer (nullable = true)\n",
            " |-- SCHEDULED_ARRIVAL: integer (nullable = true)\n",
            " |-- ARRIVAL_TIME: integer (nullable = true)\n",
            " |-- ARRIVAL_DELAY: integer (nullable = true)\n",
            " |-- DIVERTED: integer (nullable = true)\n",
            " |-- CANCELLED: integer (nullable = true)\n",
            " |-- CANCELLATION_REASON: string (nullable = true)\n",
            " |-- AIR_SYSTEM_DELAY: integer (nullable = true)\n",
            " |-- SECURITY_DELAY: integer (nullable = true)\n",
            " |-- AIRLINE_DELAY: integer (nullable = true)\n",
            " |-- LATE_AIRCRAFT_DELAY: integer (nullable = true)\n",
            " |-- WEATHER_DELAY: integer (nullable = true)\n",
            "\n"
          ]
        }
      ]
    },
    {
      "cell_type": "code",
      "source": [
        "from pyspark.sql.functions import desc"
      ],
      "metadata": {
        "id": "Sw2ekRtVdrxX"
      },
      "execution_count": 31,
      "outputs": []
    },
    {
      "cell_type": "code",
      "source": [
        "vuelos.groupBy('ORIGIN_AIRPORT').count().orderBy(desc('count')).show()"
      ],
      "metadata": {
        "colab": {
          "base_uri": "https://localhost:8080/"
        },
        "id": "lvHz-Wfbd7Sn",
        "outputId": "f18665ed-3a63-450f-bb01-504a8dfb0fcf"
      },
      "execution_count": 32,
      "outputs": [
        {
          "output_type": "stream",
          "name": "stdout",
          "text": [
            "+--------------+------+\n",
            "|ORIGIN_AIRPORT| count|\n",
            "+--------------+------+\n",
            "|           ATL|346836|\n",
            "|           ORD|285884|\n",
            "|           DFW|239551|\n",
            "|           DEN|196055|\n",
            "|           LAX|194673|\n",
            "|           SFO|148008|\n",
            "|           PHX|146815|\n",
            "|           IAH|146622|\n",
            "|           LAS|133181|\n",
            "|           MSP|112117|\n",
            "|           MCO|110982|\n",
            "|           SEA|110899|\n",
            "|           DTW|108500|\n",
            "|           BOS|107847|\n",
            "|           EWR|101772|\n",
            "|           CLT|100324|\n",
            "|           LGA| 99605|\n",
            "|           SLC| 97210|\n",
            "|           JFK| 93811|\n",
            "|           BWI| 86079|\n",
            "+--------------+------+\n",
            "only showing top 20 rows\n",
            "\n"
          ]
        }
      ]
    },
    {
      "cell_type": "code",
      "source": [
        "vuelos.groupBy('ORIGIN_AIRPORT', 'DESTINATION_AIRPORT').count().orderBy(desc('count')).show()"
      ],
      "metadata": {
        "colab": {
          "base_uri": "https://localhost:8080/"
        },
        "id": "fSCzG3eceaXx",
        "outputId": "1848e6fc-bfd8-46cb-c1c1-a0d6989a5328"
      },
      "execution_count": 33,
      "outputs": [
        {
          "output_type": "stream",
          "name": "stdout",
          "text": [
            "+--------------+-------------------+-----+\n",
            "|ORIGIN_AIRPORT|DESTINATION_AIRPORT|count|\n",
            "+--------------+-------------------+-----+\n",
            "|           SFO|                LAX|13744|\n",
            "|           LAX|                SFO|13457|\n",
            "|           JFK|                LAX|12016|\n",
            "|           LAX|                JFK|12015|\n",
            "|           LAS|                LAX| 9715|\n",
            "|           LGA|                ORD| 9639|\n",
            "|           LAX|                LAS| 9594|\n",
            "|           ORD|                LGA| 9575|\n",
            "|           SFO|                JFK| 8440|\n",
            "|           JFK|                SFO| 8437|\n",
            "|           OGG|                HNL| 8313|\n",
            "|           HNL|                OGG| 8282|\n",
            "|           LAX|                ORD| 8256|\n",
            "|           ATL|                LGA| 8234|\n",
            "|           LGA|                ATL| 8215|\n",
            "|           ATL|                MCO| 8202|\n",
            "|           MCO|                ATL| 8202|\n",
            "|           SFO|                LAS| 7995|\n",
            "|           ORD|                LAX| 7941|\n",
            "|           LAS|                SFO| 7870|\n",
            "+--------------+-------------------+-----+\n",
            "only showing top 20 rows\n",
            "\n"
          ]
        }
      ]
    },
    {
      "cell_type": "markdown",
      "source": [
        "##Multiples agregaciones por grupo"
      ],
      "metadata": {
        "id": "4S4ERr_5fKsD"
      }
    },
    {
      "cell_type": "code",
      "source": [
        "vuelos = spark.read.parquet('/content/data02/vuelos/vuelos.parquet')"
      ],
      "metadata": {
        "id": "tHtR-Qaje0_C"
      },
      "execution_count": 34,
      "outputs": []
    },
    {
      "cell_type": "code",
      "source": [
        "from pyspark.sql.functions import min, max, desc, avg"
      ],
      "metadata": {
        "id": "Ey0BUEbHfZOi"
      },
      "execution_count": 35,
      "outputs": []
    },
    {
      "cell_type": "code",
      "source": [
        "vuelos.groupBy('ORIGIN_AIRPORT').agg(count('AIR_TIME').alias('tiempo_en_el_aire'), min('AIR_TIME').alias('tiempo_minimo_en_el_aire'), max('AIR_TIME').alias('tiempo_maximo_en_el_aire')).orderBy(desc(col('tiempo_en_el_aire'))).show()"
      ],
      "metadata": {
        "colab": {
          "base_uri": "https://localhost:8080/"
        },
        "id": "8oh0mtOKffy2",
        "outputId": "b59af92f-e7d8-4f60-dae6-c508deed8846"
      },
      "execution_count": 42,
      "outputs": [
        {
          "output_type": "stream",
          "name": "stdout",
          "text": [
            "+--------------+-----------------+------------------------+------------------------+\n",
            "|ORIGIN_AIRPORT|tiempo_en_el_aire|tiempo_minimo_en_el_aire|tiempo_maximo_en_el_aire|\n",
            "+--------------+-----------------+------------------------+------------------------+\n",
            "|           ATL|           343506|                      15|                     614|\n",
            "|           ORD|           276554|                      13|                     571|\n",
            "|           DFW|           232647|                      11|                     534|\n",
            "|           DEN|           193402|                      12|                     493|\n",
            "|           LAX|           192003|                      14|                     409|\n",
            "|           PHX|           145552|                      19|                     444|\n",
            "|           SFO|           145491|                       8|                     389|\n",
            "|           IAH|           144019|                      15|                     524|\n",
            "|           LAS|           131937|                      25|                     429|\n",
            "|           MSP|           111055|                      14|                     537|\n",
            "|           SEA|           110178|                      17|                     412|\n",
            "|           MCO|           109532|                      25|                     395|\n",
            "|           DTW|           106992|                      15|                     341|\n",
            "|           BOS|           104804|                      16|                     432|\n",
            "|           CLT|            99052|                      17|                     379|\n",
            "|           EWR|            98341|                      21|                     683|\n",
            "|           SLC|            96505|                      18|                     419|\n",
            "|           LGA|            94834|                      19|                     311|\n",
            "|           JFK|            91663|                      29|                     690|\n",
            "|           BWI|            84329|                      19|                     398|\n",
            "+--------------+-----------------+------------------------+------------------------+\n",
            "only showing top 20 rows\n",
            "\n"
          ]
        }
      ]
    },
    {
      "cell_type": "code",
      "source": [
        "vuelos.groupBy('MONTH').agg(count('ARRIVAL_DELAY').alias('conteo_retrasos'), avg('DISTANCE').alias('distancia_promedio')).orderBy(desc('conteo_retrasos')).show()"
      ],
      "metadata": {
        "colab": {
          "base_uri": "https://localhost:8080/"
        },
        "id": "vN0zUAn_gAOA",
        "outputId": "29928441-161d-4c84-c85a-ab5d72d3e435"
      },
      "execution_count": 43,
      "outputs": [
        {
          "output_type": "stream",
          "name": "stdout",
          "text": [
            "+-----+---------------+------------------+\n",
            "|MONTH|conteo_retrasos|distancia_promedio|\n",
            "+-----+---------------+------------------+\n",
            "|    7|         514384| 841.4772794487611|\n",
            "|    8|         503956| 834.8244276603413|\n",
            "|    6|         492847| 835.6302716626612|\n",
            "|    3|         492138| 816.0553268611494|\n",
            "|    5|         489641| 823.3230588760807|\n",
            "|   10|         482878| 816.4436127652134|\n",
            "|    4|         479251| 817.0060476016745|\n",
            "|   12|         469717| 837.8018926194103|\n",
            "|   11|         462367| 820.2482434846529|\n",
            "|    9|         462153| 815.8487523282274|\n",
            "|    1|         457013| 803.2612794913696|\n",
            "|    2|         407663|  800.785449834689|\n",
            "+-----+---------------+------------------+\n",
            "\n"
          ]
        }
      ]
    },
    {
      "cell_type": "markdown",
      "source": [
        "##AGREGACIÓN CON PIVOTE"
      ],
      "metadata": {
        "id": "7cYtJ1JcmVs0"
      }
    },
    {
      "cell_type": "code",
      "source": [
        "estudiantes = spark.read.parquet('/content/data03/estudiantes.parquet')"
      ],
      "metadata": {
        "id": "fcUtT-KHmZY-"
      },
      "execution_count": 44,
      "outputs": []
    },
    {
      "cell_type": "code",
      "source": [
        "estudiantes.printSchema()"
      ],
      "metadata": {
        "colab": {
          "base_uri": "https://localhost:8080/"
        },
        "id": "2dipxQMUm6D-",
        "outputId": "234df026-7cd1-4021-d045-8efaa580424c"
      },
      "execution_count": 45,
      "outputs": [
        {
          "output_type": "stream",
          "name": "stdout",
          "text": [
            "root\n",
            " |-- nombre: string (nullable = true)\n",
            " |-- sexo: string (nullable = true)\n",
            " |-- peso: long (nullable = true)\n",
            " |-- graduacion: long (nullable = true)\n",
            "\n"
          ]
        }
      ]
    },
    {
      "cell_type": "code",
      "source": [
        "estudiantes.show()"
      ],
      "metadata": {
        "colab": {
          "base_uri": "https://localhost:8080/"
        },
        "id": "-lsAhSoCm9XX",
        "outputId": "0b7558f9-7ccd-4e54-865c-6c05fdba4f51"
      },
      "execution_count": 46,
      "outputs": [
        {
          "output_type": "stream",
          "name": "stdout",
          "text": [
            "+------+----+----+----------+\n",
            "|nombre|sexo|peso|graduacion|\n",
            "+------+----+----+----------+\n",
            "|  Jose|   M|  80|      2000|\n",
            "| Hilda|   F|  50|      2000|\n",
            "|  Juan|   M|  75|      2000|\n",
            "| Pedro|   M|  76|      2001|\n",
            "|Katia+|   F|  65|      2001|\n",
            "+------+----+----+----------+\n",
            "\n"
          ]
        }
      ]
    },
    {
      "cell_type": "code",
      "source": [
        "from pyspark.sql.functions import min, max, avg, col"
      ],
      "metadata": {
        "id": "uRYsttuKnAvk"
      },
      "execution_count": 47,
      "outputs": []
    },
    {
      "cell_type": "code",
      "source": [
        "estudiantes.groupBy('graduacion').pivot('sexo').agg(avg('peso'), min('peso'), max('peso')).show()"
      ],
      "metadata": {
        "colab": {
          "base_uri": "https://localhost:8080/"
        },
        "id": "H3faA_ITnYuY",
        "outputId": "ac1aafab-70e7-4c60-92be-1b325abe009e"
      },
      "execution_count": 50,
      "outputs": [
        {
          "output_type": "stream",
          "name": "stdout",
          "text": [
            "+----------+-----------+-----------+-----------+-----------+-----------+-----------+\n",
            "|graduacion|F_avg(peso)|F_min(peso)|F_max(peso)|M_avg(peso)|M_min(peso)|M_max(peso)|\n",
            "+----------+-----------+-----------+-----------+-----------+-----------+-----------+\n",
            "|      2001|       65.0|         65|         65|       76.0|         76|         76|\n",
            "|      2000|       50.0|         50|         50|       77.5|         75|         80|\n",
            "+----------+-----------+-----------+-----------+-----------+-----------+-----------+\n",
            "\n"
          ]
        }
      ]
    },
    {
      "cell_type": "code",
      "source": [
        "estudiantes.groupBy('graduacion').pivot('sexo', ['M']).agg(avg('peso'), min('peso'), max('peso')).show()"
      ],
      "metadata": {
        "colab": {
          "base_uri": "https://localhost:8080/"
        },
        "id": "CZ2YanALnpZa",
        "outputId": "cbec5541-e18d-486a-8e1e-5b69425f4659"
      },
      "execution_count": 51,
      "outputs": [
        {
          "output_type": "stream",
          "name": "stdout",
          "text": [
            "+----------+-----------+-----------+-----------+\n",
            "|graduacion|M_avg(peso)|M_min(peso)|M_max(peso)|\n",
            "+----------+-----------+-----------+-----------+\n",
            "|      2001|       76.0|         76|         76|\n",
            "|      2000|       77.5|         75|         80|\n",
            "+----------+-----------+-----------+-----------+\n",
            "\n"
          ]
        }
      ]
    },
    {
      "cell_type": "code",
      "source": [
        "estudiantes.groupBy('graduacion').pivot('sexo', ['F']).agg(avg('peso'), min('peso'), max('peso')).show()"
      ],
      "metadata": {
        "colab": {
          "base_uri": "https://localhost:8080/"
        },
        "id": "fELRPJW_qk7c",
        "outputId": "9e0914f8-a86f-4c07-f67c-2f8da97cd4af"
      },
      "execution_count": 52,
      "outputs": [
        {
          "output_type": "stream",
          "name": "stdout",
          "text": [
            "+----------+-----------+-----------+-----------+\n",
            "|graduacion|F_avg(peso)|F_min(peso)|F_max(peso)|\n",
            "+----------+-----------+-----------+-----------+\n",
            "|      2001|       65.0|         65|         65|\n",
            "|      2000|       50.0|         50|         50|\n",
            "+----------+-----------+-----------+-----------+\n",
            "\n"
          ]
        }
      ]
    },
    {
      "cell_type": "markdown",
      "source": [
        "##JOINS"
      ],
      "metadata": {
        "id": "DqC1tueDsQPZ"
      }
    },
    {
      "cell_type": "code",
      "source": [
        "#Inner join:\n",
        "empleados = spark.read.parquet('/content/data04/empleados/empleados.parquet')\n",
        "departamentos = spark.read.parquet('/content/data04/departamentos/departamentos.parquet')"
      ],
      "metadata": {
        "id": "ZzV__4FZq6ke"
      },
      "execution_count": 53,
      "outputs": []
    },
    {
      "cell_type": "code",
      "source": [
        "empleados.show()"
      ],
      "metadata": {
        "colab": {
          "base_uri": "https://localhost:8080/"
        },
        "id": "9JKfQIY7vQeW",
        "outputId": "23e530c6-f603-41f3-f156-bc46d92a0eea"
      },
      "execution_count": 54,
      "outputs": [
        {
          "output_type": "stream",
          "name": "stdout",
          "text": [
            "+------+--------+\n",
            "|nombre|num_dpto|\n",
            "+------+--------+\n",
            "|  Luis|      33|\n",
            "| Katia|      33|\n",
            "|  Raul|      34|\n",
            "| Pedro|       0|\n",
            "| Laura|      34|\n",
            "|Sandro|      31|\n",
            "+------+--------+\n",
            "\n"
          ]
        }
      ]
    },
    {
      "cell_type": "code",
      "source": [
        "departamentos.show()"
      ],
      "metadata": {
        "colab": {
          "base_uri": "https://localhost:8080/"
        },
        "id": "YbeRkEtqvVsr",
        "outputId": "b7872581-ca71-4b08-ed94-af5c560f1883"
      },
      "execution_count": 55,
      "outputs": [
        {
          "output_type": "stream",
          "name": "stdout",
          "text": [
            "+---+-----------+\n",
            "| id|nombre_dpto|\n",
            "+---+-----------+\n",
            "| 31|     letras|\n",
            "| 33|    derecho|\n",
            "| 34| matemática|\n",
            "| 35|informática|\n",
            "+---+-----------+\n",
            "\n"
          ]
        }
      ]
    },
    {
      "cell_type": "code",
      "source": [
        "from pyspark.sql.functions import col"
      ],
      "metadata": {
        "id": "MH80Ja1fvaYW"
      },
      "execution_count": 56,
      "outputs": []
    },
    {
      "cell_type": "code",
      "source": [
        "join_df = empleados.join(departamentos, col('num_dpto') == col('id'))\n",
        "join_df.show()"
      ],
      "metadata": {
        "colab": {
          "base_uri": "https://localhost:8080/"
        },
        "id": "q0AVzZS3wHav",
        "outputId": "4cda5e8e-be22-4634-bf95-713c4482137a"
      },
      "execution_count": 57,
      "outputs": [
        {
          "output_type": "stream",
          "name": "stdout",
          "text": [
            "+------+--------+---+-----------+\n",
            "|nombre|num_dpto| id|nombre_dpto|\n",
            "+------+--------+---+-----------+\n",
            "|  Luis|      33| 33|    derecho|\n",
            "| Katia|      33| 33|    derecho|\n",
            "|  Raul|      34| 34| matemática|\n",
            "| Laura|      34| 34| matemática|\n",
            "|Sandro|      31| 31|     letras|\n",
            "+------+--------+---+-----------+\n",
            "\n"
          ]
        }
      ]
    },
    {
      "cell_type": "code",
      "source": [
        "join_df = empleados.join(departamentos, col('num_dpto') == col('id'), 'inner')\n",
        "join_df.show()"
      ],
      "metadata": {
        "colab": {
          "base_uri": "https://localhost:8080/"
        },
        "id": "-KwfOou_waDQ",
        "outputId": "c028fd0c-e53d-4f98-b571-2409d74ef416"
      },
      "execution_count": 58,
      "outputs": [
        {
          "output_type": "stream",
          "name": "stdout",
          "text": [
            "+------+--------+---+-----------+\n",
            "|nombre|num_dpto| id|nombre_dpto|\n",
            "+------+--------+---+-----------+\n",
            "|  Luis|      33| 33|    derecho|\n",
            "| Katia|      33| 33|    derecho|\n",
            "|  Raul|      34| 34| matemática|\n",
            "| Laura|      34| 34| matemática|\n",
            "|Sandro|      31| 31|     letras|\n",
            "+------+--------+---+-----------+\n",
            "\n"
          ]
        }
      ]
    },
    {
      "cell_type": "code",
      "source": [
        "join_df = empleados.join(departamentos).where(col('num_dpto')==col('id'))\n",
        "join_df.show()"
      ],
      "metadata": {
        "colab": {
          "base_uri": "https://localhost:8080/"
        },
        "id": "ZMWdHB58xCAH",
        "outputId": "7d886ef3-98ce-42ba-fb85-d6eba9a3d2f1"
      },
      "execution_count": 59,
      "outputs": [
        {
          "output_type": "stream",
          "name": "stdout",
          "text": [
            "+------+--------+---+-----------+\n",
            "|nombre|num_dpto| id|nombre_dpto|\n",
            "+------+--------+---+-----------+\n",
            "|  Luis|      33| 33|    derecho|\n",
            "| Katia|      33| 33|    derecho|\n",
            "|  Raul|      34| 34| matemática|\n",
            "| Laura|      34| 34| matemática|\n",
            "|Sandro|      31| 31|     letras|\n",
            "+------+--------+---+-----------+\n",
            "\n"
          ]
        }
      ]
    },
    {
      "cell_type": "code",
      "source": [
        "#left outer join:\n",
        "from pyspark.sql.functions import col"
      ],
      "metadata": {
        "id": "M1mn1V0AxfD7"
      },
      "execution_count": 60,
      "outputs": []
    },
    {
      "cell_type": "code",
      "source": [
        "empleados.join(departamentos, col('num_dpto') == col('id'), 'leftouter').show()"
      ],
      "metadata": {
        "colab": {
          "base_uri": "https://localhost:8080/"
        },
        "id": "xradsnAgyBqY",
        "outputId": "0f947e5f-5247-4d54-91c3-d6e7452f4b12"
      },
      "execution_count": 61,
      "outputs": [
        {
          "output_type": "stream",
          "name": "stdout",
          "text": [
            "+------+--------+----+-----------+\n",
            "|nombre|num_dpto|  id|nombre_dpto|\n",
            "+------+--------+----+-----------+\n",
            "|  Luis|      33|  33|    derecho|\n",
            "| Katia|      33|  33|    derecho|\n",
            "|  Raul|      34|  34| matemática|\n",
            "| Pedro|       0|null|       null|\n",
            "| Laura|      34|  34| matemática|\n",
            "|Sandro|      31|  31|     letras|\n",
            "+------+--------+----+-----------+\n",
            "\n"
          ]
        }
      ]
    },
    {
      "cell_type": "code",
      "source": [
        "empleados.join(departamentos, col('num_dpto') == col('id'), 'left').show()"
      ],
      "metadata": {
        "colab": {
          "base_uri": "https://localhost:8080/"
        },
        "id": "6x73B2WByaoN",
        "outputId": "b6b06de4-f6c9-44b8-f07c-84424abf6be1"
      },
      "execution_count": 62,
      "outputs": [
        {
          "output_type": "stream",
          "name": "stdout",
          "text": [
            "+------+--------+----+-----------+\n",
            "|nombre|num_dpto|  id|nombre_dpto|\n",
            "+------+--------+----+-----------+\n",
            "|  Luis|      33|  33|    derecho|\n",
            "| Katia|      33|  33|    derecho|\n",
            "|  Raul|      34|  34| matemática|\n",
            "| Pedro|       0|null|       null|\n",
            "| Laura|      34|  34| matemática|\n",
            "|Sandro|      31|  31|     letras|\n",
            "+------+--------+----+-----------+\n",
            "\n"
          ]
        }
      ]
    },
    {
      "cell_type": "code",
      "source": [
        "#right outer join:\n",
        "from pyspark.sql.functions import col"
      ],
      "metadata": {
        "id": "rmJLAQnwyyls"
      },
      "execution_count": 63,
      "outputs": []
    },
    {
      "cell_type": "code",
      "source": [
        "empleados.join(departamentos, col('num_dpto') == col('id'), 'rightouter').show()"
      ],
      "metadata": {
        "colab": {
          "base_uri": "https://localhost:8080/"
        },
        "id": "H_U-ZuJHz086",
        "outputId": "dd4bc563-1e29-4299-f1fb-39e51d596a29"
      },
      "execution_count": 64,
      "outputs": [
        {
          "output_type": "stream",
          "name": "stdout",
          "text": [
            "+------+--------+---+-----------+\n",
            "|nombre|num_dpto| id|nombre_dpto|\n",
            "+------+--------+---+-----------+\n",
            "|Sandro|      31| 31|     letras|\n",
            "| Katia|      33| 33|    derecho|\n",
            "|  Luis|      33| 33|    derecho|\n",
            "| Laura|      34| 34| matemática|\n",
            "|  Raul|      34| 34| matemática|\n",
            "|  null|    null| 35|informática|\n",
            "+------+--------+---+-----------+\n",
            "\n"
          ]
        }
      ]
    },
    {
      "cell_type": "code",
      "source": [
        "empleados.join(departamentos, col('num_dpto') == col('id'), 'right').show()"
      ],
      "metadata": {
        "colab": {
          "base_uri": "https://localhost:8080/"
        },
        "id": "Ai4Z_N4Bz_Z1",
        "outputId": "b76a1dec-fa78-419e-ee9a-89014ac5f49e"
      },
      "execution_count": 65,
      "outputs": [
        {
          "output_type": "stream",
          "name": "stdout",
          "text": [
            "+------+--------+---+-----------+\n",
            "|nombre|num_dpto| id|nombre_dpto|\n",
            "+------+--------+---+-----------+\n",
            "|Sandro|      31| 31|     letras|\n",
            "| Katia|      33| 33|    derecho|\n",
            "|  Luis|      33| 33|    derecho|\n",
            "| Laura|      34| 34| matemática|\n",
            "|  Raul|      34| 34| matemática|\n",
            "|  null|    null| 35|informática|\n",
            "+------+--------+---+-----------+\n",
            "\n"
          ]
        }
      ]
    },
    {
      "cell_type": "code",
      "source": [
        "#full outer join:\n",
        "from pyspark.sql.functions import col"
      ],
      "metadata": {
        "id": "Dl9gKJfc0az4"
      },
      "execution_count": 66,
      "outputs": []
    },
    {
      "cell_type": "code",
      "source": [
        "empleados.join(departamentos, col('num_dpto') == col('id'), 'fullouter').show()"
      ],
      "metadata": {
        "colab": {
          "base_uri": "https://localhost:8080/"
        },
        "id": "m4WGhqSq0t5c",
        "outputId": "d8dfcb52-f0d8-496b-b20d-3f8894f84dcb"
      },
      "execution_count": 68,
      "outputs": [
        {
          "output_type": "stream",
          "name": "stdout",
          "text": [
            "+------+--------+----+-----------+\n",
            "|nombre|num_dpto|  id|nombre_dpto|\n",
            "+------+--------+----+-----------+\n",
            "| Pedro|       0|null|       null|\n",
            "|Sandro|      31|  31|     letras|\n",
            "|  Luis|      33|  33|    derecho|\n",
            "| Katia|      33|  33|    derecho|\n",
            "|  Raul|      34|  34| matemática|\n",
            "| Laura|      34|  34| matemática|\n",
            "|  null|    null|  35|informática|\n",
            "+------+--------+----+-----------+\n",
            "\n"
          ]
        }
      ]
    },
    {
      "cell_type": "code",
      "source": [
        "empleados.join(departamentos, col('num_dpto') == col('id'), 'outer').show()"
      ],
      "metadata": {
        "colab": {
          "base_uri": "https://localhost:8080/"
        },
        "id": "cdwIAS09039S",
        "outputId": "58b53a56-7120-4a1e-f888-7bb832571596"
      },
      "execution_count": 69,
      "outputs": [
        {
          "output_type": "stream",
          "name": "stdout",
          "text": [
            "+------+--------+----+-----------+\n",
            "|nombre|num_dpto|  id|nombre_dpto|\n",
            "+------+--------+----+-----------+\n",
            "| Pedro|       0|null|       null|\n",
            "|Sandro|      31|  31|     letras|\n",
            "|  Luis|      33|  33|    derecho|\n",
            "| Katia|      33|  33|    derecho|\n",
            "|  Raul|      34|  34| matemática|\n",
            "| Laura|      34|  34| matemática|\n",
            "|  null|    null|  35|informática|\n",
            "+------+--------+----+-----------+\n",
            "\n"
          ]
        }
      ]
    },
    {
      "cell_type": "code",
      "source": [
        "#Left anti join:\n",
        "from pyspark.sql.functions import col"
      ],
      "metadata": {
        "id": "fyXGLiQj1JNB"
      },
      "execution_count": 71,
      "outputs": []
    },
    {
      "cell_type": "code",
      "source": [
        "#registros de empleados que no tienen correspondencia en departamentos\n",
        "empleados.join(departamentos, col('num_dpto') == col('id'), 'left_anti').show()"
      ],
      "metadata": {
        "colab": {
          "base_uri": "https://localhost:8080/"
        },
        "id": "1s1c--hD1X7d",
        "outputId": "c089d506-804d-4860-fef4-bc6b30be259a"
      },
      "execution_count": 73,
      "outputs": [
        {
          "output_type": "stream",
          "name": "stdout",
          "text": [
            "+------+--------+\n",
            "|nombre|num_dpto|\n",
            "+------+--------+\n",
            "| Pedro|       0|\n",
            "+------+--------+\n",
            "\n"
          ]
        }
      ]
    },
    {
      "cell_type": "code",
      "source": [
        "departamentos.join(empleados, col('num_dpto') == col('id'), 'left_anti').show()"
      ],
      "metadata": {
        "colab": {
          "base_uri": "https://localhost:8080/"
        },
        "id": "IFwydrUx1rUZ",
        "outputId": "15c074c3-0c4a-4f29-877d-eb5b1a5c43bb"
      },
      "execution_count": 74,
      "outputs": [
        {
          "output_type": "stream",
          "name": "stdout",
          "text": [
            "+---+-----------+\n",
            "| id|nombre_dpto|\n",
            "+---+-----------+\n",
            "| 35|informática|\n",
            "+---+-----------+\n",
            "\n"
          ]
        }
      ]
    },
    {
      "cell_type": "code",
      "source": [
        "#Left semi join:\n",
        "from pyspark.sql.functions import col"
      ],
      "metadata": {
        "id": "qNSxbLlH2MkG"
      },
      "execution_count": 75,
      "outputs": []
    },
    {
      "cell_type": "code",
      "source": [
        "empleados.join(departamentos, col('num_dpto') == col('id'), 'left_semi').show()"
      ],
      "metadata": {
        "colab": {
          "base_uri": "https://localhost:8080/"
        },
        "id": "ZIy3ftzL2W3S",
        "outputId": "69e0c8cf-3cdc-4f19-8f47-4adb77cfb04b"
      },
      "execution_count": 76,
      "outputs": [
        {
          "output_type": "stream",
          "name": "stdout",
          "text": [
            "+------+--------+\n",
            "|nombre|num_dpto|\n",
            "+------+--------+\n",
            "|  Luis|      33|\n",
            "| Katia|      33|\n",
            "|  Raul|      34|\n",
            "| Laura|      34|\n",
            "|Sandro|      31|\n",
            "+------+--------+\n",
            "\n"
          ]
        }
      ]
    },
    {
      "cell_type": "code",
      "source": [
        "#Cross Join:\n",
        "from pyspark.sql.functions import col"
      ],
      "metadata": {
        "id": "yDtRKzE42qBt"
      },
      "execution_count": 77,
      "outputs": []
    },
    {
      "cell_type": "code",
      "source": [
        "df = empleados.crossJoin(departamentos)"
      ],
      "metadata": {
        "id": "HsQwOR-z3b9P"
      },
      "execution_count": 78,
      "outputs": []
    },
    {
      "cell_type": "code",
      "source": [
        "df.show()"
      ],
      "metadata": {
        "colab": {
          "base_uri": "https://localhost:8080/"
        },
        "id": "viNUNeC43sSU",
        "outputId": "7b75038c-54d4-43c8-c105-713a41ae13b5"
      },
      "execution_count": 79,
      "outputs": [
        {
          "output_type": "stream",
          "name": "stdout",
          "text": [
            "+------+--------+---+-----------+\n",
            "|nombre|num_dpto| id|nombre_dpto|\n",
            "+------+--------+---+-----------+\n",
            "|  Luis|      33| 31|     letras|\n",
            "|  Luis|      33| 33|    derecho|\n",
            "|  Luis|      33| 34| matemática|\n",
            "|  Luis|      33| 35|informática|\n",
            "| Katia|      33| 31|     letras|\n",
            "| Katia|      33| 33|    derecho|\n",
            "| Katia|      33| 34| matemática|\n",
            "| Katia|      33| 35|informática|\n",
            "|  Raul|      34| 31|     letras|\n",
            "|  Raul|      34| 33|    derecho|\n",
            "|  Raul|      34| 34| matemática|\n",
            "|  Raul|      34| 35|informática|\n",
            "| Pedro|       0| 31|     letras|\n",
            "| Pedro|       0| 33|    derecho|\n",
            "| Pedro|       0| 34| matemática|\n",
            "| Pedro|       0| 35|informática|\n",
            "| Laura|      34| 31|     letras|\n",
            "| Laura|      34| 33|    derecho|\n",
            "| Laura|      34| 34| matemática|\n",
            "| Laura|      34| 35|informática|\n",
            "+------+--------+---+-----------+\n",
            "only showing top 20 rows\n",
            "\n"
          ]
        }
      ]
    },
    {
      "cell_type": "code",
      "source": [
        "df.count()"
      ],
      "metadata": {
        "colab": {
          "base_uri": "https://localhost:8080/"
        },
        "id": "TdI_D9rk3ucw",
        "outputId": "f897bd3c-22b4-4290-c1fd-19cc4f620377"
      },
      "execution_count": 81,
      "outputs": [
        {
          "output_type": "execute_result",
          "data": {
            "text/plain": [
              "24"
            ]
          },
          "metadata": {},
          "execution_count": 81
        }
      ]
    },
    {
      "cell_type": "markdown",
      "source": [
        "##MANEJO DE NOMBRES DE COLUMNAS DUPLICADOS"
      ],
      "metadata": {
        "id": "QTjvf5nb4NGn"
      }
    },
    {
      "cell_type": "code",
      "source": [
        "from pyspark.sql.functions import col"
      ],
      "metadata": {
        "id": "mtN_SklB4RL8"
      },
      "execution_count": 82,
      "outputs": []
    },
    {
      "cell_type": "code",
      "source": [
        "depa = departamentos.withColumn('num_dpto', col('id'))"
      ],
      "metadata": {
        "id": "qESRnero4gbA"
      },
      "execution_count": 83,
      "outputs": []
    },
    {
      "cell_type": "code",
      "source": [
        "depa.printSchema()\n",
        "empleados.printSchema()"
      ],
      "metadata": {
        "colab": {
          "base_uri": "https://localhost:8080/"
        },
        "id": "yfEyUSfC4rmn",
        "outputId": "114a0975-4841-4c51-e993-2749aa2e0401"
      },
      "execution_count": 85,
      "outputs": [
        {
          "output_type": "stream",
          "name": "stdout",
          "text": [
            "root\n",
            " |-- id: long (nullable = true)\n",
            " |-- nombre_dpto: string (nullable = true)\n",
            " |-- num_dpto: long (nullable = true)\n",
            "\n",
            "root\n",
            " |-- nombre: string (nullable = true)\n",
            " |-- num_dpto: long (nullable = true)\n",
            "\n"
          ]
        }
      ]
    },
    {
      "cell_type": "code",
      "source": [
        "empleados.join(depa, empleados['num_dpto'] == depa['num_dpto']).show()"
      ],
      "metadata": {
        "colab": {
          "base_uri": "https://localhost:8080/"
        },
        "id": "G9UJblJF4wPY",
        "outputId": "7270bcc8-bd02-44d3-c34e-9b04f5cb96c6"
      },
      "execution_count": 87,
      "outputs": [
        {
          "output_type": "stream",
          "name": "stdout",
          "text": [
            "+------+--------+---+-----------+--------+\n",
            "|nombre|num_dpto| id|nombre_dpto|num_dpto|\n",
            "+------+--------+---+-----------+--------+\n",
            "|Sandro|      31| 31|     letras|      31|\n",
            "| Katia|      33| 33|    derecho|      33|\n",
            "|  Luis|      33| 33|    derecho|      33|\n",
            "| Laura|      34| 34| matemática|      34|\n",
            "|  Raul|      34| 34| matemática|      34|\n",
            "+------+--------+---+-----------+--------+\n",
            "\n"
          ]
        }
      ]
    },
    {
      "cell_type": "code",
      "source": [
        "df_con_duplicados = empleados.join(depa, empleados['num_dpto'] == depa['num_dpto'])"
      ],
      "metadata": {
        "id": "JvGcsG0Z5HsO"
      },
      "execution_count": 88,
      "outputs": []
    },
    {
      "cell_type": "code",
      "source": [
        "df_con_duplicados.printSchema()"
      ],
      "metadata": {
        "colab": {
          "base_uri": "https://localhost:8080/"
        },
        "id": "gENGp6My52vP",
        "outputId": "9928fc6a-df77-41dc-aca6-3adf3df2650f"
      },
      "execution_count": 89,
      "outputs": [
        {
          "output_type": "stream",
          "name": "stdout",
          "text": [
            "root\n",
            " |-- nombre: string (nullable = true)\n",
            " |-- num_dpto: long (nullable = true)\n",
            " |-- id: long (nullable = true)\n",
            " |-- nombre_dpto: string (nullable = true)\n",
            " |-- num_dpto: long (nullable = true)\n",
            "\n"
          ]
        }
      ]
    },
    {
      "cell_type": "code",
      "source": [
        "df_con_duplicados.select(empleados['num_dpto']).show()"
      ],
      "metadata": {
        "colab": {
          "base_uri": "https://localhost:8080/"
        },
        "id": "EgYspOXx57GM",
        "outputId": "097ed0e9-fa9f-4a16-8ea6-1b58f3b7f923"
      },
      "execution_count": 91,
      "outputs": [
        {
          "output_type": "stream",
          "name": "stdout",
          "text": [
            "+--------+\n",
            "|num_dpto|\n",
            "+--------+\n",
            "|      33|\n",
            "|      33|\n",
            "|      34|\n",
            "|      34|\n",
            "|      31|\n",
            "+--------+\n",
            "\n"
          ]
        }
      ]
    },
    {
      "cell_type": "code",
      "source": [
        "#usando columna de unión:\n",
        "df2 = empleados.join(depa,'num_dpto')"
      ],
      "metadata": {
        "id": "IYA1H7rb6G7Q"
      },
      "execution_count": 92,
      "outputs": []
    },
    {
      "cell_type": "code",
      "source": [
        "df2.printSchema()"
      ],
      "metadata": {
        "colab": {
          "base_uri": "https://localhost:8080/"
        },
        "id": "ImQBvlCh6q-Y",
        "outputId": "962d7f36-b394-4c97-c1f3-84df3e432c4a"
      },
      "execution_count": 93,
      "outputs": [
        {
          "output_type": "stream",
          "name": "stdout",
          "text": [
            "root\n",
            " |-- num_dpto: long (nullable = true)\n",
            " |-- nombre: string (nullable = true)\n",
            " |-- id: long (nullable = true)\n",
            " |-- nombre_dpto: string (nullable = true)\n",
            "\n"
          ]
        }
      ]
    },
    {
      "cell_type": "code",
      "source": [
        "empleados.join(depa, ['num_dpto']).show()\n"
      ],
      "metadata": {
        "colab": {
          "base_uri": "https://localhost:8080/"
        },
        "id": "C-zyAcSz6uGa",
        "outputId": "8b05fcb9-cc4f-4965-e175-9aefe6ce4fd6"
      },
      "execution_count": 94,
      "outputs": [
        {
          "output_type": "stream",
          "name": "stdout",
          "text": [
            "+--------+------+---+-----------+\n",
            "|num_dpto|nombre| id|nombre_dpto|\n",
            "+--------+------+---+-----------+\n",
            "|      31|Sandro| 31|     letras|\n",
            "|      33| Katia| 33|    derecho|\n",
            "|      33|  Luis| 33|    derecho|\n",
            "|      34| Laura| 34| matemática|\n",
            "|      34|  Raul| 34| matemática|\n",
            "+--------+------+---+-----------+\n",
            "\n"
          ]
        }
      ]
    },
    {
      "cell_type": "code",
      "source": [
        "empleados.join(depa, ['num_dpto']).printSchema()"
      ],
      "metadata": {
        "colab": {
          "base_uri": "https://localhost:8080/"
        },
        "id": "gy5qHCWH-H_h",
        "outputId": "dd5d1565-313e-43f9-b3e2-0348e126cd8f"
      },
      "execution_count": 95,
      "outputs": [
        {
          "output_type": "stream",
          "name": "stdout",
          "text": [
            "root\n",
            " |-- num_dpto: long (nullable = true)\n",
            " |-- nombre: string (nullable = true)\n",
            " |-- id: long (nullable = true)\n",
            " |-- nombre_dpto: string (nullable = true)\n",
            "\n"
          ]
        }
      ]
    },
    {
      "cell_type": "markdown",
      "source": [
        "#SHUFFLE HASH JOIN Y BROADCAST HASH JOIN"
      ],
      "metadata": {
        "id": "5L8NQabs-kLf"
      }
    },
    {
      "cell_type": "code",
      "source": [
        "from pyspark.sql.functions import col, broadcast"
      ],
      "metadata": {
        "id": "64lqLIXo-rpa"
      },
      "execution_count": 96,
      "outputs": []
    },
    {
      "cell_type": "code",
      "source": [
        "empleados.join(broadcast(departamentos), col('num_dpto') == col('id')).show()"
      ],
      "metadata": {
        "colab": {
          "base_uri": "https://localhost:8080/"
        },
        "id": "S_SI0NR0_lV1",
        "outputId": "0662a928-09e9-4619-d554-212528713d3c"
      },
      "execution_count": 97,
      "outputs": [
        {
          "output_type": "stream",
          "name": "stdout",
          "text": [
            "+------+--------+---+-----------+\n",
            "|nombre|num_dpto| id|nombre_dpto|\n",
            "+------+--------+---+-----------+\n",
            "|  Luis|      33| 33|    derecho|\n",
            "| Katia|      33| 33|    derecho|\n",
            "|  Raul|      34| 34| matemática|\n",
            "| Laura|      34| 34| matemática|\n",
            "|Sandro|      31| 31|     letras|\n",
            "+------+--------+---+-----------+\n",
            "\n"
          ]
        }
      ]
    },
    {
      "cell_type": "code",
      "source": [
        "#como sabemos si realmenete se hizo el broadcast?\n",
        "empleados.join(broadcast(departamentos), col('num_dpto') == col('id')).explain()"
      ],
      "metadata": {
        "colab": {
          "base_uri": "https://localhost:8080/"
        },
        "id": "3V5E9b2TABKH",
        "outputId": "41465f00-88a7-439c-a70b-a550d1240d34"
      },
      "execution_count": 98,
      "outputs": [
        {
          "output_type": "stream",
          "name": "stdout",
          "text": [
            "== Physical Plan ==\n",
            "AdaptiveSparkPlan isFinalPlan=false\n",
            "+- BroadcastHashJoin [num_dpto#4903L], [id#4906L], Inner, BuildRight, false\n",
            "   :- Filter isnotnull(num_dpto#4903L)\n",
            "   :  +- FileScan parquet [nombre#4902,num_dpto#4903L] Batched: true, DataFilters: [isnotnull(num_dpto#4903L)], Format: Parquet, Location: InMemoryFileIndex(1 paths)[file:/content/data04/empleados/empleados.parquet], PartitionFilters: [], PushedFilters: [IsNotNull(num_dpto)], ReadSchema: struct<nombre:string,num_dpto:bigint>\n",
            "   +- BroadcastExchange HashedRelationBroadcastMode(List(input[0, bigint, false]),false), [plan_id=3586]\n",
            "      +- Filter isnotnull(id#4906L)\n",
            "         +- FileScan parquet [id#4906L,nombre_dpto#4907] Batched: true, DataFilters: [isnotnull(id#4906L)], Format: Parquet, Location: InMemoryFileIndex(1 paths)[file:/content/data04/departamentos/departamentos.parquet], PartitionFilters: [], PushedFilters: [IsNotNull(id)], ReadSchema: struct<id:bigint,nombre_dpto:string>\n",
            "\n",
            "\n"
          ]
        }
      ]
    }
  ]
}