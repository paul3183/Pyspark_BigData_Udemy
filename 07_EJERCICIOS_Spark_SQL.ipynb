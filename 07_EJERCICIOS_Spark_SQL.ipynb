{
  "nbformat": 4,
  "nbformat_minor": 0,
  "metadata": {
    "colab": {
      "provenance": [],
      "authorship_tag": "ABX9TyPFoslZVUJIEETHPa1UgR8e",
      "include_colab_link": true
    },
    "kernelspec": {
      "name": "python3",
      "display_name": "Python 3"
    },
    "language_info": {
      "name": "python"
    }
  },
  "cells": [
    {
      "cell_type": "markdown",
      "metadata": {
        "id": "view-in-github",
        "colab_type": "text"
      },
      "source": [
        "<a href=\"https://colab.research.google.com/github/paul3183/Pyspark_BigData_Udemy/blob/main/07_EJERCICIOS_Spark_SQL.ipynb\" target=\"_parent\"><img src=\"https://colab.research.google.com/assets/colab-badge.svg\" alt=\"Open In Colab\"/></a>"
      ]
    },
    {
      "cell_type": "code",
      "execution_count": 1,
      "metadata": {
        "colab": {
          "base_uri": "https://localhost:8080/",
          "height": 271
        },
        "id": "nHwU-6QvL5FF",
        "outputId": "a22d2c22-54cb-4ff1-c7e7-c62973beea24"
      },
      "outputs": [
        {
          "output_type": "stream",
          "name": "stdout",
          "text": [
            "\u001b[2K     \u001b[90m━━━━━━━━━━━━━━━━━━━━━━━━━━━━━━━━━━━━━━━━\u001b[0m \u001b[32m317.0/317.0 MB\u001b[0m \u001b[31m4.3 MB/s\u001b[0m eta \u001b[36m0:00:00\u001b[0m\n",
            "\u001b[?25h  Preparing metadata (setup.py) ... \u001b[?25l\u001b[?25hdone\n",
            "  Building wheel for pyspark (setup.py) ... \u001b[?25l\u001b[?25hdone\n"
          ]
        },
        {
          "output_type": "execute_result",
          "data": {
            "text/plain": [
              "<pyspark.sql.session.SparkSession at 0x7cefc031e9b0>"
            ],
            "text/html": [
              "\n",
              "            <div>\n",
              "                <p><b>SparkSession - in-memory</b></p>\n",
              "                \n",
              "        <div>\n",
              "            <p><b>SparkContext</b></p>\n",
              "\n",
              "            <p><a href=\"http://da7c11135947:4040\">Spark UI</a></p>\n",
              "\n",
              "            <dl>\n",
              "              <dt>Version</dt>\n",
              "                <dd><code>v3.4.3</code></dd>\n",
              "              <dt>Master</dt>\n",
              "                <dd><code>local[*]</code></dd>\n",
              "              <dt>AppName</dt>\n",
              "                <dd><code>pyspark-shell</code></dd>\n",
              "            </dl>\n",
              "        </div>\n",
              "        \n",
              "            </div>\n",
              "        "
            ]
          },
          "metadata": {},
          "execution_count": 1
        }
      ],
      "source": [
        "# Instalar SDK Java 8\n",
        "\n",
        "!apt-get install openjdk-8-jdk-headless -qq > /dev/null\n",
        "\n",
        "# Descargar Spark 3.4.3\n",
        "\n",
        "!wget -q https://archive.apache.org/dist/spark/spark-3.4.3/spark-3.4.3-bin-hadoop3.tgz\n",
        "\n",
        "# Descomprimir el archivo descargado de Spark\n",
        "\n",
        "!tar xf spark-3.4.3-bin-hadoop3.tgz\n",
        "\n",
        "# Establecer las variables de entorno\n",
        "\n",
        "import os\n",
        "\n",
        "os.environ[\"JAVA_HOME\"] = \"/usr/lib/jvm/java-8-openjdk-amd64\"\n",
        "os.environ[\"SPARK_HOME\"] = \"/content/spark-3.4.3-bin-hadoop3\"\n",
        "\n",
        "# Instalar la librería findspark\n",
        "\n",
        "!pip install -q findspark\n",
        "\n",
        "# Instalar pyspark\n",
        "\n",
        "!pip install -q pyspark\n",
        "\n",
        "# verificar la instalación ###\n",
        "\n",
        "import findspark\n",
        "\n",
        "findspark.init()\n",
        "\n",
        "from pyspark.sql import SparkSession\n",
        "\n",
        "spark = SparkSession.builder.master(\"local[*]\").getOrCreate()\n",
        "\n",
        "spark"
      ]
    },
    {
      "cell_type": "code",
      "source": [
        "# Los datos adjuntos a esta lección forman parte de la base de datos [NeurIPS\n",
        "# 2020] Data Science for COVID-19 (DS4C) disponible en Kaggle. Estos datos hacen\n",
        "# referencia a los casos de contagio de covid-19 en Corea del Sur. %%"
      ],
      "metadata": {
        "id": "DWLdChu5dZ2g"
      },
      "execution_count": 2,
      "outputs": []
    },
    {
      "cell_type": "code",
      "source": [
        "# El archivo csv Case contiene los casos reportados y el archivo csv PatientInfo\n",
        "# contiene la información de los pacientes."
      ],
      "metadata": {
        "id": "m_B2GXSadVCE"
      },
      "execution_count": 3,
      "outputs": []
    },
    {
      "cell_type": "code",
      "source": [
        "# 1.- A partir del archivo csv Case, determine las tres ciudades con más casos confirmados de la enfermedad. La salida debe contener tres columnas: provincia, ciudad y casos confirmados. El resultado debe contener exactamente los tres nombre de ciudades con más casos confirmados ya que no se admiten otros valores.\n",
        "casos = spark.read.option('header', 'true').option('inferSchema', 'true').csv('/content/data/Case.csv')\n",
        "casos.printSchema()"
      ],
      "metadata": {
        "colab": {
          "base_uri": "https://localhost:8080/"
        },
        "id": "icTzppn3fWl0",
        "outputId": "a0a20f38-5dae-4999-ebb4-5231a11d19b8"
      },
      "execution_count": 4,
      "outputs": [
        {
          "output_type": "stream",
          "name": "stdout",
          "text": [
            "root\n",
            " |--  case_id: integer (nullable = true)\n",
            " |-- province: string (nullable = true)\n",
            " |-- city: string (nullable = true)\n",
            " |-- group: boolean (nullable = true)\n",
            " |-- infection_case: string (nullable = true)\n",
            " |-- confirmed: integer (nullable = true)\n",
            " |-- latitude: string (nullable = true)\n",
            " |-- longitude: string (nullable = true)\n",
            "\n"
          ]
        }
      ]
    },
    {
      "cell_type": "code",
      "source": [
        "casos = casos.withColumnRenamed(' case_id', 'case_id')"
      ],
      "metadata": {
        "id": "a1jv3HLoiRgE"
      },
      "execution_count": 5,
      "outputs": []
    },
    {
      "cell_type": "code",
      "source": [
        "casos.printSchema()"
      ],
      "metadata": {
        "colab": {
          "base_uri": "https://localhost:8080/"
        },
        "id": "j-AifQRMiy6H",
        "outputId": "096ce90c-335b-4199-8411-aec350ccc7cc"
      },
      "execution_count": 6,
      "outputs": [
        {
          "output_type": "stream",
          "name": "stdout",
          "text": [
            "root\n",
            " |-- case_id: integer (nullable = true)\n",
            " |-- province: string (nullable = true)\n",
            " |-- city: string (nullable = true)\n",
            " |-- group: boolean (nullable = true)\n",
            " |-- infection_case: string (nullable = true)\n",
            " |-- confirmed: integer (nullable = true)\n",
            " |-- latitude: string (nullable = true)\n",
            " |-- longitude: string (nullable = true)\n",
            "\n"
          ]
        }
      ]
    },
    {
      "cell_type": "code",
      "source": [
        "casos.show()"
      ],
      "metadata": {
        "colab": {
          "base_uri": "https://localhost:8080/"
        },
        "id": "2ZbjfKnvi3n8",
        "outputId": "244c0b94-496a-4fb9-d114-ba568455db23"
      },
      "execution_count": 7,
      "outputs": [
        {
          "output_type": "stream",
          "name": "stdout",
          "text": [
            "+-------+--------+---------------+-----+--------------------+---------+---------+----------+\n",
            "|case_id|province|           city|group|      infection_case|confirmed| latitude| longitude|\n",
            "+-------+--------+---------------+-----+--------------------+---------+---------+----------+\n",
            "|1000001|   Seoul|     Yongsan-gu| true|       Itaewon Clubs|      139|37.538621|126.992652|\n",
            "|1000002|   Seoul|      Gwanak-gu| true|             Richway|      119| 37.48208|126.901384|\n",
            "|1000003|   Seoul|        Guro-gu| true| Guro-gu Call Center|       95|37.508163|126.884387|\n",
            "|1000004|   Seoul|   Yangcheon-gu| true|Yangcheon Table T...|       43|37.546061|126.874209|\n",
            "|1000005|   Seoul|      Dobong-gu| true|     Day Care Center|       43|37.679422|127.044374|\n",
            "|1000006|   Seoul|        Guro-gu| true|Manmin Central Ch...|       41|37.481059|126.894343|\n",
            "|1000007|   Seoul|from other city| true|SMR Newly Planted...|       36|        -|         -|\n",
            "|1000008|   Seoul|  Dongdaemun-gu| true|       Dongan Church|       17|37.592888|127.056766|\n",
            "|1000009|   Seoul|from other city| true|Coupang Logistics...|       25|        -|         -|\n",
            "|1000010|   Seoul|      Gwanak-gu| true|     Wangsung Church|       30|37.481735|126.930121|\n",
            "|1000011|   Seoul|   Eunpyeong-gu| true|Eunpyeong St. Mar...|       14| 37.63369|  126.9165|\n",
            "|1000012|   Seoul|   Seongdong-gu| true|    Seongdong-gu APT|       13| 37.55713|  127.0403|\n",
            "|1000013|   Seoul|      Jongno-gu| true|Jongno Community ...|       10| 37.57681|   127.006|\n",
            "|1000014|   Seoul|     Gangnam-gu| true|Samsung Medical C...|        7| 37.48825| 127.08559|\n",
            "|1000015|   Seoul|        Jung-gu| true|Jung-gu Fashion C...|        7|37.562405|126.984377|\n",
            "|1000016|   Seoul|   Seodaemun-gu| true|  Yeonana News Class|        5|37.558147|126.943799|\n",
            "|1000017|   Seoul|      Jongno-gu| true|Korea Campus Crus...|        7|37.594782|126.968022|\n",
            "|1000018|   Seoul|     Gangnam-gu| true|Gangnam Yeoksam-d...|        6|        -|         -|\n",
            "|1000019|   Seoul|from other city| true|Daejeon door-to-d...|        1|        -|         -|\n",
            "|1000020|   Seoul|   Geumcheon-gu| true|Geumcheon-gu rice...|        6|        -|         -|\n",
            "+-------+--------+---------------+-----+--------------------+---------+---------+----------+\n",
            "only showing top 20 rows\n",
            "\n"
          ]
        }
      ]
    },
    {
      "cell_type": "code",
      "source": [
        "from pyspark.sql.functions import col, desc"
      ],
      "metadata": {
        "id": "yUUE77BPjImJ"
      },
      "execution_count": 8,
      "outputs": []
    },
    {
      "cell_type": "code",
      "source": [
        "casos.orderBy(desc('confirmed')).show()"
      ],
      "metadata": {
        "colab": {
          "base_uri": "https://localhost:8080/"
        },
        "id": "olXfiIhEjQgT",
        "outputId": "7bac2192-f1a0-4abc-9e49-fb3663e08c99"
      },
      "execution_count": 9,
      "outputs": [
        {
          "output_type": "stream",
          "name": "stdout",
          "text": [
            "+-------+-----------------+---------------+-----+--------------------+---------+---------+----------+\n",
            "|case_id|         province|           city|group|      infection_case|confirmed| latitude| longitude|\n",
            "+-------+-----------------+---------------+-----+--------------------+---------+---------+----------+\n",
            "|1200001|            Daegu|         Nam-gu| true|  Shincheonji Church|     4511| 35.84008|  128.5667|\n",
            "|1200009|            Daegu|              -|false|contact with patient|      917|        -|         -|\n",
            "|1200010|            Daegu|              -|false|                 etc|      747|        -|         -|\n",
            "|6000001| Gyeongsangbuk-do|from other city| true|  Shincheonji Church|      566|        -|         -|\n",
            "|2000020|      Gyeonggi-do|              -|false|     overseas inflow|      305|        -|         -|\n",
            "|1000036|            Seoul|              -|false|     overseas inflow|      298|        -|         -|\n",
            "|1200002|            Daegu|   Dalseong-gun| true|Second Mi-Ju Hosp...|      196|35.857375|128.466651|\n",
            "|6000012| Gyeongsangbuk-do|              -|false|contact with patient|      190|        -|         -|\n",
            "|1000037|            Seoul|              -|false|contact with patient|      162|        -|         -|\n",
            "|1000001|            Seoul|     Yongsan-gu| true|       Itaewon Clubs|      139|37.538621|126.992652|\n",
            "|6000013| Gyeongsangbuk-do|              -|false|                 etc|      133|        -|         -|\n",
            "|1200003|            Daegu|         Seo-gu| true|Hansarang Convale...|      124|35.885592|128.556649|\n",
            "|1000002|            Seoul|      Gwanak-gu| true|             Richway|      119| 37.48208|126.901384|\n",
            "|6000002| Gyeongsangbuk-do|   Cheongdo-gun| true|Cheongdo Daenam H...|      119| 35.64887|  128.7368|\n",
            "|4100001|Chungcheongnam-do|     Cheonan-si| true|gym facility in C...|      103| 36.81503|  127.1139|\n",
            "|1200004|            Daegu|   Dalseong-gun| true|Daesil Convalesce...|      101|35.857393|128.466653|\n",
            "|1000038|            Seoul|              -|false|                 etc|      100|        -|         -|\n",
            "|1000003|            Seoul|        Guro-gu| true| Guro-gu Call Center|       95|37.508163|126.884387|\n",
            "|2000022|      Gyeonggi-do|              -|false|                 etc|       84|        -|         -|\n",
            "|1400005|          Incheon|              -|false|     overseas inflow|       68|        -|         -|\n",
            "+-------+-----------------+---------------+-----+--------------------+---------+---------+----------+\n",
            "only showing top 20 rows\n",
            "\n"
          ]
        }
      ]
    },
    {
      "cell_type": "code",
      "source": [
        "casos.filter((col('city') != '-') & (col('city') != 'from other city')).orderBy(desc('confirmed')).select('province', 'city', 'confirmed').show()"
      ],
      "metadata": {
        "colab": {
          "base_uri": "https://localhost:8080/"
        },
        "id": "WRJxAHjGjdfq",
        "outputId": "b87c4a58-2522-499c-9072-ac71cfcbe982"
      },
      "execution_count": 10,
      "outputs": [
        {
          "output_type": "stream",
          "name": "stdout",
          "text": [
            "+-----------------+------------+---------+\n",
            "|         province|        city|confirmed|\n",
            "+-----------------+------------+---------+\n",
            "|            Daegu|      Nam-gu|     4511|\n",
            "|            Daegu|Dalseong-gun|      196|\n",
            "|            Seoul|  Yongsan-gu|      139|\n",
            "|            Daegu|      Seo-gu|      124|\n",
            "|            Seoul|   Gwanak-gu|      119|\n",
            "| Gyeongsangbuk-do|Cheongdo-gun|      119|\n",
            "|Chungcheongnam-do|  Cheonan-si|      103|\n",
            "|            Daegu|Dalseong-gun|      101|\n",
            "|            Seoul|     Guro-gu|       95|\n",
            "| Gyeongsangbuk-do| Bonghwa-gun|       68|\n",
            "|      Gyeonggi-do| Seongnam-si|       67|\n",
            "|      Gyeonggi-do|  Bucheon-si|       67|\n",
            "| Gyeongsangbuk-do|Gyeongsan-si|       66|\n",
            "|      Gyeonggi-do|Uijeongbu-si|       50|\n",
            "|            Seoul|Yangcheon-gu|       43|\n",
            "|            Seoul|   Dobong-gu|       43|\n",
            "|            Seoul|     Guro-gu|       41|\n",
            "| Gyeongsangbuk-do|  Yechun-gun|       40|\n",
            "|            Busan|  Dongnae-gu|       39|\n",
            "|            Daegu|     Dong-gu|       39|\n",
            "+-----------------+------------+---------+\n",
            "only showing top 20 rows\n",
            "\n"
          ]
        }
      ]
    },
    {
      "cell_type": "code",
      "source": [
        "# 2.- Cree un dataframe a partir del archivo csv PatientInfo. Asegúrese de que\n",
        "# su dataframe no contenga pacientes duplicados.\n",
        "pacientes_info = spark.read.option('header', 'true').option('inferSchema', 'true').csv('/content/data/PatientInfo.csv')"
      ],
      "metadata": {
        "id": "iu2VBCcSen94"
      },
      "execution_count": 11,
      "outputs": []
    },
    {
      "cell_type": "code",
      "source": [
        "pacientes_info.printSchema()"
      ],
      "metadata": {
        "colab": {
          "base_uri": "https://localhost:8080/"
        },
        "id": "QRpfks6xn4H1",
        "outputId": "8e0e685a-3e98-40b3-d784-ce5bb409cb82"
      },
      "execution_count": 12,
      "outputs": [
        {
          "output_type": "stream",
          "name": "stdout",
          "text": [
            "root\n",
            " |-- patient_id: long (nullable = true)\n",
            " |-- sex: string (nullable = true)\n",
            " |-- age: string (nullable = true)\n",
            " |-- country: string (nullable = true)\n",
            " |-- province: string (nullable = true)\n",
            " |-- city: string (nullable = true)\n",
            " |-- infection_case: string (nullable = true)\n",
            " |-- infected_by: string (nullable = true)\n",
            " |-- contact_number: string (nullable = true)\n",
            " |-- symptom_onset_date: string (nullable = true)\n",
            " |-- confirmed_date: date (nullable = true)\n",
            " |-- released_date: date (nullable = true)\n",
            " |-- deceased_date: date (nullable = true)\n",
            " |-- state: string (nullable = true)\n",
            "\n"
          ]
        }
      ]
    },
    {
      "cell_type": "code",
      "source": [
        "pacientes_info.show()"
      ],
      "metadata": {
        "colab": {
          "base_uri": "https://localhost:8080/"
        },
        "id": "im_s3QxAoC3g",
        "outputId": "2de911ec-8102-41f6-db83-f97fb62f00db"
      },
      "execution_count": 13,
      "outputs": [
        {
          "output_type": "stream",
          "name": "stdout",
          "text": [
            "+----------+------+---+-------+--------+------------+--------------------+-----------+--------------+------------------+--------------+-------------+-------------+--------+\n",
            "|patient_id|   sex|age|country|province|        city|      infection_case|infected_by|contact_number|symptom_onset_date|confirmed_date|released_date|deceased_date|   state|\n",
            "+----------+------+---+-------+--------+------------+--------------------+-----------+--------------+------------------+--------------+-------------+-------------+--------+\n",
            "|1000000001|  male|50s|  Korea|   Seoul|  Gangseo-gu|     overseas inflow|       null|            75|        2020-01-22|    2020-01-23|   2020-02-05|         null|released|\n",
            "|1000000002|  male|30s|  Korea|   Seoul| Jungnang-gu|     overseas inflow|       null|            31|              null|    2020-01-30|   2020-03-02|         null|released|\n",
            "|1000000003|  male|50s|  Korea|   Seoul|   Jongno-gu|contact with patient| 2002000001|            17|              null|    2020-01-30|   2020-02-19|         null|released|\n",
            "|1000000004|  male|20s|  Korea|   Seoul|     Mapo-gu|     overseas inflow|       null|             9|        2020-01-26|    2020-01-30|   2020-02-15|         null|released|\n",
            "|1000000005|female|20s|  Korea|   Seoul| Seongbuk-gu|contact with patient| 1000000002|             2|              null|    2020-01-31|   2020-02-24|         null|released|\n",
            "|1000000006|female|50s|  Korea|   Seoul|   Jongno-gu|contact with patient| 1000000003|            43|              null|    2020-01-31|   2020-02-19|         null|released|\n",
            "|1000000007|  male|20s|  Korea|   Seoul|   Jongno-gu|contact with patient| 1000000003|             0|              null|    2020-01-31|   2020-02-10|         null|released|\n",
            "|1000000008|  male|20s|  Korea|   Seoul|         etc|     overseas inflow|       null|             0|              null|    2020-02-02|   2020-02-24|         null|released|\n",
            "|1000000009|  male|30s|  Korea|   Seoul|   Songpa-gu|     overseas inflow|       null|            68|              null|    2020-02-05|   2020-02-21|         null|released|\n",
            "|1000000010|female|60s|  Korea|   Seoul| Seongbuk-gu|contact with patient| 1000000003|             6|              null|    2020-02-05|   2020-02-29|         null|released|\n",
            "|1000000011|female|50s|  China|   Seoul|Seodaemun-gu|     overseas inflow|       null|            23|              null|    2020-02-06|   2020-02-29|         null|released|\n",
            "|1000000012|  male|20s|  Korea|   Seoul|         etc|     overseas inflow|       null|             0|              null|    2020-02-07|   2020-02-27|         null|released|\n",
            "|1000000013|  male|80s|  Korea|   Seoul|   Jongno-gu|contact with patient| 1000000017|           117|              null|    2020-02-16|         null|         null|deceased|\n",
            "|1000000014|female|60s|  Korea|   Seoul|   Jongno-gu|contact with patient| 1000000013|            27|        2020-02-06|    2020-02-16|   2020-03-12|         null|released|\n",
            "|1000000015|  male|70s|  Korea|   Seoul|Seongdong-gu|    Seongdong-gu APT|       null|             8|        2020-02-11|    2020-02-19|         null|         null|released|\n",
            "|1000000016|  male|70s|  Korea|   Seoul|   Jongno-gu|contact with patient| 1000000017|          null|              null|    2020-02-19|   2020-03-11|         null|released|\n",
            "|1000000017|  male|70s|  Korea|   Seoul|   Jongno-gu|contact with patient| 1000000003|          null|              null|    2020-02-20|   2020-03-01|         null|released|\n",
            "|1000000018|  male|20s|  Korea|   Seoul|         etc|                 etc|       null|          null|              null|    2020-02-20|         null|         null|released|\n",
            "|1000000019|female|70s|  Korea|   Seoul|   Jongno-gu|contact with patient| 1000000021|          null|              null|    2020-02-20|   2020-03-08|         null|released|\n",
            "|1000000020|female|70s|  Korea|   Seoul|Seongdong-gu|    Seongdong-gu APT| 1000000015|          null|              null|    2020-02-20|         null|         null|released|\n",
            "+----------+------+---+-------+--------+------------+--------------------+-----------+--------------+------------------+--------------+-------------+-------------+--------+\n",
            "only showing top 20 rows\n",
            "\n"
          ]
        }
      ]
    },
    {
      "cell_type": "code",
      "source": [
        "pacientes_info.select(col('patient_id')).count()"
      ],
      "metadata": {
        "colab": {
          "base_uri": "https://localhost:8080/"
        },
        "id": "Z1Fi5Ia7oJLa",
        "outputId": "b571089c-7e3b-4061-ec18-9d7999c9d400"
      },
      "execution_count": 14,
      "outputs": [
        {
          "output_type": "execute_result",
          "data": {
            "text/plain": [
              "5165"
            ]
          },
          "metadata": {},
          "execution_count": 14
        }
      ]
    },
    {
      "cell_type": "code",
      "source": [
        "pacientes_info.select(col('patient_id')).distinct().count()"
      ],
      "metadata": {
        "colab": {
          "base_uri": "https://localhost:8080/"
        },
        "id": "p9J2_9NWoths",
        "outputId": "6655e142-9931-453b-b2ed-d873007ca31f"
      },
      "execution_count": 15,
      "outputs": [
        {
          "output_type": "execute_result",
          "data": {
            "text/plain": [
              "5164"
            ]
          },
          "metadata": {},
          "execution_count": 15
        }
      ]
    },
    {
      "cell_type": "code",
      "source": [
        "#eliminamos el paciente duplicado:\n",
        "pacientes_info = pacientes_info.dropDuplicates(['patient_id'])"
      ],
      "metadata": {
        "id": "tqbDmuQcAMKw"
      },
      "execution_count": 17,
      "outputs": []
    },
    {
      "cell_type": "code",
      "source": [
        "# a.- ¿Cuántos pacientes tienen informado por quién se contagiaron(columna\n",
        "# infected_by)? Obtenga solo los pacientes que tengan informado por quién se\n",
        "# contagiaron.\n",
        "from pyspark.sql.functions import count"
      ],
      "metadata": {
        "id": "uxJnzVHVe2YJ"
      },
      "execution_count": 18,
      "outputs": []
    },
    {
      "cell_type": "code",
      "source": [
        "pacientes_info.select(count('infected_by').alias('conteo')).show()"
      ],
      "metadata": {
        "colab": {
          "base_uri": "https://localhost:8080/"
        },
        "id": "BWqF3knfA70P",
        "outputId": "ca5b4de5-1973-4026-8ae2-8b63b0aa7b86"
      },
      "execution_count": 20,
      "outputs": [
        {
          "output_type": "stream",
          "name": "stdout",
          "text": [
            "+------+\n",
            "|conteo|\n",
            "+------+\n",
            "|  1346|\n",
            "+------+\n",
            "\n"
          ]
        }
      ]
    },
    {
      "cell_type": "code",
      "source": [
        "#borraremos los nulos:\n",
        "pacientes_info_contagios = pacientes_info.na.drop(subset = ['infected_by'])"
      ],
      "metadata": {
        "id": "Hq7klHqaBTMs"
      },
      "execution_count": 21,
      "outputs": []
    },
    {
      "cell_type": "code",
      "source": [
        "pacientes_info_contagios.count()"
      ],
      "metadata": {
        "colab": {
          "base_uri": "https://localhost:8080/"
        },
        "id": "1lcQa5kbI1KW",
        "outputId": "9f165b4e-0944-4f81-da39-3998cb04f78f"
      },
      "execution_count": 22,
      "outputs": [
        {
          "output_type": "execute_result",
          "data": {
            "text/plain": [
              "1346"
            ]
          },
          "metadata": {},
          "execution_count": 22
        }
      ]
    },
    {
      "cell_type": "code",
      "source": [
        "# b.- A partir de la salida del inciso anterior obtenga solo los pacientes\n",
        "# femeninos. La salida no debe contener las columnas released_date y\n",
        "# deceased_date.\n",
        "pacientes_info_contagios.show()"
      ],
      "metadata": {
        "id": "xCSNxm9ne8qA",
        "colab": {
          "base_uri": "https://localhost:8080/"
        },
        "outputId": "9843dfa2-d706-4f5c-adc8-662390a8fe30"
      },
      "execution_count": 23,
      "outputs": [
        {
          "output_type": "stream",
          "name": "stdout",
          "text": [
            "+----------+------+---+-------+--------+------------+--------------------+-----------+--------------+------------------+--------------+-------------+-------------+--------+\n",
            "|patient_id|   sex|age|country|province|        city|      infection_case|infected_by|contact_number|symptom_onset_date|confirmed_date|released_date|deceased_date|   state|\n",
            "+----------+------+---+-------+--------+------------+--------------------+-----------+--------------+------------------+--------------+-------------+-------------+--------+\n",
            "|1000000003|  male|50s|  Korea|   Seoul|   Jongno-gu|contact with patient| 2002000001|            17|              null|    2020-01-30|   2020-02-19|         null|released|\n",
            "|1000000005|female|20s|  Korea|   Seoul| Seongbuk-gu|contact with patient| 1000000002|             2|              null|    2020-01-31|   2020-02-24|         null|released|\n",
            "|1000000006|female|50s|  Korea|   Seoul|   Jongno-gu|contact with patient| 1000000003|            43|              null|    2020-01-31|   2020-02-19|         null|released|\n",
            "|1000000007|  male|20s|  Korea|   Seoul|   Jongno-gu|contact with patient| 1000000003|             0|              null|    2020-01-31|   2020-02-10|         null|released|\n",
            "|1000000010|female|60s|  Korea|   Seoul| Seongbuk-gu|contact with patient| 1000000003|             6|              null|    2020-02-05|   2020-02-29|         null|released|\n",
            "|1000000013|  male|80s|  Korea|   Seoul|   Jongno-gu|contact with patient| 1000000017|           117|              null|    2020-02-16|         null|         null|deceased|\n",
            "|1000000014|female|60s|  Korea|   Seoul|   Jongno-gu|contact with patient| 1000000013|            27|        2020-02-06|    2020-02-16|   2020-03-12|         null|released|\n",
            "|1000000016|  male|70s|  Korea|   Seoul|   Jongno-gu|contact with patient| 1000000017|          null|              null|    2020-02-19|   2020-03-11|         null|released|\n",
            "|1000000017|  male|70s|  Korea|   Seoul|   Jongno-gu|contact with patient| 1000000003|          null|              null|    2020-02-20|   2020-03-01|         null|released|\n",
            "|1000000019|female|70s|  Korea|   Seoul|   Jongno-gu|contact with patient| 1000000021|          null|              null|    2020-02-20|   2020-03-08|         null|released|\n",
            "|1000000020|female|70s|  Korea|   Seoul|Seongdong-gu|    Seongdong-gu APT| 1000000015|          null|              null|    2020-02-20|         null|         null|released|\n",
            "|1000000021|  male|80s|  Korea|   Seoul|   Jongno-gu|contact with patient| 1000000016|          null|              null|    2020-02-20|   2020-03-08|         null|released|\n",
            "|1000000025|  male|60s|  Korea|   Seoul| Gangdong-gu|Eunpyeong St. Mar...| 1000000022|          null|              null|    2020-02-22|         null|         null|released|\n",
            "|1000000029|female|20s|  Korea|   Seoul|   Jongno-gu|Eunpyeong St. Mar...| 1000000028|          null|        2020-02-11|    2020-02-26|   2020-03-11|         null|released|\n",
            "|1000000033|female|50s|  Korea|   Seoul|   Songpa-gu|contact with patient| 1000000031|          null|              null|    2020-02-24|   2020-03-10|         null|released|\n",
            "|1000000034|  male|20s|  Korea|   Seoul|   Songpa-gu|contact with patient| 1000000031|          null|              null|    2020-02-24|   2020-03-17|         null|released|\n",
            "|1000000037|female|40s|  Korea|   Seoul|   Songpa-gu|contact with patient| 1000000031|          null|              null|    2020-02-25|   2020-03-11|         null|released|\n",
            "|1000000040|female|60s|  Korea|   Seoul|   Gwanak-gu|     overseas inflow| 1500000002|          null|              null|    2020-02-25|         null|         null|released|\n",
            "|1000000045|  male|40s|  Korea|   Seoul|   Songpa-gu|contact with patient| 1000000033|          null|              null|    2020-02-26|   2020-03-04|         null|released|\n",
            "|1000000046|female|20s|  Korea|   Seoul|         etc|contact with patient| 1000000041|          null|              null|    2020-02-26|   2020-03-03|         null|released|\n",
            "+----------+------+---+-------+--------+------------+--------------------+-----------+--------------+------------------+--------------+-------------+-------------+--------+\n",
            "only showing top 20 rows\n",
            "\n"
          ]
        }
      ]
    },
    {
      "cell_type": "code",
      "source": [
        "pacientes_info_contagios.filter((col('sex') == 'female') & (col('sex').isNotNull())).drop('released_date', 'deceased_date').show()"
      ],
      "metadata": {
        "colab": {
          "base_uri": "https://localhost:8080/"
        },
        "id": "cQ-Tm6h6JdSL",
        "outputId": "01f8c892-e993-423d-bf6a-2dcb639f91a6"
      },
      "execution_count": 25,
      "outputs": [
        {
          "output_type": "stream",
          "name": "stdout",
          "text": [
            "+----------+------+---+-------+--------+-------------+--------------------+-----------+--------------+------------------+--------------+--------+\n",
            "|patient_id|   sex|age|country|province|         city|      infection_case|infected_by|contact_number|symptom_onset_date|confirmed_date|   state|\n",
            "+----------+------+---+-------+--------+-------------+--------------------+-----------+--------------+------------------+--------------+--------+\n",
            "|1000000005|female|20s|  Korea|   Seoul|  Seongbuk-gu|contact with patient| 1000000002|             2|              null|    2020-01-31|released|\n",
            "|1000000006|female|50s|  Korea|   Seoul|    Jongno-gu|contact with patient| 1000000003|            43|              null|    2020-01-31|released|\n",
            "|1000000010|female|60s|  Korea|   Seoul|  Seongbuk-gu|contact with patient| 1000000003|             6|              null|    2020-02-05|released|\n",
            "|1000000014|female|60s|  Korea|   Seoul|    Jongno-gu|contact with patient| 1000000013|            27|        2020-02-06|    2020-02-16|released|\n",
            "|1000000019|female|70s|  Korea|   Seoul|    Jongno-gu|contact with patient| 1000000021|          null|              null|    2020-02-20|released|\n",
            "|1000000020|female|70s|  Korea|   Seoul| Seongdong-gu|    Seongdong-gu APT| 1000000015|          null|              null|    2020-02-20|released|\n",
            "|1000000029|female|20s|  Korea|   Seoul|    Jongno-gu|Eunpyeong St. Mar...| 1000000028|          null|        2020-02-11|    2020-02-26|released|\n",
            "|1000000033|female|50s|  Korea|   Seoul|    Songpa-gu|contact with patient| 1000000031|          null|              null|    2020-02-24|released|\n",
            "|1000000037|female|40s|  Korea|   Seoul|    Songpa-gu|contact with patient| 1000000031|          null|              null|    2020-02-25|released|\n",
            "|1000000040|female|60s|  Korea|   Seoul|    Gwanak-gu|     overseas inflow| 1500000002|          null|              null|    2020-02-25|released|\n",
            "|1000000046|female|20s|  Korea|   Seoul|          etc|contact with patient| 1000000041|          null|              null|    2020-02-26|released|\n",
            "|1000000053|female|40s|  Korea|   Seoul| Eunpyeong-gu|Eunpyeong St. Mar...| 1000000054|          null|        2020-02-25|    2020-02-27|released|\n",
            "|1000000059|female|60s|  Korea|   Seoul| Eunpyeong-gu|Eunpyeong St. Mar...| 1000000060|          null|              null|    2020-02-28|released|\n",
            "|1000000064|female|30s|  Korea|   Seoul|   Gangnam-gu|contact with patient| 1000000047|          null|        2020-02-26|    2020-02-29|released|\n",
            "|1000000067|female|20s|  Korea|   Seoul|    Songpa-gu|contact with patient| 1000000033|          null|              null|    2020-02-29|released|\n",
            "|1000000113|female|60s|  Korea|   Seoul|   Gangbuk-gu|contact with patient| 1000000111|          null|        2020-02-24|    2020-03-06|released|\n",
            "|1000000114|female|20s|  Korea|   Seoul| Yangcheon-gu|contact with patient| 1000000115|          null|              null|    2020-03-07|released|\n",
            "|1000000121|female| 0s|  Korea|   Seoul|Dongdaemun-gu|contact with patient| 1000000120|          null|        2020-03-04|    2020-03-08|released|\n",
            "|1000000126|female|30s|  Korea|   Seoul|Dongdaemun-gu|contact with patient| 1000000120|          null|        2020-03-04|    2020-03-08|released|\n",
            "|1000000129|female|60s|  Korea|   Seoul|Dongdaemun-gu|contact with patient| 1000000120|          null|              null|    2020-03-08|released|\n",
            "+----------+------+---+-------+--------+-------------+--------------------+-----------+--------------+------------------+--------------+--------+\n",
            "only showing top 20 rows\n",
            "\n"
          ]
        }
      ]
    },
    {
      "cell_type": "code",
      "source": [
        "# c.- Establezca el número de particiones del dataframe resultante del inciso\n",
        "# anterior en dos. Escriba el dataframe resultante en un archivo parquet. La\n",
        "# salida debe estar particionada por la provincia y el modo de escritura debe\n",
        "# ser overwrite."
      ],
      "metadata": {
        "id": "pMGOBIIXfJKN"
      },
      "execution_count": null,
      "outputs": []
    },
    {
      "cell_type": "code",
      "source": [
        "final_df = pacientes_info_contagios.filter((col('sex') == 'female') & (col('sex').isNotNull())).drop('released_date', 'deceased_date')"
      ],
      "metadata": {
        "id": "NUsOsoiJJcjM"
      },
      "execution_count": 26,
      "outputs": []
    },
    {
      "cell_type": "code",
      "source": [
        "final_df.coalesce(2).write.partitionBy('province').mode('overwrite').parquet('/content/data/salida')"
      ],
      "metadata": {
        "id": "nEDhRyYKLyZ2"
      },
      "execution_count": 27,
      "outputs": []
    },
    {
      "cell_type": "markdown",
      "source": [
        "![Captura de pantalla 2024-05-14 220059.png](data:image/png;base64,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)\n"
      ],
      "metadata": {
        "id": "91xR2Vg_Mp9f"
      }
    }
  ]
}