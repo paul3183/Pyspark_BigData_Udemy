{
  "nbformat": 4,
  "nbformat_minor": 0,
  "metadata": {
    "colab": {
      "provenance": [],
      "authorship_tag": "ABX9TyPI2YCvmYQU2Dh9w+HPdKLX",
      "include_colab_link": true
    },
    "kernelspec": {
      "name": "python3",
      "display_name": "Python 3"
    },
    "language_info": {
      "name": "python"
    }
  },
  "cells": [
    {
      "cell_type": "markdown",
      "metadata": {
        "id": "view-in-github",
        "colab_type": "text"
      },
      "source": [
        "<a href=\"https://colab.research.google.com/github/paul3183/Pyspark_BigData_Udemy/blob/main/02_SECCI%C3%93N04_Transformaciones_RDD.ipynb\" target=\"_parent\"><img src=\"https://colab.research.google.com/assets/colab-badge.svg\" alt=\"Open In Colab\"/></a>"
      ]
    },
    {
      "cell_type": "code",
      "execution_count": 4,
      "metadata": {
        "colab": {
          "base_uri": "https://localhost:8080/",
          "height": 271
        },
        "id": "95YFrMVTcZ06",
        "outputId": "ed0c3746-1604-4435-cc86-be2a6e103ff5"
      },
      "outputs": [
        {
          "output_type": "stream",
          "name": "stdout",
          "text": [
            "\u001b[2K     \u001b[90m━━━━━━━━━━━━━━━━━━━━━━━━━━━━━━━━━━━━━━━━\u001b[0m \u001b[32m317.0/317.0 MB\u001b[0m \u001b[31m2.6 MB/s\u001b[0m eta \u001b[36m0:00:00\u001b[0m\n",
            "\u001b[?25h  Preparing metadata (setup.py) ... \u001b[?25l\u001b[?25hdone\n",
            "  Building wheel for pyspark (setup.py) ... \u001b[?25l\u001b[?25hdone\n"
          ]
        },
        {
          "output_type": "execute_result",
          "data": {
            "text/plain": [
              "<pyspark.sql.session.SparkSession at 0x7b72a83e71f0>"
            ],
            "text/html": [
              "\n",
              "            <div>\n",
              "                <p><b>SparkSession - in-memory</b></p>\n",
              "                \n",
              "        <div>\n",
              "            <p><b>SparkContext</b></p>\n",
              "\n",
              "            <p><a href=\"http://375c3b9a7d6f:4040\">Spark UI</a></p>\n",
              "\n",
              "            <dl>\n",
              "              <dt>Version</dt>\n",
              "                <dd><code>v3.4.3</code></dd>\n",
              "              <dt>Master</dt>\n",
              "                <dd><code>local[*]</code></dd>\n",
              "              <dt>AppName</dt>\n",
              "                <dd><code>pyspark-shell</code></dd>\n",
              "            </dl>\n",
              "        </div>\n",
              "        \n",
              "            </div>\n",
              "        "
            ]
          },
          "metadata": {},
          "execution_count": 4
        }
      ],
      "source": [
        "# Instalar SDK Java 8\n",
        "\n",
        "!apt-get install openjdk-8-jdk-headless -qq > /dev/null\n",
        "\n",
        "# Descargar Spark 3.4.3\n",
        "\n",
        "!wget -q https://archive.apache.org/dist/spark/spark-3.4.3/spark-3.4.3-bin-hadoop3.tgz\n",
        "\n",
        "# Descomprimir el archivo descargado de Spark\n",
        "\n",
        "!tar xf spark-3.4.3-bin-hadoop3.tgz\n",
        "\n",
        "# Establecer las variables de entorno\n",
        "\n",
        "import os\n",
        "\n",
        "os.environ[\"JAVA_HOME\"] = \"/usr/lib/jvm/java-8-openjdk-amd64\"\n",
        "os.environ[\"SPARK_HOME\"] = \"/content/spark-3.4.3-bin-hadoop3\"\n",
        "\n",
        "# Instalar la librería findspark\n",
        "\n",
        "!pip install -q findspark\n",
        "\n",
        "# Instalar pyspark\n",
        "\n",
        "!pip install -q pyspark\n",
        "\n",
        "# verificar la instalación ###\n",
        "\n",
        "import findspark\n",
        "\n",
        "findspark.init()\n",
        "\n",
        "from pyspark.sql import SparkSession\n",
        "\n",
        "spark = SparkSession.builder.master(\"local[*]\").getOrCreate()\n",
        "\n",
        "spark"
      ]
    },
    {
      "cell_type": "code",
      "source": [
        "#Función Map:\n",
        "sc = spark.sparkContext"
      ],
      "metadata": {
        "id": "4t2_SPBqcnka"
      },
      "execution_count": 7,
      "outputs": []
    },
    {
      "cell_type": "code",
      "source": [
        "rdd = sc.parallelize([1,2,3,4,5])\n",
        "rdd.collect()"
      ],
      "metadata": {
        "colab": {
          "base_uri": "https://localhost:8080/"
        },
        "id": "Q79rTftferwk",
        "outputId": "31e9f4bf-1adf-4a45-ce52-ba50190bf8eb"
      },
      "execution_count": 8,
      "outputs": [
        {
          "output_type": "execute_result",
          "data": {
            "text/plain": [
              "[1, 2, 3, 4, 5]"
            ]
          },
          "metadata": {},
          "execution_count": 8
        }
      ]
    },
    {
      "cell_type": "code",
      "source": [
        "rdd_resta = rdd.map(lambda x: x - 1)\n",
        "rdd_resta.collect()"
      ],
      "metadata": {
        "colab": {
          "base_uri": "https://localhost:8080/"
        },
        "id": "5AnQpg5fewjC",
        "outputId": "4f9e9e1a-6158-4039-88c8-0948d550a29e"
      },
      "execution_count": 9,
      "outputs": [
        {
          "output_type": "execute_result",
          "data": {
            "text/plain": [
              "[0, 1, 2, 3, 4]"
            ]
          },
          "metadata": {},
          "execution_count": 9
        }
      ]
    },
    {
      "cell_type": "code",
      "source": [
        "rdd_es_par = rdd.map(lambda x: x % 2 == 0)\n",
        "rdd_es_par.collect()"
      ],
      "metadata": {
        "colab": {
          "base_uri": "https://localhost:8080/"
        },
        "id": "r4Gp_YuHfbz3",
        "outputId": "c8224c2e-4c5e-4b4e-c511-a043fd9a2e40"
      },
      "execution_count": 10,
      "outputs": [
        {
          "output_type": "execute_result",
          "data": {
            "text/plain": [
              "[False, True, False, True, False]"
            ]
          },
          "metadata": {},
          "execution_count": 10
        }
      ]
    },
    {
      "cell_type": "code",
      "source": [
        "rdd_texto = sc.parallelize(['jose', 'juan', 'lucia'])\n",
        "rdd_texto_mayuscula = rdd_texto.map(lambda x: x.upper())\n",
        "rdd_texto_mayuscula.collect()"
      ],
      "metadata": {
        "colab": {
          "base_uri": "https://localhost:8080/"
        },
        "id": "VedmIMdWggnn",
        "outputId": "6e772c21-190c-4fd7-99b5-5cd68b40e682"
      },
      "execution_count": 11,
      "outputs": [
        {
          "output_type": "execute_result",
          "data": {
            "text/plain": [
              "['JOSE', 'JUAN', 'LUCIA']"
            ]
          },
          "metadata": {},
          "execution_count": 11
        }
      ]
    },
    {
      "cell_type": "code",
      "source": [
        "rdd_hola = rdd_texto.map(lambda x: 'Hola ' + x)\n",
        "rdd_hola.collect()"
      ],
      "metadata": {
        "colab": {
          "base_uri": "https://localhost:8080/"
        },
        "id": "Dr0M5FtwhQTp",
        "outputId": "4d0d610e-52fe-492d-dece-eda3b2e1be9f"
      },
      "execution_count": 12,
      "outputs": [
        {
          "output_type": "execute_result",
          "data": {
            "text/plain": [
              "['Hola jose', 'Hola juan', 'Hola lucia']"
            ]
          },
          "metadata": {},
          "execution_count": 12
        }
      ]
    },
    {
      "cell_type": "code",
      "source": [
        "#Función FlatMap:\n",
        "rdd2 = sc.parallelize([1,2,3,4,5])\n",
        "rdd2.collect()"
      ],
      "metadata": {
        "colab": {
          "base_uri": "https://localhost:8080/"
        },
        "id": "UB9p8b9Bhix3",
        "outputId": "35ffe411-71c0-482a-831e-38c9efcc31c4"
      },
      "execution_count": 13,
      "outputs": [
        {
          "output_type": "execute_result",
          "data": {
            "text/plain": [
              "[1, 2, 3, 4, 5]"
            ]
          },
          "metadata": {},
          "execution_count": 13
        }
      ]
    },
    {
      "cell_type": "code",
      "source": [
        "rdd_tupla_cuadrado = rdd2.map(lambda x: (x, x**2))\n",
        "rdd_tupla_cuadrado.collect()"
      ],
      "metadata": {
        "colab": {
          "base_uri": "https://localhost:8080/"
        },
        "id": "iaKiQMcMoQhH",
        "outputId": "fbe279b2-9165-45a4-c59e-140059dc8026"
      },
      "execution_count": 14,
      "outputs": [
        {
          "output_type": "execute_result",
          "data": {
            "text/plain": [
              "[(1, 1), (2, 4), (3, 9), (4, 16), (5, 25)]"
            ]
          },
          "metadata": {},
          "execution_count": 14
        }
      ]
    },
    {
      "cell_type": "code",
      "source": [
        "#vemos que nos devuelve un resultado plano de ahi su nombre flatmap.\n",
        "rdd_flat_cuadrado = rdd2.flatMap(lambda x: (x, x**2))\n",
        "rdd_flat_cuadrado.collect()"
      ],
      "metadata": {
        "colab": {
          "base_uri": "https://localhost:8080/"
        },
        "id": "RsNYtZZHogKs",
        "outputId": "26b783bd-a09f-44f5-9726-bda875d7249d"
      },
      "execution_count": 15,
      "outputs": [
        {
          "output_type": "execute_result",
          "data": {
            "text/plain": [
              "[1, 1, 2, 4, 3, 9, 4, 16, 5, 25]"
            ]
          },
          "metadata": {},
          "execution_count": 15
        }
      ]
    },
    {
      "cell_type": "code",
      "source": [
        "rdd_texto_fm = sc.parallelize(['jose', 'juan', 'lucia'])\n",
        "rdd_mayuscula = rdd_texto_fm.flatMap(lambda x: (x, x.upper()))\n",
        "rdd_mayuscula.collect()"
      ],
      "metadata": {
        "colab": {
          "base_uri": "https://localhost:8080/"
        },
        "id": "DU_gAqxro83r",
        "outputId": "56ad184f-3dc3-4694-e4cb-c6d8fcc2a9b8"
      },
      "execution_count": 16,
      "outputs": [
        {
          "output_type": "execute_result",
          "data": {
            "text/plain": [
              "['jose', 'JOSE', 'juan', 'JUAN', 'lucia', 'LUCIA']"
            ]
          },
          "metadata": {},
          "execution_count": 16
        }
      ]
    },
    {
      "cell_type": "code",
      "source": [
        "#FUNCIÓN FILTER:\n",
        "rdd_f = sc.parallelize([1,2,3,4,5,6,7,8,9])\n",
        "rdd_par_f = rdd_f.filter(lambda x: x % 2 == 0)\n",
        "rdd_par_f.collect()"
      ],
      "metadata": {
        "id": "bybr2by6pmrV",
        "colab": {
          "base_uri": "https://localhost:8080/"
        },
        "outputId": "6a16c51d-8d26-451f-c15a-72eb97507800"
      },
      "execution_count": 17,
      "outputs": [
        {
          "output_type": "execute_result",
          "data": {
            "text/plain": [
              "[2, 4, 6, 8]"
            ]
          },
          "metadata": {},
          "execution_count": 17
        }
      ]
    },
    {
      "cell_type": "code",
      "source": [
        "rdd_impar_f = rdd_f.filter(lambda x: x % 2 != 0)\n",
        "rdd_impar_f.collect()"
      ],
      "metadata": {
        "colab": {
          "base_uri": "https://localhost:8080/"
        },
        "id": "Mum3KJhH3gOV",
        "outputId": "cf546120-55be-4b57-c127-d6f6a6a91d9e"
      },
      "execution_count": 18,
      "outputs": [
        {
          "output_type": "execute_result",
          "data": {
            "text/plain": [
              "[1, 3, 5, 7, 9]"
            ]
          },
          "metadata": {},
          "execution_count": 18
        }
      ]
    },
    {
      "cell_type": "code",
      "source": [
        "rdd_texto_f = sc.parallelize(['jose', 'juaquin', 'juan', 'lucia', 'karla', 'katia'])\n",
        "rdd_texto_f_k = rdd_texto_f.filter(lambda x: x.startswith('k'))\n",
        "rdd_texto_f_k.collect()"
      ],
      "metadata": {
        "id": "5k6CliCl3uDn",
        "colab": {
          "base_uri": "https://localhost:8080/"
        },
        "outputId": "ae48e6f1-1834-4f9e-fde2-97cd116584e9"
      },
      "execution_count": 19,
      "outputs": [
        {
          "output_type": "execute_result",
          "data": {
            "text/plain": [
              "['karla', 'katia']"
            ]
          },
          "metadata": {},
          "execution_count": 19
        }
      ]
    },
    {
      "cell_type": "code",
      "source": [
        "rdd_filtro = rdd_texto_f.filter(lambda x: x.startswith('j') and x.find('u') == 1)\n",
        "rdd_filtro.collect()"
      ],
      "metadata": {
        "colab": {
          "base_uri": "https://localhost:8080/"
        },
        "id": "bkD_pmxOTUCl",
        "outputId": "8d081302-be01-498e-c9cd-38b5ae756682"
      },
      "execution_count": 20,
      "outputs": [
        {
          "output_type": "execute_result",
          "data": {
            "text/plain": [
              "['juaquin', 'juan']"
            ]
          },
          "metadata": {},
          "execution_count": 20
        }
      ]
    },
    {
      "cell_type": "code",
      "source": [
        "#FUNCIÓN COALESCE:\n",
        "rdd_coal = sc.parallelize([1,2,3,4,5], 10)\n",
        "rdd_coal.getNumPartitions()"
      ],
      "metadata": {
        "colab": {
          "base_uri": "https://localhost:8080/"
        },
        "id": "2H4DvxoCTm2D",
        "outputId": "8b52e631-47de-4117-a41e-6e60220f2714"
      },
      "execution_count": 21,
      "outputs": [
        {
          "output_type": "execute_result",
          "data": {
            "text/plain": [
              "10"
            ]
          },
          "metadata": {},
          "execution_count": 21
        }
      ]
    },
    {
      "cell_type": "code",
      "source": [
        "rdd.coalesce(5)  #los rdds son inmutables asi que hay que guardarlo en una variable para ver reflejada la funcion coalesce\n",
        "rdd_coal.getNumPartitions()"
      ],
      "metadata": {
        "colab": {
          "base_uri": "https://localhost:8080/"
        },
        "id": "dZ3bpRiwV63V",
        "outputId": "647cf99d-e26b-4516-f34d-79ac357c43b6"
      },
      "execution_count": 23,
      "outputs": [
        {
          "output_type": "execute_result",
          "data": {
            "text/plain": [
              "10"
            ]
          },
          "metadata": {},
          "execution_count": 23
        }
      ]
    },
    {
      "cell_type": "code",
      "source": [
        "rdd_coalesce_aplicado = rdd.coalesce(5)\n",
        "rdd_coalesce_aplicado.getNumPartitions()"
      ],
      "metadata": {
        "colab": {
          "base_uri": "https://localhost:8080/"
        },
        "id": "9qRItm9bWA4a",
        "outputId": "b80070b3-dcf7-45d6-9bb3-dde82bb18f3e"
      },
      "execution_count": 24,
      "outputs": [
        {
          "output_type": "execute_result",
          "data": {
            "text/plain": [
              "2"
            ]
          },
          "metadata": {},
          "execution_count": 24
        }
      ]
    },
    {
      "cell_type": "code",
      "source": [
        "#FUNCIÓN REPARTITION:\n",
        "rdd_rep = sc.parallelize([1,2,3,4,5], 3)\n",
        "rdd_rep.getNumPartitions()"
      ],
      "metadata": {
        "colab": {
          "base_uri": "https://localhost:8080/"
        },
        "id": "JTlIGZ9HWX0-",
        "outputId": "84b26b8b-c3e3-4d76-b634-44e3c0935a7e"
      },
      "execution_count": 25,
      "outputs": [
        {
          "output_type": "execute_result",
          "data": {
            "text/plain": [
              "3"
            ]
          },
          "metadata": {},
          "execution_count": 25
        }
      ]
    },
    {
      "cell_type": "code",
      "source": [
        "rdd_7 = rdd_rep.repartition(7)\n",
        "rdd_7.getNumPartitions()"
      ],
      "metadata": {
        "colab": {
          "base_uri": "https://localhost:8080/"
        },
        "id": "ZzkR08fZXKZ9",
        "outputId": "6b13e949-8762-4675-b093-714164e38448"
      },
      "execution_count": 26,
      "outputs": [
        {
          "output_type": "execute_result",
          "data": {
            "text/plain": [
              "7"
            ]
          },
          "metadata": {},
          "execution_count": 26
        }
      ]
    },
    {
      "cell_type": "code",
      "source": [
        "#FUNCIÓN reduceByKey\n",
        "rdd_rbk = sc.parallelize([('casa',2),('parque',1),('que',5),('casa',1), ('escuela',2), ('casa',1), ('que',1)])"
      ],
      "metadata": {
        "id": "FjgE7c6NXgEK"
      },
      "execution_count": 27,
      "outputs": []
    },
    {
      "cell_type": "code",
      "source": [
        "rdd_rbk.collect()"
      ],
      "metadata": {
        "colab": {
          "base_uri": "https://localhost:8080/"
        },
        "id": "mH_TyDNDZgIF",
        "outputId": "868785ff-e7e1-4893-d7fc-c5ceb94c0af0"
      },
      "execution_count": 28,
      "outputs": [
        {
          "output_type": "execute_result",
          "data": {
            "text/plain": [
              "[('casa', 2),\n",
              " ('parque', 1),\n",
              " ('que', 5),\n",
              " ('casa', 1),\n",
              " ('escuela', 2),\n",
              " ('casa', 1),\n",
              " ('que', 1)]"
            ]
          },
          "metadata": {},
          "execution_count": 28
        }
      ]
    },
    {
      "cell_type": "code",
      "source": [
        "rdd_reducido = rdd_rbk.reduceByKey(lambda x,y: x + y)\n",
        "rdd_reducido.collect()"
      ],
      "metadata": {
        "colab": {
          "base_uri": "https://localhost:8080/"
        },
        "id": "FsSp6y6NZlOO",
        "outputId": "86a42002-404a-4f0a-b71f-4ed61da6dee4"
      },
      "execution_count": 29,
      "outputs": [
        {
          "output_type": "execute_result",
          "data": {
            "text/plain": [
              "[('parque', 1), ('que', 6), ('casa', 4), ('escuela', 2)]"
            ]
          },
          "metadata": {},
          "execution_count": 29
        }
      ]
    },
    {
      "cell_type": "markdown",
      "source": [
        "#EJERCICIOS"
      ],
      "metadata": {
        "id": "8DZkvxreZHct"
      }
    },
    {
      "cell_type": "code",
      "source": [
        "#1.-Cree un RDD llamado lenguajes que contenga los siguientes lenguajes de programación: Python, R, C, Scala, Rugby y SQL.\n",
        "rdd_lenguajes = sc.parallelize(['Python', 'R', 'C', 'Scala', 'Rugby', 'SQL'])"
      ],
      "metadata": {
        "id": "oXyAWcZXZz6_"
      },
      "execution_count": 32,
      "outputs": []
    },
    {
      "cell_type": "code",
      "source": [
        "#a.-Obtenga un nuevo RDD a partir del RDD lenguajes donde todos los lenguajes de programación estén en mayúsculas.\n",
        "rdd_mayus = rdd_lenguajes.map(lambda x: x.upper())\n",
        "rdd_mayus.collect()"
      ],
      "metadata": {
        "colab": {
          "base_uri": "https://localhost:8080/"
        },
        "id": "60x-p4tm7JAZ",
        "outputId": "6eef161b-739d-40ac-bf15-c22a90e14316"
      },
      "execution_count": 33,
      "outputs": [
        {
          "output_type": "execute_result",
          "data": {
            "text/plain": [
              "['PYTHON', 'R', 'C', 'SCALA', 'RUGBY', 'SQL']"
            ]
          },
          "metadata": {},
          "execution_count": 33
        }
      ]
    },
    {
      "cell_type": "code",
      "source": [
        "#b.- Obtenga un nuevo RDD a partir del RDD lenguajes donde todos los lenguajes de programación estén en minúsculas.\n",
        "rdd_minus = rdd_lenguajes.map(lambda x: x.lower())\n",
        "rdd_minus.collect()"
      ],
      "metadata": {
        "colab": {
          "base_uri": "https://localhost:8080/"
        },
        "id": "HQslNLqc7b7G",
        "outputId": "ea926d84-11e6-4b93-b074-e30a7c391b73"
      },
      "execution_count": 34,
      "outputs": [
        {
          "output_type": "execute_result",
          "data": {
            "text/plain": [
              "['python', 'r', 'c', 'scala', 'rugby', 'sql']"
            ]
          },
          "metadata": {},
          "execution_count": 34
        }
      ]
    },
    {
      "cell_type": "code",
      "source": [
        "#c.- Cree un nuevo RDD que solo contenga aquellos lenguajes de programación que comiencen con la letra R.\n",
        "rdd_R = rdd_lenguajes.filter(lambda x: x.startswith('R'))\n",
        "rdd_R.collect()"
      ],
      "metadata": {
        "colab": {
          "base_uri": "https://localhost:8080/"
        },
        "id": "_NbBBD177hKL",
        "outputId": "00a6c66f-c0f6-42d3-eefb-f1829e791683"
      },
      "execution_count": 35,
      "outputs": [
        {
          "output_type": "execute_result",
          "data": {
            "text/plain": [
              "['R', 'Rugby']"
            ]
          },
          "metadata": {},
          "execution_count": 35
        }
      ]
    },
    {
      "cell_type": "code",
      "source": [
        "#2.- Cree un RDD llamado pares que contenga los números pares existentes en el intervalo [20;30].\n",
        "pares = [x for x in range(20,31) if x % 2 == 0]\n",
        "rdd_pares = sc.parallelize(pares)\n",
        "rdd_pares.collect()\n"
      ],
      "metadata": {
        "colab": {
          "base_uri": "https://localhost:8080/"
        },
        "id": "8O--nlyn-_6t",
        "outputId": "254636f7-e2ce-44f6-8c61-13e270f78712"
      },
      "execution_count": 36,
      "outputs": [
        {
          "output_type": "execute_result",
          "data": {
            "text/plain": [
              "[20, 22, 24, 26, 28, 30]"
            ]
          },
          "metadata": {},
          "execution_count": 36
        }
      ]
    },
    {
      "cell_type": "code",
      "source": [
        "#a.- Cree el RDD llamado sqrt, este debe contener la raíz cuadrada de los elementos que componen el RDD pares.\n",
        "import math\n",
        "sqrt = rdd_pares.map(lambda x: math.sqrt(x))\n",
        "sqrt.collect()\n"
      ],
      "metadata": {
        "colab": {
          "base_uri": "https://localhost:8080/"
        },
        "id": "6qmpVsjD_XMo",
        "outputId": "cbc924a5-7efa-460a-b6e1-99891952e453"
      },
      "execution_count": 37,
      "outputs": [
        {
          "output_type": "execute_result",
          "data": {
            "text/plain": [
              "[4.47213595499958,\n",
              " 4.69041575982343,\n",
              " 4.898979485566356,\n",
              " 5.0990195135927845,\n",
              " 5.291502622129181,\n",
              " 5.477225575051661]"
            ]
          },
          "metadata": {},
          "execution_count": 37
        }
      ]
    },
    {
      "cell_type": "code",
      "source": [
        "#b.- Obtenga una lista compuesta por los números pares en el intervalo [20;30] y sus respectivas raíces cuadradas. Un ejemplo del resultado deseado para el intervalo [50;60] sería la lista [50, 7.0710678118654755, 52, 7.211102550927978, 54, 7.3484692283495345, 56, 7.483314773547883, 58, 7.615773105863909, 60, 7.745966692414834].\n",
        "import math\n",
        "list_fm = rdd_pares.flatMap(lambda x: (x, math.sqrt(x)))\n",
        "list_fm.collect()"
      ],
      "metadata": {
        "colab": {
          "base_uri": "https://localhost:8080/"
        },
        "id": "426lPjXjBU69",
        "outputId": "48c1f0bf-5575-41fc-9635-e17d2323476b"
      },
      "execution_count": 40,
      "outputs": [
        {
          "output_type": "execute_result",
          "data": {
            "text/plain": [
              "[20,\n",
              " 4.47213595499958,\n",
              " 22,\n",
              " 4.69041575982343,\n",
              " 24,\n",
              " 4.898979485566356,\n",
              " 26,\n",
              " 5.0990195135927845,\n",
              " 28,\n",
              " 5.291502622129181,\n",
              " 30,\n",
              " 5.477225575051661]"
            ]
          },
          "metadata": {},
          "execution_count": 40
        }
      ]
    },
    {
      "cell_type": "code",
      "source": [
        "#c.- Eleve el número de particiones del RDD sqrt a 20.\n",
        "sqrt.getNumPartitions()"
      ],
      "metadata": {
        "colab": {
          "base_uri": "https://localhost:8080/"
        },
        "id": "KRUq4MMIXzmw",
        "outputId": "1680720a-0505-4948-9d72-f7a20ff5b60a"
      },
      "execution_count": 41,
      "outputs": [
        {
          "output_type": "execute_result",
          "data": {
            "text/plain": [
              "2"
            ]
          },
          "metadata": {},
          "execution_count": 41
        }
      ]
    },
    {
      "cell_type": "code",
      "source": [
        "sqrt_20 = sqrt.repartition(20)\n",
        "sqrt_20.getNumPartitions()"
      ],
      "metadata": {
        "colab": {
          "base_uri": "https://localhost:8080/"
        },
        "id": "G7HFFJIMZpn6",
        "outputId": "1ed6d76d-0b81-414c-e774-6d9910d7d107"
      },
      "execution_count": 42,
      "outputs": [
        {
          "output_type": "execute_result",
          "data": {
            "text/plain": [
              "20"
            ]
          },
          "metadata": {},
          "execution_count": 42
        }
      ]
    },
    {
      "cell_type": "code",
      "source": [
        "#d.- Si tuviera que disminuir el número de particiones luego de haberlo establecido en 20, ¿qué función utilizaría para hacer más eficiente su código?\n",
        "sqrt_coalesce = sqrt_20.coalesce(10)\n",
        "sqrt_coalesce.getNumPartitions()\n",
        "#Usamos la función Coalesce para disminuir el número de particiones."
      ],
      "metadata": {
        "colab": {
          "base_uri": "https://localhost:8080/"
        },
        "id": "ObdOgHykYY4W",
        "outputId": "805ab775-e6b8-4ec3-90cd-c105c935dacc"
      },
      "execution_count": 43,
      "outputs": [
        {
          "output_type": "execute_result",
          "data": {
            "text/plain": [
              "10"
            ]
          },
          "metadata": {},
          "execution_count": 43
        }
      ]
    },
    {
      "cell_type": "code",
      "source": [
        "#3.- Cree un RDD del tipo clave valor a partir de los datos adjuntos como recurso a esta lección. Tenga en cuenta que deberá procesar el RDD leído para obtener el resultado solicitado. Supongamos que el RDD resultante de tipo clave valor refleja las transacciones realizadas por número de cuentas. Obtenga el monto total por cada cuenta.\n",
        "#Esto hay dentro del documento y esta como texto:\n",
        "#(1001, 52.3)\n",
        "#(1005, 20.8)\n",
        "#(1001, 10.1)\n",
        "#(1004, 52.7)\n",
        "#(1005, 20.7)\n",
        "#(1002, 85.3)\n",
        "#(1004, 20.9)\n"
      ],
      "metadata": {
        "id": "j-p638DYYdSr"
      },
      "execution_count": 46,
      "outputs": []
    },
    {
      "cell_type": "code",
      "source": [
        "rdd_data = sc.textFile('./transacciones')\n",
        "rdd_data.collect()"
      ],
      "metadata": {
        "colab": {
          "base_uri": "https://localhost:8080/"
        },
        "id": "F8SVbUbjYreS",
        "outputId": "2ef1d323-e249-43aa-a522-0c83c5e660ad"
      },
      "execution_count": 44,
      "outputs": [
        {
          "output_type": "execute_result",
          "data": {
            "text/plain": [
              "['(1001, 52.3)',\n",
              " '(1005, 20.8)',\n",
              " '(1001, 10.1)',\n",
              " '(1004, 52.7)',\n",
              " '(1005, 20.7)',\n",
              " '(1002, 85.3)',\n",
              " '(1004, 20.9)']"
            ]
          },
          "metadata": {},
          "execution_count": 44
        }
      ]
    },
    {
      "cell_type": "code",
      "source": [
        "#hacemos una función para hacer mas eficiente el código:\n",
        "def proceso(s):\n",
        "  return tuple(s.replace('(', '').replace(')', '').split(', '))"
      ],
      "metadata": {
        "id": "hK6WeOnxbuSA"
      },
      "execution_count": 60,
      "outputs": []
    },
    {
      "cell_type": "code",
      "source": [
        "rdd_llave_valor = rdd_data.map(proceso)\n"
      ],
      "metadata": {
        "id": "euaLxCcMcU6p"
      },
      "execution_count": 61,
      "outputs": []
    },
    {
      "cell_type": "code",
      "source": [
        "rdd_llave_valor.collect()"
      ],
      "metadata": {
        "colab": {
          "base_uri": "https://localhost:8080/"
        },
        "id": "C4UOWqaTccce",
        "outputId": "d6bbd193-82c4-4784-ba0b-dee602a2db79"
      },
      "execution_count": 63,
      "outputs": [
        {
          "output_type": "execute_result",
          "data": {
            "text/plain": [
              "[('1001', '52.3'),\n",
              " ('1005', '20.8'),\n",
              " ('1001', '10.1'),\n",
              " ('1004', '52.7'),\n",
              " ('1005', '20.7'),\n",
              " ('1002', '85.3'),\n",
              " ('1004', '20.9')]"
            ]
          },
          "metadata": {},
          "execution_count": 63
        }
      ]
    },
    {
      "cell_type": "code",
      "source": [
        "rdd_llave_valor.reduceByKey(lambda x,y: float(x) + float(y)).collect()"
      ],
      "metadata": {
        "colab": {
          "base_uri": "https://localhost:8080/"
        },
        "id": "Z3OsqdTrewn0",
        "outputId": "e9b39945-cb5c-49c1-8b7e-ad2bf71369c5"
      },
      "execution_count": 64,
      "outputs": [
        {
          "output_type": "execute_result",
          "data": {
            "text/plain": [
              "[('1002', '85.3'), ('1001', 62.4), ('1005', 41.5), ('1004', 73.6)]"
            ]
          },
          "metadata": {},
          "execution_count": 64
        }
      ]
    }
  ]
}